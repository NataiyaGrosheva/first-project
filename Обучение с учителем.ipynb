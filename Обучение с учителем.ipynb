{
 "cells": [
  {
   "cell_type": "code",
   "execution_count": null,
   "metadata": {},
   "outputs": [],
   "source": []
  },
  {
   "cell_type": "code",
   "execution_count": null,
   "metadata": {},
   "outputs": [],
   "source": []
  },
  {
   "cell_type": "markdown",
   "metadata": {
    "toc": true
   },
   "source": [
    "<h1>Содержание<span class=\"tocSkip\"></span></h1>\n",
    "<div class=\"toc\"><ul class=\"toc-item\"><li><span><a href=\"#Подготовка-данных\" data-toc-modified-id=\"Подготовка-данных-1\"><span class=\"toc-item-num\">1&nbsp;&nbsp;</span>Подготовка данных</a></span></li><li><span><a href=\"#Исследование-задачи\" data-toc-modified-id=\"Исследование-задачи-2\"><span class=\"toc-item-num\">2&nbsp;&nbsp;</span>Исследование задачи</a></span></li><li><span><a href=\"#Борьба-с-дисбалансом\" data-toc-modified-id=\"Борьба-с-дисбалансом-3\"><span class=\"toc-item-num\">3&nbsp;&nbsp;</span>Борьба с дисбалансом</a></span><ul class=\"toc-item\"><li><span><a href=\"#Параметр-class_weight-для-борьбы-с-дисбалансом\" data-toc-modified-id=\"Параметр-class_weight-для-борьбы-с-дисбалансом-3.1\"><span class=\"toc-item-num\">3.1&nbsp;&nbsp;</span>Параметр class_weight для борьбы с дисбалансом</a></span></li><li><span><a href=\"#Увеличение-выборки-для-борьбы-с-дисбалансом\" data-toc-modified-id=\"Увеличение-выборки-для-борьбы-с-дисбалансом-3.2\"><span class=\"toc-item-num\">3.2&nbsp;&nbsp;</span>Увеличение выборки для борьбы с дисбалансом</a></span></li><li><span><a href=\"#Уменьшение-выборки-для-борьбы-с-дисбалансом\" data-toc-modified-id=\"Уменьшение-выборки-для-борьбы-с-дисбалансом-3.3\"><span class=\"toc-item-num\">3.3&nbsp;&nbsp;</span>Уменьшение выборки для борьбы с дисбалансом</a></span></li></ul></li><li><span><a href=\"#Тестирование-модели\" data-toc-modified-id=\"Тестирование-модели-4\"><span class=\"toc-item-num\">4&nbsp;&nbsp;</span>Тестирование модели</a></span></li><li><span><a href=\"#Чек-лист-готовности-проекта\" data-toc-modified-id=\"Чек-лист-готовности-проекта-5\"><span class=\"toc-item-num\">5&nbsp;&nbsp;</span>Чек-лист готовности проекта</a></span></li></ul></div>"
   ]
  },
  {
   "cell_type": "markdown",
   "metadata": {},
   "source": [
    "# Отток клиентов"
   ]
  },
  {
   "cell_type": "markdown",
   "metadata": {},
   "source": [
    "Из «Бета-Банка» стали уходить клиенты. Каждый месяц. Немного, но заметно. Банковские маркетологи посчитали: сохранять текущих клиентов дешевле, чем привлекать новых.\n",
    "\n",
    "Нужно спрогнозировать, уйдёт клиент из банка в ближайшее время или нет. Вам предоставлены исторические данные о поведении клиентов и расторжении договоров с банком. \n",
    "\n",
    "Постройте модель с предельно большим значением *F1*-меры. Чтобы сдать проект успешно, нужно довести метрику до 0.59. Проверьте *F1*-меру на тестовой выборке самостоятельно.\n",
    "\n",
    "Дополнительно измеряйте *AUC-ROC*, сравнивайте её значение с *F1*-мерой.\n",
    "\n",
    "Источник данных: [https://www.kaggle.com/barelydedicated/bank-customer-churn-modeling](https://www.kaggle.com/barelydedicated/bank-customer-churn-modeling)"
   ]
  },
  {
   "cell_type": "markdown",
   "metadata": {},
   "source": [
    "## Подготовка данных"
   ]
  },
  {
   "cell_type": "code",
   "execution_count": 1,
   "metadata": {},
   "outputs": [],
   "source": [
    "import pandas as pd\n",
    "import numpy as np\n",
    "import matplotlib.pyplot as plt\n",
    "import random\n",
    "import seaborn as sns\n",
    "import warnings\n",
    "from sklearn.model_selection import train_test_split\n",
    "from sklearn.preprocessing import StandardScaler\n",
    "from sklearn.linear_model import LogisticRegression\n",
    "from sklearn.model_selection import GridSearchCV\n",
    "from sklearn.ensemble import RandomForestClassifier, GradientBoostingClassifier\n",
    "from sklearn.metrics import accuracy_score,roc_auc_score,f1_score,precision_score, recall_score\n",
    "from sklearn.dummy import DummyClassifier\n",
    "from sklearn.utils import shuffle\n",
    "from sklearn.inspection import permutation_importance"
   ]
  },
  {
   "cell_type": "code",
   "execution_count": 2,
   "metadata": {},
   "outputs": [],
   "source": [
    "# отключить некритические предупреждения в коде\n",
    "warnings.filterwarnings(\"ignore\")"
   ]
  },
  {
   "cell_type": "code",
   "execution_count": 3,
   "metadata": {},
   "outputs": [],
   "source": [
    "# убрать экспонентациальные формы при выводе данных\n",
    "pd.set_option('display.float_format', '{:,.2f}'.format)"
   ]
  },
  {
   "cell_type": "code",
   "execution_count": 4,
   "metadata": {},
   "outputs": [],
   "source": [
    "# сбросим ограничение на количество выводимых столбцов, что бы просмотреть все столбцы\n",
    "pd.set_option('display.max_columns', None)"
   ]
  },
  {
   "cell_type": "code",
   "execution_count": 5,
   "metadata": {},
   "outputs": [],
   "source": [
    "# чтение файла с данными и сохранение в DataFrame\n",
    "df = pd.read_csv('/datasets/Churn.csv',index_col=0)"
   ]
  },
  {
   "cell_type": "code",
   "execution_count": 6,
   "metadata": {},
   "outputs": [
    {
     "data": {
      "text/html": [
       "<div>\n",
       "<style scoped>\n",
       "    .dataframe tbody tr th:only-of-type {\n",
       "        vertical-align: middle;\n",
       "    }\n",
       "\n",
       "    .dataframe tbody tr th {\n",
       "        vertical-align: top;\n",
       "    }\n",
       "\n",
       "    .dataframe thead th {\n",
       "        text-align: right;\n",
       "    }\n",
       "</style>\n",
       "<table border=\"1\" class=\"dataframe\">\n",
       "  <thead>\n",
       "    <tr style=\"text-align: right;\">\n",
       "      <th></th>\n",
       "      <th>CustomerId</th>\n",
       "      <th>Surname</th>\n",
       "      <th>CreditScore</th>\n",
       "      <th>Geography</th>\n",
       "      <th>Gender</th>\n",
       "      <th>Age</th>\n",
       "      <th>Tenure</th>\n",
       "      <th>Balance</th>\n",
       "      <th>NumOfProducts</th>\n",
       "      <th>HasCrCard</th>\n",
       "      <th>IsActiveMember</th>\n",
       "      <th>EstimatedSalary</th>\n",
       "      <th>Exited</th>\n",
       "    </tr>\n",
       "    <tr>\n",
       "      <th>RowNumber</th>\n",
       "      <th></th>\n",
       "      <th></th>\n",
       "      <th></th>\n",
       "      <th></th>\n",
       "      <th></th>\n",
       "      <th></th>\n",
       "      <th></th>\n",
       "      <th></th>\n",
       "      <th></th>\n",
       "      <th></th>\n",
       "      <th></th>\n",
       "      <th></th>\n",
       "      <th></th>\n",
       "    </tr>\n",
       "  </thead>\n",
       "  <tbody>\n",
       "    <tr>\n",
       "      <th>1</th>\n",
       "      <td>15634602</td>\n",
       "      <td>Hargrave</td>\n",
       "      <td>619</td>\n",
       "      <td>France</td>\n",
       "      <td>Female</td>\n",
       "      <td>42</td>\n",
       "      <td>2.00</td>\n",
       "      <td>0.00</td>\n",
       "      <td>1</td>\n",
       "      <td>1</td>\n",
       "      <td>1</td>\n",
       "      <td>101,348.88</td>\n",
       "      <td>1</td>\n",
       "    </tr>\n",
       "    <tr>\n",
       "      <th>2</th>\n",
       "      <td>15647311</td>\n",
       "      <td>Hill</td>\n",
       "      <td>608</td>\n",
       "      <td>Spain</td>\n",
       "      <td>Female</td>\n",
       "      <td>41</td>\n",
       "      <td>1.00</td>\n",
       "      <td>83,807.86</td>\n",
       "      <td>1</td>\n",
       "      <td>0</td>\n",
       "      <td>1</td>\n",
       "      <td>112,542.58</td>\n",
       "      <td>0</td>\n",
       "    </tr>\n",
       "    <tr>\n",
       "      <th>3</th>\n",
       "      <td>15619304</td>\n",
       "      <td>Onio</td>\n",
       "      <td>502</td>\n",
       "      <td>France</td>\n",
       "      <td>Female</td>\n",
       "      <td>42</td>\n",
       "      <td>8.00</td>\n",
       "      <td>159,660.80</td>\n",
       "      <td>3</td>\n",
       "      <td>1</td>\n",
       "      <td>0</td>\n",
       "      <td>113,931.57</td>\n",
       "      <td>1</td>\n",
       "    </tr>\n",
       "    <tr>\n",
       "      <th>4</th>\n",
       "      <td>15701354</td>\n",
       "      <td>Boni</td>\n",
       "      <td>699</td>\n",
       "      <td>France</td>\n",
       "      <td>Female</td>\n",
       "      <td>39</td>\n",
       "      <td>1.00</td>\n",
       "      <td>0.00</td>\n",
       "      <td>2</td>\n",
       "      <td>0</td>\n",
       "      <td>0</td>\n",
       "      <td>93,826.63</td>\n",
       "      <td>0</td>\n",
       "    </tr>\n",
       "    <tr>\n",
       "      <th>5</th>\n",
       "      <td>15737888</td>\n",
       "      <td>Mitchell</td>\n",
       "      <td>850</td>\n",
       "      <td>Spain</td>\n",
       "      <td>Female</td>\n",
       "      <td>43</td>\n",
       "      <td>2.00</td>\n",
       "      <td>125,510.82</td>\n",
       "      <td>1</td>\n",
       "      <td>1</td>\n",
       "      <td>1</td>\n",
       "      <td>79,084.10</td>\n",
       "      <td>0</td>\n",
       "    </tr>\n",
       "  </tbody>\n",
       "</table>\n",
       "</div>"
      ],
      "text/plain": [
       "           CustomerId   Surname  CreditScore Geography  Gender  Age  Tenure  \\\n",
       "RowNumber                                                                     \n",
       "1            15634602  Hargrave          619    France  Female   42    2.00   \n",
       "2            15647311      Hill          608     Spain  Female   41    1.00   \n",
       "3            15619304      Onio          502    France  Female   42    8.00   \n",
       "4            15701354      Boni          699    France  Female   39    1.00   \n",
       "5            15737888  Mitchell          850     Spain  Female   43    2.00   \n",
       "\n",
       "             Balance  NumOfProducts  HasCrCard  IsActiveMember  \\\n",
       "RowNumber                                                        \n",
       "1               0.00              1          1               1   \n",
       "2          83,807.86              1          0               1   \n",
       "3         159,660.80              3          1               0   \n",
       "4               0.00              2          0               0   \n",
       "5         125,510.82              1          1               1   \n",
       "\n",
       "           EstimatedSalary  Exited  \n",
       "RowNumber                           \n",
       "1               101,348.88       1  \n",
       "2               112,542.58       0  \n",
       "3               113,931.57       1  \n",
       "4                93,826.63       0  \n",
       "5                79,084.10       0  "
      ]
     },
     "execution_count": 6,
     "metadata": {},
     "output_type": "execute_result"
    }
   ],
   "source": [
    "# получение первых 5 строк таблицы df\n",
    "df.head()"
   ]
  },
  {
   "cell_type": "code",
   "execution_count": 7,
   "metadata": {},
   "outputs": [
    {
     "name": "stdout",
     "output_type": "stream",
     "text": [
      "<class 'pandas.core.frame.DataFrame'>\n",
      "Int64Index: 10000 entries, 1 to 10000\n",
      "Data columns (total 13 columns):\n",
      " #   Column           Non-Null Count  Dtype  \n",
      "---  ------           --------------  -----  \n",
      " 0   CustomerId       10000 non-null  int64  \n",
      " 1   Surname          10000 non-null  object \n",
      " 2   CreditScore      10000 non-null  int64  \n",
      " 3   Geography        10000 non-null  object \n",
      " 4   Gender           10000 non-null  object \n",
      " 5   Age              10000 non-null  int64  \n",
      " 6   Tenure           9091 non-null   float64\n",
      " 7   Balance          10000 non-null  float64\n",
      " 8   NumOfProducts    10000 non-null  int64  \n",
      " 9   HasCrCard        10000 non-null  int64  \n",
      " 10  IsActiveMember   10000 non-null  int64  \n",
      " 11  EstimatedSalary  10000 non-null  float64\n",
      " 12  Exited           10000 non-null  int64  \n",
      "dtypes: float64(3), int64(7), object(3)\n",
      "memory usage: 1.1+ MB\n"
     ]
    }
   ],
   "source": [
    "df.info()"
   ]
  },
  {
   "cell_type": "markdown",
   "metadata": {},
   "source": [
    "Согласно документации к данным:\n",
    "\n",
    "Каждый объект в наборе данных — это информация о поведении одного пользователя за месяц.\n",
    "\n",
    "Описание данных:\n",
    "\n",
    "-RowNumber — индекс строки в данных\n",
    "\n",
    "-CustomerId — уникальный идентификатор клиента\n",
    "\n",
    "-Surname — фамилия\n",
    "\n",
    "-CreditScore — кредитный рейтинг\n",
    "\n",
    "-Geography — страна проживания\n",
    "\n",
    "-Gender — пол\n",
    "\n",
    "-Age — возраст\n",
    "\n",
    "-Tenure — сколько лет человек является клиентом банка\n",
    "\n",
    "-Balance — баланс на счёте\n",
    "\n",
    "-NumOfProducts — количество продуктов банка, используемых клиентом\n",
    "\n",
    "-HasCrCard — наличие кредитной карты\n",
    "\n",
    "-IsActiveMember — активность клиента\n",
    "\n",
    "-EstimatedSalary — предполагаемая зарплата\n",
    "\n",
    "Целевой признак Exited — факт ухода клиента"
   ]
  },
  {
   "cell_type": "markdown",
   "metadata": {},
   "source": [
    "## Исследование задачи"
   ]
  },
  {
   "cell_type": "code",
   "execution_count": 8,
   "metadata": {},
   "outputs": [
    {
     "data": {
      "text/plain": [
       "France     5014\n",
       "Germany    2509\n",
       "Spain      2477\n",
       "Name: Geography, dtype: int64"
      ]
     },
     "execution_count": 8,
     "metadata": {},
     "output_type": "execute_result"
    }
   ],
   "source": [
    "# Посмотрим значения по столбцу Geography\n",
    "df['Geography'].value_counts()"
   ]
  },
  {
   "cell_type": "code",
   "execution_count": 9,
   "metadata": {},
   "outputs": [
    {
     "data": {
      "text/plain": [
       "Male      5457\n",
       "Female    4543\n",
       "Name: Gender, dtype: int64"
      ]
     },
     "execution_count": 9,
     "metadata": {},
     "output_type": "execute_result"
    }
   ],
   "source": [
    "# Посмотрим значения по столбцу Gender\n",
    "df['Gender'].value_counts()"
   ]
  },
  {
   "cell_type": "code",
   "execution_count": 10,
   "metadata": {},
   "outputs": [],
   "source": [
    "# удалим колонки CustomerId,Surname. Предполагаем , что id и фамилия клиента совершенно не влияют на факт ухода клиента\n",
    "df.drop(columns=['CustomerId','Surname'],axis=1,inplace=True)"
   ]
  },
  {
   "cell_type": "code",
   "execution_count": 11,
   "metadata": {},
   "outputs": [
    {
     "data": {
      "text/html": [
       "<div>\n",
       "<style scoped>\n",
       "    .dataframe tbody tr th:only-of-type {\n",
       "        vertical-align: middle;\n",
       "    }\n",
       "\n",
       "    .dataframe tbody tr th {\n",
       "        vertical-align: top;\n",
       "    }\n",
       "\n",
       "    .dataframe thead th {\n",
       "        text-align: right;\n",
       "    }\n",
       "</style>\n",
       "<table border=\"1\" class=\"dataframe\">\n",
       "  <thead>\n",
       "    <tr style=\"text-align: right;\">\n",
       "      <th></th>\n",
       "      <th>CreditScore</th>\n",
       "      <th>Age</th>\n",
       "      <th>Tenure</th>\n",
       "      <th>Balance</th>\n",
       "      <th>NumOfProducts</th>\n",
       "      <th>HasCrCard</th>\n",
       "      <th>IsActiveMember</th>\n",
       "      <th>EstimatedSalary</th>\n",
       "      <th>Exited</th>\n",
       "      <th>Geography_Germany</th>\n",
       "      <th>Geography_Spain</th>\n",
       "      <th>Gender_Male</th>\n",
       "    </tr>\n",
       "    <tr>\n",
       "      <th>RowNumber</th>\n",
       "      <th></th>\n",
       "      <th></th>\n",
       "      <th></th>\n",
       "      <th></th>\n",
       "      <th></th>\n",
       "      <th></th>\n",
       "      <th></th>\n",
       "      <th></th>\n",
       "      <th></th>\n",
       "      <th></th>\n",
       "      <th></th>\n",
       "      <th></th>\n",
       "    </tr>\n",
       "  </thead>\n",
       "  <tbody>\n",
       "    <tr>\n",
       "      <th>1</th>\n",
       "      <td>619</td>\n",
       "      <td>42</td>\n",
       "      <td>2.00</td>\n",
       "      <td>0.00</td>\n",
       "      <td>1</td>\n",
       "      <td>1</td>\n",
       "      <td>1</td>\n",
       "      <td>101,348.88</td>\n",
       "      <td>1</td>\n",
       "      <td>0</td>\n",
       "      <td>0</td>\n",
       "      <td>0</td>\n",
       "    </tr>\n",
       "    <tr>\n",
       "      <th>2</th>\n",
       "      <td>608</td>\n",
       "      <td>41</td>\n",
       "      <td>1.00</td>\n",
       "      <td>83,807.86</td>\n",
       "      <td>1</td>\n",
       "      <td>0</td>\n",
       "      <td>1</td>\n",
       "      <td>112,542.58</td>\n",
       "      <td>0</td>\n",
       "      <td>0</td>\n",
       "      <td>1</td>\n",
       "      <td>0</td>\n",
       "    </tr>\n",
       "    <tr>\n",
       "      <th>3</th>\n",
       "      <td>502</td>\n",
       "      <td>42</td>\n",
       "      <td>8.00</td>\n",
       "      <td>159,660.80</td>\n",
       "      <td>3</td>\n",
       "      <td>1</td>\n",
       "      <td>0</td>\n",
       "      <td>113,931.57</td>\n",
       "      <td>1</td>\n",
       "      <td>0</td>\n",
       "      <td>0</td>\n",
       "      <td>0</td>\n",
       "    </tr>\n",
       "    <tr>\n",
       "      <th>4</th>\n",
       "      <td>699</td>\n",
       "      <td>39</td>\n",
       "      <td>1.00</td>\n",
       "      <td>0.00</td>\n",
       "      <td>2</td>\n",
       "      <td>0</td>\n",
       "      <td>0</td>\n",
       "      <td>93,826.63</td>\n",
       "      <td>0</td>\n",
       "      <td>0</td>\n",
       "      <td>0</td>\n",
       "      <td>0</td>\n",
       "    </tr>\n",
       "    <tr>\n",
       "      <th>5</th>\n",
       "      <td>850</td>\n",
       "      <td>43</td>\n",
       "      <td>2.00</td>\n",
       "      <td>125,510.82</td>\n",
       "      <td>1</td>\n",
       "      <td>1</td>\n",
       "      <td>1</td>\n",
       "      <td>79,084.10</td>\n",
       "      <td>0</td>\n",
       "      <td>0</td>\n",
       "      <td>1</td>\n",
       "      <td>0</td>\n",
       "    </tr>\n",
       "  </tbody>\n",
       "</table>\n",
       "</div>"
      ],
      "text/plain": [
       "           CreditScore  Age  Tenure    Balance  NumOfProducts  HasCrCard  \\\n",
       "RowNumber                                                                  \n",
       "1                  619   42    2.00       0.00              1          1   \n",
       "2                  608   41    1.00  83,807.86              1          0   \n",
       "3                  502   42    8.00 159,660.80              3          1   \n",
       "4                  699   39    1.00       0.00              2          0   \n",
       "5                  850   43    2.00 125,510.82              1          1   \n",
       "\n",
       "           IsActiveMember  EstimatedSalary  Exited  Geography_Germany  \\\n",
       "RowNumber                                                               \n",
       "1                       1       101,348.88       1                  0   \n",
       "2                       1       112,542.58       0                  0   \n",
       "3                       0       113,931.57       1                  0   \n",
       "4                       0        93,826.63       0                  0   \n",
       "5                       1        79,084.10       0                  0   \n",
       "\n",
       "           Geography_Spain  Gender_Male  \n",
       "RowNumber                                \n",
       "1                        0            0  \n",
       "2                        1            0  \n",
       "3                        0            0  \n",
       "4                        0            0  \n",
       "5                        1            0  "
      ]
     },
     "execution_count": 11,
     "metadata": {},
     "output_type": "execute_result"
    }
   ],
   "source": [
    "# Применим one hot encoding к датафрейму, избежав \"ловушку фиктивных признаков\"\n",
    "df_ohe=pd.get_dummies(df, drop_first=True)\n",
    "df_ohe.head()"
   ]
  },
  {
   "cell_type": "code",
   "execution_count": 12,
   "metadata": {},
   "outputs": [
    {
     "data": {
      "text/plain": [
       "count   9,091.00\n",
       "mean        5.00\n",
       "std         2.89\n",
       "min         0.00\n",
       "25%         2.00\n",
       "50%         5.00\n",
       "75%         7.00\n",
       "max        10.00\n",
       "Name: Tenure, dtype: float64"
      ]
     },
     "execution_count": 12,
     "metadata": {},
     "output_type": "execute_result"
    }
   ],
   "source": [
    "# посмотрим статистики по столбцу Tenure\n",
    "df_ohe['Tenure'].describe()"
   ]
  },
  {
   "cell_type": "code",
   "execution_count": 13,
   "metadata": {},
   "outputs": [
    {
     "data": {
      "text/plain": [
       "1.00     952\n",
       "2.00     950\n",
       "8.00     933\n",
       "3.00     928\n",
       "5.00     927\n",
       "7.00     925\n",
       "4.00     885\n",
       "9.00     882\n",
       "6.00     881\n",
       "10.00    446\n",
       "0.00     382\n",
       "Name: Tenure, dtype: int64"
      ]
     },
     "execution_count": 13,
     "metadata": {},
     "output_type": "execute_result"
    }
   ],
   "source": [
    "# посмотрим значения по столбцу Tenure\n",
    "df_ohe['Tenure'].value_counts()"
   ]
  },
  {
   "cell_type": "code",
   "execution_count": 14,
   "metadata": {},
   "outputs": [
    {
     "data": {
      "image/png": "[encoded data removed]",
      "text/plain": [
       "<Figure size 432x288 with 1 Axes>"
      ]
     },
     "metadata": {
      "needs_background": "light"
     },
     "output_type": "display_data"
    }
   ],
   "source": [
    "# построим гистограмму по столбцу Tenure\n",
    "df_ohe['Tenure'].hist(bins=11)\n",
    "plt.show()\n"
   ]
  },
  {
   "cell_type": "markdown",
   "metadata": {},
   "source": [
    "Количество пропусков в Tenure чуть меньше 10 %, с другой стороны к запонению пропусков  нужно подойти ответственно, рандомные числа дадут искаженную инфо, как и заполнение нулями, я принимаю решение их удалить."
   ]
  },
  {
   "cell_type": "code",
   "execution_count": 15,
   "metadata": {},
   "outputs": [],
   "source": [
    "#df_ohe['Tenure'].fillna(0,inplace=True) #при построении гистограммы заполнение \n",
    "#нулем не подошло, закоментировала этот код\n",
    "#data = (np.random.randint(0,10,size=df_ohe['Tenure'].isna().sum()))\n",
    "#df_ohe.loc[df_ohe['Tenure'].isna(),'Tenure']=data\n",
    "#df_ohe['Tenure'].fillna(df_ohe['Tenure'].median(), inplace=True)\n",
    "df_ohe.dropna(subset=['Tenure'], axis=0,inplace=True) \n"
   ]
  },
  {
   "cell_type": "code",
   "execution_count": 16,
   "metadata": {},
   "outputs": [
    {
     "data": {
      "text/plain": [
       "count   9,091.00\n",
       "mean        5.00\n",
       "std         2.89\n",
       "min         0.00\n",
       "25%         2.00\n",
       "50%         5.00\n",
       "75%         7.00\n",
       "max        10.00\n",
       "Name: Tenure, dtype: float64"
      ]
     },
     "execution_count": 16,
     "metadata": {},
     "output_type": "execute_result"
    }
   ],
   "source": [
    "df_ohe['Tenure'].describe()"
   ]
  },
  {
   "cell_type": "code",
   "execution_count": 17,
   "metadata": {},
   "outputs": [
    {
     "name": "stdout",
     "output_type": "stream",
     "text": [
      "<class 'pandas.core.frame.DataFrame'>\n",
      "Int64Index: 9091 entries, 1 to 9999\n",
      "Data columns (total 12 columns):\n",
      " #   Column             Non-Null Count  Dtype  \n",
      "---  ------             --------------  -----  \n",
      " 0   CreditScore        9091 non-null   int64  \n",
      " 1   Age                9091 non-null   int64  \n",
      " 2   Tenure             9091 non-null   float64\n",
      " 3   Balance            9091 non-null   float64\n",
      " 4   NumOfProducts      9091 non-null   int64  \n",
      " 5   HasCrCard          9091 non-null   int64  \n",
      " 6   IsActiveMember     9091 non-null   int64  \n",
      " 7   EstimatedSalary    9091 non-null   float64\n",
      " 8   Exited             9091 non-null   int64  \n",
      " 9   Geography_Germany  9091 non-null   uint8  \n",
      " 10  Geography_Spain    9091 non-null   uint8  \n",
      " 11  Gender_Male        9091 non-null   uint8  \n",
      "dtypes: float64(3), int64(6), uint8(3)\n",
      "memory usage: 736.9 KB\n"
     ]
    }
   ],
   "source": [
    "df_ohe.info()"
   ]
  },
  {
   "cell_type": "code",
   "execution_count": 18,
   "metadata": {},
   "outputs": [
    {
     "data": {
      "image/png": "[encoded data removed]",
      "text/plain": [
       "<Figure size 432x288 with 1 Axes>"
      ]
     },
     "metadata": {
      "needs_background": "light"
     },
     "output_type": "display_data"
    }
   ],
   "source": [
    "# Посмотрим повторно гистограмму по столбцу Tenure\n",
    "df_ohe['Tenure'].hist(bins=11)\n",
    "plt.show()"
   ]
  },
  {
   "cell_type": "code",
   "execution_count": 19,
   "metadata": {},
   "outputs": [
    {
     "data": {
      "text/plain": [
       "CreditScore          0\n",
       "Age                  0\n",
       "Tenure               0\n",
       "Balance              0\n",
       "NumOfProducts        0\n",
       "HasCrCard            0\n",
       "IsActiveMember       0\n",
       "EstimatedSalary      0\n",
       "Exited               0\n",
       "Geography_Germany    0\n",
       "Geography_Spain      0\n",
       "Gender_Male          0\n",
       "dtype: int64"
      ]
     },
     "execution_count": 19,
     "metadata": {},
     "output_type": "execute_result"
    }
   ],
   "source": [
    "# Проверим, что в датафрейме отсутствуют пропущенные значения\n",
    "df_ohe.isna().sum()"
   ]
  },
  {
   "cell_type": "code",
   "execution_count": 20,
   "metadata": {},
   "outputs": [],
   "source": [
    "# Создадим список с числовыми столбцами\n",
    "numeric = ['CreditScore','Age','Balance','NumOfProducts','EstimatedSalary','Tenure']"
   ]
  },
  {
   "cell_type": "code",
   "execution_count": 21,
   "metadata": {},
   "outputs": [
    {
     "data": {
      "text/html": [
       "<style  type=\"text/css\" >\n",
       "#T_89e3c_row0_col0,#T_89e3c_row0_col1,#T_89e3c_row0_col2,#T_89e3c_row0_col3,#T_89e3c_row0_col4,#T_89e3c_row0_col5,#T_89e3c_row1_col0,#T_89e3c_row1_col1,#T_89e3c_row1_col2,#T_89e3c_row1_col3,#T_89e3c_row1_col4,#T_89e3c_row1_col5,#T_89e3c_row2_col0,#T_89e3c_row2_col1,#T_89e3c_row2_col2,#T_89e3c_row2_col3,#T_89e3c_row2_col4,#T_89e3c_row2_col5,#T_89e3c_row3_col0,#T_89e3c_row3_col1,#T_89e3c_row3_col2,#T_89e3c_row3_col3,#T_89e3c_row3_col4,#T_89e3c_row3_col5,#T_89e3c_row4_col0,#T_89e3c_row4_col1,#T_89e3c_row4_col2,#T_89e3c_row4_col3,#T_89e3c_row4_col4,#T_89e3c_row4_col5,#T_89e3c_row5_col0,#T_89e3c_row5_col1,#T_89e3c_row5_col2,#T_89e3c_row5_col3,#T_89e3c_row5_col4,#T_89e3c_row5_col5{\n",
       "            color:  black;\n",
       "        }</style><table id=\"T_89e3c_\" ><thead>    <tr>        <th class=\"blank level0\" ></th>        <th class=\"col_heading level0 col0\" >CreditScore</th>        <th class=\"col_heading level0 col1\" >Age</th>        <th class=\"col_heading level0 col2\" >Balance</th>        <th class=\"col_heading level0 col3\" >NumOfProducts</th>        <th class=\"col_heading level0 col4\" >EstimatedSalary</th>        <th class=\"col_heading level0 col5\" >Tenure</th>    </tr></thead><tbody>\n",
       "                <tr>\n",
       "                        <th id=\"T_89e3c_level0_row0\" class=\"row_heading level0 row0\" >CreditScore</th>\n",
       "                        <td id=\"T_89e3c_row0_col0\" class=\"data row0 col0\" >1.000000</td>\n",
       "                        <td id=\"T_89e3c_row0_col1\" class=\"data row0 col1\" >-0.004504</td>\n",
       "                        <td id=\"T_89e3c_row0_col2\" class=\"data row0 col2\" >0.002804</td>\n",
       "                        <td id=\"T_89e3c_row0_col3\" class=\"data row0 col3\" >0.011090</td>\n",
       "                        <td id=\"T_89e3c_row0_col4\" class=\"data row0 col4\" >0.005182</td>\n",
       "                        <td id=\"T_89e3c_row0_col5\" class=\"data row0 col5\" >-0.000062</td>\n",
       "            </tr>\n",
       "            <tr>\n",
       "                        <th id=\"T_89e3c_level0_row1\" class=\"row_heading level0 row1\" >Age</th>\n",
       "                        <td id=\"T_89e3c_row1_col0\" class=\"data row1 col0\" >-0.004504</td>\n",
       "                        <td id=\"T_89e3c_row1_col1\" class=\"data row1 col1\" >1.000000</td>\n",
       "                        <td id=\"T_89e3c_row1_col2\" class=\"data row1 col2\" >0.031481</td>\n",
       "                        <td id=\"T_89e3c_row1_col3\" class=\"data row1 col3\" >-0.031877</td>\n",
       "                        <td id=\"T_89e3c_row1_col4\" class=\"data row1 col4\" >-0.007037</td>\n",
       "                        <td id=\"T_89e3c_row1_col5\" class=\"data row1 col5\" >-0.013134</td>\n",
       "            </tr>\n",
       "            <tr>\n",
       "                        <th id=\"T_89e3c_level0_row2\" class=\"row_heading level0 row2\" >Balance</th>\n",
       "                        <td id=\"T_89e3c_row2_col0\" class=\"data row2 col0\" >0.002804</td>\n",
       "                        <td id=\"T_89e3c_row2_col1\" class=\"data row2 col1\" >0.031481</td>\n",
       "                        <td id=\"T_89e3c_row2_col2\" class=\"data row2 col2\" >1.000000</td>\n",
       "                        <td id=\"T_89e3c_row2_col3\" class=\"data row2 col3\" >-0.301858</td>\n",
       "                        <td id=\"T_89e3c_row2_col4\" class=\"data row2 col4\" >0.014351</td>\n",
       "                        <td id=\"T_89e3c_row2_col5\" class=\"data row2 col5\" >-0.007911</td>\n",
       "            </tr>\n",
       "            <tr>\n",
       "                        <th id=\"T_89e3c_level0_row3\" class=\"row_heading level0 row3\" >NumOfProducts</th>\n",
       "                        <td id=\"T_89e3c_row3_col0\" class=\"data row3 col0\" >0.011090</td>\n",
       "                        <td id=\"T_89e3c_row3_col1\" class=\"data row3 col1\" >-0.031877</td>\n",
       "                        <td id=\"T_89e3c_row3_col2\" class=\"data row3 col2\" >-0.301858</td>\n",
       "                        <td id=\"T_89e3c_row3_col3\" class=\"data row3 col3\" >1.000000</td>\n",
       "                        <td id=\"T_89e3c_row3_col4\" class=\"data row3 col4\" >0.013990</td>\n",
       "                        <td id=\"T_89e3c_row3_col5\" class=\"data row3 col5\" >0.011979</td>\n",
       "            </tr>\n",
       "            <tr>\n",
       "                        <th id=\"T_89e3c_level0_row4\" class=\"row_heading level0 row4\" >EstimatedSalary</th>\n",
       "                        <td id=\"T_89e3c_row4_col0\" class=\"data row4 col0\" >0.005182</td>\n",
       "                        <td id=\"T_89e3c_row4_col1\" class=\"data row4 col1\" >-0.007037</td>\n",
       "                        <td id=\"T_89e3c_row4_col2\" class=\"data row4 col2\" >0.014351</td>\n",
       "                        <td id=\"T_89e3c_row4_col3\" class=\"data row4 col3\" >0.013990</td>\n",
       "                        <td id=\"T_89e3c_row4_col4\" class=\"data row4 col4\" >1.000000</td>\n",
       "                        <td id=\"T_89e3c_row4_col5\" class=\"data row4 col5\" >0.010520</td>\n",
       "            </tr>\n",
       "            <tr>\n",
       "                        <th id=\"T_89e3c_level0_row5\" class=\"row_heading level0 row5\" >Tenure</th>\n",
       "                        <td id=\"T_89e3c_row5_col0\" class=\"data row5 col0\" >-0.000062</td>\n",
       "                        <td id=\"T_89e3c_row5_col1\" class=\"data row5 col1\" >-0.013134</td>\n",
       "                        <td id=\"T_89e3c_row5_col2\" class=\"data row5 col2\" >-0.007911</td>\n",
       "                        <td id=\"T_89e3c_row5_col3\" class=\"data row5 col3\" >0.011979</td>\n",
       "                        <td id=\"T_89e3c_row5_col4\" class=\"data row5 col4\" >0.010520</td>\n",
       "                        <td id=\"T_89e3c_row5_col5\" class=\"data row5 col5\" >1.000000</td>\n",
       "            </tr>\n",
       "    </tbody></table>"
      ],
      "text/plain": [
       "<pandas.io.formats.style.Styler at 0x7fb327c84f40>"
      ]
     },
     "execution_count": 21,
     "metadata": {},
     "output_type": "execute_result"
    }
   ],
   "source": [
    "# посмотрим корреляцию факторов\n",
    "df_ohe.loc[:,numeric].corr().style.applymap(lambda x: f\"color: {'red' if (abs(x) > 0.5  and x !=1)else 'black'}\")\n",
    "    "
   ]
  },
  {
   "cell_type": "code",
   "execution_count": 22,
   "metadata": {},
   "outputs": [
    {
     "data": {
      "image/png": "[encoded data removed]",
      "text/plain": [
       "<Figure size 432x288 with 2 Axes>"
      ]
     },
     "metadata": {
      "needs_background": "light"
     },
     "output_type": "display_data"
    }
   ],
   "source": [
    "# для наглядности построим heatmap матрицы корреляции\n",
    "sns.heatmap(df_ohe.loc[:,numeric].corr(),\n",
    "            xticklabels=df_ohe.loc[:,numeric].corr().columns,\n",
    "            yticklabels=df_ohe.loc[:,numeric].corr().columns)\n",
    "plt.title('Heatmap матрицы корреляции параметров исходных данных')\n",
    "plt.show()"
   ]
  },
  {
   "cell_type": "markdown",
   "metadata": {},
   "source": [
    "Корреляции между числовыми столбцами не обнаружено, самое больше значение 0,3 это корреляция между Количеством продуктов и балансом на счете. Проверим наличие ложной корреляции, посмотрим скатерплоты"
   ]
  },
  {
   "cell_type": "code",
   "execution_count": 23,
   "metadata": {},
   "outputs": [
    {
     "data": {
      "image/png": "[encoded data removed]",
      "text/plain": [
       "<Figure size 1080x1080 with 36 Axes>"
      ]
     },
     "metadata": {
      "needs_background": "light"
     },
     "output_type": "display_data"
    }
   ],
   "source": [
    "pd.plotting.scatter_matrix(df_ohe.loc[:,numeric],figsize=(15,15))\n",
    "plt.show()"
   ]
  },
  {
   "cell_type": "markdown",
   "metadata": {},
   "source": [
    "По графикам так же не обнаружено ложной корреляции между столбцами, все числовые столбцы оставляем в датафрейме для обучения модели."
   ]
  },
  {
   "cell_type": "code",
   "execution_count": 24,
   "metadata": {},
   "outputs": [
    {
     "data": {
      "text/html": [
       "<div>\n",
       "<style scoped>\n",
       "    .dataframe tbody tr th:only-of-type {\n",
       "        vertical-align: middle;\n",
       "    }\n",
       "\n",
       "    .dataframe tbody tr th {\n",
       "        vertical-align: top;\n",
       "    }\n",
       "\n",
       "    .dataframe thead th {\n",
       "        text-align: right;\n",
       "    }\n",
       "</style>\n",
       "<table border=\"1\" class=\"dataframe\">\n",
       "  <thead>\n",
       "    <tr style=\"text-align: right;\">\n",
       "      <th></th>\n",
       "      <th>CreditScore</th>\n",
       "      <th>Age</th>\n",
       "      <th>Balance</th>\n",
       "      <th>NumOfProducts</th>\n",
       "      <th>EstimatedSalary</th>\n",
       "      <th>Tenure</th>\n",
       "    </tr>\n",
       "  </thead>\n",
       "  <tbody>\n",
       "    <tr>\n",
       "      <th>count</th>\n",
       "      <td>9,091.00</td>\n",
       "      <td>9,091.00</td>\n",
       "      <td>9,091.00</td>\n",
       "      <td>9,091.00</td>\n",
       "      <td>9,091.00</td>\n",
       "      <td>9,091.00</td>\n",
       "    </tr>\n",
       "    <tr>\n",
       "      <th>mean</th>\n",
       "      <td>650.74</td>\n",
       "      <td>38.95</td>\n",
       "      <td>76,522.74</td>\n",
       "      <td>1.53</td>\n",
       "      <td>100,181.21</td>\n",
       "      <td>5.00</td>\n",
       "    </tr>\n",
       "    <tr>\n",
       "      <th>std</th>\n",
       "      <td>96.41</td>\n",
       "      <td>10.56</td>\n",
       "      <td>62,329.53</td>\n",
       "      <td>0.58</td>\n",
       "      <td>57,624.76</td>\n",
       "      <td>2.89</td>\n",
       "    </tr>\n",
       "    <tr>\n",
       "      <th>min</th>\n",
       "      <td>350.00</td>\n",
       "      <td>18.00</td>\n",
       "      <td>0.00</td>\n",
       "      <td>1.00</td>\n",
       "      <td>11.58</td>\n",
       "      <td>0.00</td>\n",
       "    </tr>\n",
       "    <tr>\n",
       "      <th>25%</th>\n",
       "      <td>584.00</td>\n",
       "      <td>32.00</td>\n",
       "      <td>0.00</td>\n",
       "      <td>1.00</td>\n",
       "      <td>51,227.74</td>\n",
       "      <td>2.00</td>\n",
       "    </tr>\n",
       "    <tr>\n",
       "      <th>50%</th>\n",
       "      <td>652.00</td>\n",
       "      <td>37.00</td>\n",
       "      <td>97,318.25</td>\n",
       "      <td>1.00</td>\n",
       "      <td>100,240.20</td>\n",
       "      <td>5.00</td>\n",
       "    </tr>\n",
       "    <tr>\n",
       "      <th>75%</th>\n",
       "      <td>717.00</td>\n",
       "      <td>44.00</td>\n",
       "      <td>127,561.89</td>\n",
       "      <td>2.00</td>\n",
       "      <td>149,567.21</td>\n",
       "      <td>7.00</td>\n",
       "    </tr>\n",
       "    <tr>\n",
       "      <th>max</th>\n",
       "      <td>850.00</td>\n",
       "      <td>92.00</td>\n",
       "      <td>250,898.09</td>\n",
       "      <td>4.00</td>\n",
       "      <td>199,992.48</td>\n",
       "      <td>10.00</td>\n",
       "    </tr>\n",
       "  </tbody>\n",
       "</table>\n",
       "</div>"
      ],
      "text/plain": [
       "       CreditScore      Age    Balance  NumOfProducts  EstimatedSalary  \\\n",
       "count     9,091.00 9,091.00   9,091.00       9,091.00         9,091.00   \n",
       "mean        650.74    38.95  76,522.74           1.53       100,181.21   \n",
       "std          96.41    10.56  62,329.53           0.58        57,624.76   \n",
       "min         350.00    18.00       0.00           1.00            11.58   \n",
       "25%         584.00    32.00       0.00           1.00        51,227.74   \n",
       "50%         652.00    37.00  97,318.25           1.00       100,240.20   \n",
       "75%         717.00    44.00 127,561.89           2.00       149,567.21   \n",
       "max         850.00    92.00 250,898.09           4.00       199,992.48   \n",
       "\n",
       "        Tenure  \n",
       "count 9,091.00  \n",
       "mean      5.00  \n",
       "std       2.89  \n",
       "min       0.00  \n",
       "25%       2.00  \n",
       "50%       5.00  \n",
       "75%       7.00  \n",
       "max      10.00  "
      ]
     },
     "execution_count": 24,
     "metadata": {},
     "output_type": "execute_result"
    }
   ],
   "source": [
    "# Проверим наличие аномальных значений по числовым столбцам\n",
    "df_ohe[numeric].describe()"
   ]
  },
  {
   "cell_type": "code",
   "execution_count": 25,
   "metadata": {},
   "outputs": [],
   "source": [
    "# Выделем целевой столбец из датафрейма\n",
    "target = df_ohe['Exited']"
   ]
  },
  {
   "cell_type": "code",
   "execution_count": 26,
   "metadata": {},
   "outputs": [],
   "source": [
    "# Выделем датафрейм признаков  \n",
    "features = df_ohe.drop('Exited', axis=1)"
   ]
  },
  {
   "cell_type": "code",
   "execution_count": 27,
   "metadata": {},
   "outputs": [],
   "source": [
    "# разделим все данные на тестовую и обучающую выборку. В связи с применением GridSearchCV \n",
    "# выделять валидационную выборку отдельно нет необходимости\n",
    "features_train, features_test, target_train, target_test = train_test_split(\n",
    "    features, target, test_size=0.25, random_state=12345)"
   ]
  },
  {
   "cell_type": "code",
   "execution_count": 28,
   "metadata": {},
   "outputs": [
    {
     "name": "stdout",
     "output_type": "stream",
     "text": [
      "(6818, 11)\n",
      "(2273, 11)\n"
     ]
    }
   ],
   "source": [
    "# Нормируем числовые данные, используя StandardScaler\n",
    "scaler = StandardScaler()\n",
    "scaler.fit(features_train[numeric])\n",
    "features_train[numeric] = scaler.transform(features_train[numeric])\n",
    "features_test[numeric] = scaler.transform(features_test[numeric])\n",
    "\n",
    "print(features_train.shape)\n",
    "print(features_test.shape)"
   ]
  },
  {
   "cell_type": "code",
   "execution_count": 29,
   "metadata": {},
   "outputs": [
    {
     "data": {
      "text/plain": [
       "((7237, 11), (1854, 11))"
      ]
     },
     "execution_count": 29,
     "metadata": {},
     "output_type": "execute_result"
    }
   ],
   "source": [
    "# Посмотрим количество объектов отрицательного и положительно класса\n",
    "features[target == 0].shape, features[target == 1].shape"
   ]
  },
  {
   "cell_type": "markdown",
   "metadata": {},
   "source": [
    "Наблюдается дисбаланс классов, объектов отрицательного класса почти в 4 раза больше , чем объектов положительного. Рассчитаем базовые модели на несбалансированных данных."
   ]
  },
  {
   "cell_type": "code",
   "execution_count": 30,
   "metadata": {},
   "outputs": [
    {
     "name": "stdout",
     "output_type": "stream",
     "text": [
      "F1: 0.3089700996677741\n",
      "ROC_auc: 0.5871876376682138\n"
     ]
    }
   ],
   "source": [
    "# Обучим базовую модель логистической регрессии и посчитаем метрики на тестовой выборке\n",
    "model_base_lgr = LogisticRegression(random_state=12345, solver='liblinear')\n",
    "model_base_lgr.fit(features_train, target_train)\n",
    "predicted_test = model_base_lgr.predict(features_test)\n",
    "print(\"F1:\", f1_score(target_test, predicted_test))\n",
    "print(\"ROC_auc:\", roc_auc_score(target_test, predicted_test))"
   ]
  },
  {
   "cell_type": "code",
   "execution_count": 31,
   "metadata": {},
   "outputs": [
    {
     "data": {
      "text/plain": [
       "GridSearchCV(cv=5, estimator=RandomForestClassifier(random_state=12345),\n",
       "             param_grid={'criterion': ['gini', 'entropy'],\n",
       "                         'max_depth': [5, 10, 20],\n",
       "                         'n_estimators': [25, 50, 100, 150]},\n",
       "             scoring='f1')"
      ]
     },
     "execution_count": 31,
     "metadata": {},
     "output_type": "execute_result"
    }
   ],
   "source": [
    "# Подберем оптимальные параметры для модели случайного леса\n",
    "parameters = {\n",
    "    'n_estimators' : [25,50,100,150],\n",
    "    'criterion' : ['gini', 'entropy'],\n",
    "    'max_depth':[5,10,20]\n",
    "}\n",
    "\n",
    "rfc = RandomForestClassifier(random_state=12345)\n",
    "\n",
    "clf_rfc = GridSearchCV(\n",
    "    estimator = rfc,\n",
    "    param_grid = parameters,\n",
    "    scoring = 'f1',\n",
    "    cv=5)\n",
    "\n",
    "clf_rfc.fit(features_train, target_train)"
   ]
  },
  {
   "cell_type": "code",
   "execution_count": 32,
   "metadata": {},
   "outputs": [
    {
     "name": "stdout",
     "output_type": "stream",
     "text": [
      "F1: 0.5714285714285715\n",
      "ROC_auc: 0.714198962666206\n"
     ]
    }
   ],
   "source": [
    "# Обучим модель случайного леса с лучшими гиперпараметрами и рассчитаем метрики на тестовой выборке\n",
    "model_base_rfc = clf_rfc.best_estimator_.fit(features_train, target_train)\n",
    "predicted_test = model_base_rfc.predict(features_test)\n",
    "print(\"F1:\", f1_score(target_test, predicted_test))\n",
    "print(\"ROC_auc:\", roc_auc_score(target_test, predicted_test))"
   ]
  },
  {
   "cell_type": "code",
   "execution_count": 33,
   "metadata": {},
   "outputs": [
    {
     "data": {
      "text/plain": [
       "GridSearchCV(cv=5, estimator=GradientBoostingClassifier(random_state=12345),\n",
       "             param_grid={'learning_rate': [0.1, 0.01],\n",
       "                         'max_depth': [3, 5, 10, 20],\n",
       "                         'n_estimators': [50, 100, 150]},\n",
       "             scoring='f1')"
      ]
     },
     "execution_count": 33,
     "metadata": {},
     "output_type": "execute_result"
    }
   ],
   "source": [
    "# Подберем оптимальные параметры для модели Градиентного бустинга\n",
    "parameters = {\n",
    "    'learning_rate' : [0.1, 0.01],\n",
    "    'n_estimators' : [50, 100, 150],\n",
    "    'max_depth':[3,5,10,20],\n",
    "}\n",
    "\n",
    "gbc = GradientBoostingClassifier(random_state=12345)\n",
    "\n",
    "clf_gbc = GridSearchCV(\n",
    "    estimator = gbc,\n",
    "    param_grid = parameters,\n",
    "    scoring = 'f1',\n",
    "    cv=5)\n",
    "    \n",
    "clf_gbc.fit(features_train, target_train)"
   ]
  },
  {
   "cell_type": "code",
   "execution_count": 34,
   "metadata": {},
   "outputs": [
    {
     "name": "stdout",
     "output_type": "stream",
     "text": [
      "F1: 0.5839017735334243\n",
      "ROC_auc: 0.718589742029543\n"
     ]
    }
   ],
   "source": [
    "# Обучим модель градиентного бустинга с лучшими гиперпараметрами и рассчитаем метрики на тестовой выборке\n",
    "model_base_gbc = clf_gbc.best_estimator_.fit(features_train, target_train)\n",
    "predicted_test = model_base_gbc.predict(features_test)\n",
    "print(\"F1:\", f1_score(target_test, predicted_test))\n",
    "print(\"ROC_auc:\", roc_auc_score(target_test, predicted_test))"
   ]
  },
  {
   "cell_type": "code",
   "execution_count": 35,
   "metadata": {},
   "outputs": [
    {
     "name": "stdout",
     "output_type": "stream",
     "text": [
      "Порог = 0.00 | Точность = 0.198, Полнота = 1.000, F1 = 0.331, ROC_auc = 0.500\n",
      "Порог = 0.02 | Точность = 0.199, Полнота = 0.998, F1 = 0.332, ROC_auc = 0.502\n",
      "Порог = 0.04 | Точность = 0.208, Полнота = 0.993, F1 = 0.344, ROC_auc = 0.529\n",
      "Порог = 0.06 | Точность = 0.227, Полнота = 0.967, F1 = 0.367, ROC_auc = 0.575\n",
      "Порог = 0.08 | Точность = 0.248, Полнота = 0.947, F1 = 0.392, ROC_auc = 0.617\n",
      "Порог = 0.10 | Точность = 0.270, Полнота = 0.925, F1 = 0.417, ROC_auc = 0.652\n",
      "Порог = 0.12 | Точность = 0.293, Полнота = 0.907, F1 = 0.443, ROC_auc = 0.683\n",
      "Порог = 0.14 | Точность = 0.315, Полнота = 0.874, F1 = 0.464, ROC_auc = 0.702\n",
      "Порог = 0.16 | Точность = 0.343, Полнота = 0.834, F1 = 0.486, ROC_auc = 0.720\n",
      "Порог = 0.18 | Точность = 0.365, Полнота = 0.789, F1 = 0.499, ROC_auc = 0.725\n",
      "Порог = 0.20 | Точность = 0.382, Полнота = 0.734, F1 = 0.502, ROC_auc = 0.720\n",
      "Порог = 0.22 | Точность = 0.405, Полнота = 0.694, F1 = 0.511, ROC_auc = 0.721\n",
      "Порог = 0.24 | Точность = 0.421, Полнота = 0.643, F1 = 0.509, ROC_auc = 0.712\n",
      "Порог = 0.26 | Точность = 0.449, Полнота = 0.608, F1 = 0.516, ROC_auc = 0.712\n",
      "Порог = 0.28 | Точность = 0.458, Полнота = 0.545, F1 = 0.498, ROC_auc = 0.693\n",
      "Порог = 0.30 | Точность = 0.474, Полнота = 0.510, F1 = 0.491, ROC_auc = 0.685\n",
      "Порог = 0.32 | Точность = 0.483, Полнота = 0.463, F1 = 0.473, ROC_auc = 0.670\n",
      "Порог = 0.34 | Точность = 0.503, Полнота = 0.432, F1 = 0.465, ROC_auc = 0.663\n",
      "Порог = 0.36 | Точность = 0.509, Полнота = 0.392, F1 = 0.443, ROC_auc = 0.649\n",
      "Порог = 0.38 | Точность = 0.523, Полнота = 0.355, F1 = 0.423, ROC_auc = 0.637\n",
      "Порог = 0.40 | Точность = 0.529, Полнота = 0.322, F1 = 0.400, ROC_auc = 0.625\n",
      "Порог = 0.42 | Точность = 0.547, Полнота = 0.295, F1 = 0.383, ROC_auc = 0.617\n",
      "Порог = 0.44 | Точность = 0.567, Полнота = 0.273, F1 = 0.368, ROC_auc = 0.611\n",
      "Порог = 0.46 | Точность = 0.582, Полнота = 0.251, F1 = 0.350, ROC_auc = 0.603\n",
      "Порог = 0.48 | Точность = 0.584, Полнота = 0.224, F1 = 0.324, ROC_auc = 0.592\n"
     ]
    }
   ],
   "source": [
    "# Рассчитаем оптимальный порог классификации для логистической регрессии \n",
    "model = LogisticRegression(random_state=12345, solver='liblinear')\n",
    "model.fit(features_train, target_train)\n",
    "probabilities_test = model.predict_proba(features_test)\n",
    "probabilities_one_test = probabilities_test[:, 1]\n",
    "\n",
    "for threshold in np.arange(0, 0.5, 0.02):\n",
    "    predicted_test = probabilities_one_test > threshold \n",
    "    precision = precision_score(target_test,predicted_test) \n",
    "    recall = recall_score(target_test,predicted_test) \n",
    "    print(\"Порог = {:.2f} | Точность = {:.3f}, Полнота = {:.3f}, F1 = {:.3f}, ROC_auc = {:.3f}\".format(\n",
    "        threshold, precision, recall, f1_score(target_test, predicted_test), roc_auc_score(target_test, predicted_test)))"
   ]
  },
  {
   "cell_type": "code",
   "execution_count": 36,
   "metadata": {},
   "outputs": [
    {
     "name": "stdout",
     "output_type": "stream",
     "text": [
      "Порог = 0.00 | Точность = 0.198, Полнота = 1.000, F1 = 0.331, ROC_auc = 0.500\n",
      "Порог = 0.02 | Точность = 0.207, Полнота = 1.000, F1 = 0.343, ROC_auc = 0.526\n",
      "Порог = 0.04 | Точность = 0.244, Полнота = 0.987, F1 = 0.391, ROC_auc = 0.614\n",
      "Порог = 0.06 | Точность = 0.275, Полнота = 0.969, F1 = 0.428, ROC_auc = 0.668\n",
      "Порог = 0.08 | Точность = 0.310, Полнота = 0.936, F1 = 0.465, ROC_auc = 0.710\n",
      "Порог = 0.10 | Точность = 0.344, Полнота = 0.916, F1 = 0.500, ROC_auc = 0.741\n",
      "Порог = 0.12 | Точность = 0.380, Полнота = 0.885, F1 = 0.531, ROC_auc = 0.763\n",
      "Порог = 0.14 | Точность = 0.408, Полнота = 0.856, F1 = 0.553, ROC_auc = 0.775\n",
      "Порог = 0.16 | Точность = 0.444, Полнота = 0.838, F1 = 0.581, ROC_auc = 0.789\n",
      "Порог = 0.18 | Точность = 0.478, Полнота = 0.805, F1 = 0.600, ROC_auc = 0.794\n",
      "Порог = 0.20 | Точность = 0.495, Полнота = 0.765, F1 = 0.601, ROC_auc = 0.786\n",
      "Порог = 0.22 | Точность = 0.516, Полнота = 0.732, F1 = 0.605, ROC_auc = 0.781\n",
      "Порог = 0.24 | Точность = 0.534, Полнота = 0.710, F1 = 0.610, ROC_auc = 0.778\n",
      "Порог = 0.26 | Точность = 0.554, Полнота = 0.690, F1 = 0.615, ROC_auc = 0.776\n",
      "Порог = 0.28 | Точность = 0.577, Полнота = 0.665, F1 = 0.618, ROC_auc = 0.772\n",
      "Порог = 0.30 | Точность = 0.600, Полнота = 0.647, F1 = 0.623, ROC_auc = 0.770\n",
      "Порог = 0.32 | Точность = 0.608, Полнота = 0.619, F1 = 0.613, ROC_auc = 0.760\n",
      "Порог = 0.34 | Точность = 0.623, Полнота = 0.605, F1 = 0.614, ROC_auc = 0.757\n",
      "Порог = 0.36 | Точность = 0.651, Полнота = 0.599, F1 = 0.624, ROC_auc = 0.760\n",
      "Порог = 0.38 | Точность = 0.668, Полнота = 0.581, F1 = 0.622, ROC_auc = 0.755\n",
      "Порог = 0.40 | Точность = 0.689, Полнота = 0.561, F1 = 0.619, ROC_auc = 0.749\n",
      "Порог = 0.42 | Точность = 0.698, Полнота = 0.548, F1 = 0.614, ROC_auc = 0.744\n",
      "Порог = 0.44 | Точность = 0.717, Полнота = 0.528, F1 = 0.608, ROC_auc = 0.738\n",
      "Порог = 0.46 | Точность = 0.730, Полнота = 0.514, F1 = 0.603, ROC_auc = 0.734\n",
      "Порог = 0.48 | Точность = 0.744, Полнота = 0.490, F1 = 0.591, ROC_auc = 0.724\n"
     ]
    }
   ],
   "source": [
    "# Рассчитаем оптимальный порог классификации для градиентного бустинга \n",
    "\n",
    "probabilities_test = model_base_gbc.predict_proba(features_test)\n",
    "probabilities_one_test = probabilities_test[:, 1]\n",
    "\n",
    "for threshold in np.arange(0, 0.5, 0.02):\n",
    "    predicted_test = probabilities_one_test > threshold \n",
    "    precision = precision_score(target_test,predicted_test) \n",
    "    recall = recall_score(target_test,predicted_test) \n",
    "    print(\"Порог = {:.2f} | Точность = {:.3f}, Полнота = {:.3f}, F1 = {:.3f}, ROC_auc = {:.3f}\".format(\n",
    "        threshold, precision, recall, f1_score(target_test, predicted_test), roc_auc_score(target_test, predicted_test)))"
   ]
  },
  {
   "cell_type": "markdown",
   "metadata": {},
   "source": [
    "Вывод\n",
    "Базовая модель логистической регрессии на тестовых данных показала результат по f1 и roc_auc соответственно 0,29 и 0,58.\n",
    "Модель случайного леса на тестовых данных f1 и roc_auc соответственно 0,58 и 0,71.\n",
    "Модель градиентного бустинга на тестовых данных f1 и roc_auc соответственно 0,60 и 0,72.\n",
    "При изменении порога классификации в логистической регрессии оптимальные значений метрик составляют F1 = 0.506, ROC_auc = 0.701 при пороге =0,22.\n",
    "При изменении порога классификации градиентный бустинг на тестовых данных при пороге 0,2 дает результат 0,625 и 0,785. Таким образом, лучший результат на текущих обучающих данных без борьбы с дисбалансом классов получены градиентным бустингом."
   ]
  },
  {
   "cell_type": "markdown",
   "metadata": {},
   "source": [
    "## Борьба с дисбалансом"
   ]
  },
  {
   "cell_type": "markdown",
   "metadata": {},
   "source": [
    "Посмотрим балланс классов в датафрейме"
   ]
  },
  {
   "cell_type": "code",
   "execution_count": 37,
   "metadata": {},
   "outputs": [
    {
     "data": {
      "text/plain": [
       "(7237, 11)"
      ]
     },
     "execution_count": 37,
     "metadata": {},
     "output_type": "execute_result"
    }
   ],
   "source": [
    "# Посмотрим количество объектов отрицательного класса\n",
    "features_zeros = features[target == 0]\n",
    "features_zeros.shape"
   ]
  },
  {
   "cell_type": "code",
   "execution_count": 38,
   "metadata": {},
   "outputs": [
    {
     "data": {
      "text/plain": [
       "(1854, 11)"
      ]
     },
     "execution_count": 38,
     "metadata": {},
     "output_type": "execute_result"
    }
   ],
   "source": [
    "# Посмотрим количество объектов положительного класса\n",
    "features_ones = features[target == 1]\n",
    "features_ones.shape"
   ]
  },
  {
   "cell_type": "markdown",
   "metadata": {},
   "source": [
    "Объектов отрицательно класса почти в четыре раза больше, чем объектов положительного класса. Изучим разные методы борьбы с дисбалансом классов и выберем оптимальную модель и оптимальный метод корректировки дисбаланса классов."
   ]
  },
  {
   "cell_type": "markdown",
   "metadata": {},
   "source": [
    "### Параметр class_weight для борьбы с дисбалансом"
   ]
  },
  {
   "cell_type": "code",
   "execution_count": 39,
   "metadata": {},
   "outputs": [
    {
     "name": "stdout",
     "output_type": "stream",
     "text": [
      "F1: 0.5113369820172009\n",
      "ROC_auc: 0.7250414373717632\n"
     ]
    }
   ],
   "source": [
    "# Рассчитаем модель логистической регрессии с параметром class_weight = 'balanced'\n",
    "model = LogisticRegression(random_state=12345, solver='liblinear',class_weight = 'balanced')\n",
    "model.fit(features_train, target_train)\n",
    "predicted_test = model.predict(features_test)\n",
    "print(\"F1:\", f1_score(target_test, predicted_test))\n",
    "print(\"ROC_auc:\", roc_auc_score(target_test, predicted_test))"
   ]
  },
  {
   "cell_type": "code",
   "execution_count": 40,
   "metadata": {},
   "outputs": [
    {
     "name": "stdout",
     "output_type": "stream",
     "text": [
      "Порог = 0.00 | Точность = 0.198, Полнота = 1.000, F1 = 0.331, ROC_auc = 0.500\n",
      "Порог = 0.02 | Точность = 0.198, Полнота = 1.000, F1 = 0.331, ROC_auc = 0.500\n",
      "Порог = 0.04 | Точность = 0.198, Полнота = 1.000, F1 = 0.331, ROC_auc = 0.500\n",
      "Порог = 0.06 | Точность = 0.198, Полнота = 0.998, F1 = 0.331, ROC_auc = 0.500\n",
      "Порог = 0.08 | Точность = 0.200, Полнота = 0.998, F1 = 0.333, ROC_auc = 0.504\n",
      "Порог = 0.10 | Точность = 0.202, Полнота = 0.998, F1 = 0.336, ROC_auc = 0.510\n",
      "Порог = 0.12 | Точность = 0.205, Полнота = 0.993, F1 = 0.339, ROC_auc = 0.519\n",
      "Порог = 0.14 | Точность = 0.209, Полнота = 0.993, F1 = 0.345, ROC_auc = 0.532\n",
      "Порог = 0.16 | Точность = 0.216, Полнота = 0.989, F1 = 0.354, ROC_auc = 0.550\n",
      "Порог = 0.18 | Точность = 0.221, Полнота = 0.976, F1 = 0.361, ROC_auc = 0.563\n",
      "Порог = 0.20 | Точность = 0.228, Полнота = 0.965, F1 = 0.369, ROC_auc = 0.579\n",
      "Порог = 0.22 | Точность = 0.235, Полнота = 0.958, F1 = 0.377, ROC_auc = 0.593\n",
      "Порог = 0.24 | Точность = 0.244, Полнота = 0.951, F1 = 0.388, ROC_auc = 0.610\n",
      "Порог = 0.26 | Точность = 0.253, Полнота = 0.945, F1 = 0.399, ROC_auc = 0.627\n",
      "Порог = 0.28 | Точность = 0.261, Полнота = 0.931, F1 = 0.408, ROC_auc = 0.640\n",
      "Порог = 0.30 | Точность = 0.272, Полнота = 0.920, F1 = 0.420, ROC_auc = 0.655\n",
      "Порог = 0.32 | Точность = 0.285, Полнота = 0.911, F1 = 0.434, ROC_auc = 0.672\n",
      "Порог = 0.34 | Точность = 0.296, Полнота = 0.905, F1 = 0.446, ROC_auc = 0.686\n",
      "Порог = 0.36 | Точность = 0.307, Полнота = 0.889, F1 = 0.456, ROC_auc = 0.696\n",
      "Порог = 0.38 | Точность = 0.321, Полнота = 0.876, F1 = 0.470, ROC_auc = 0.709\n",
      "Порог = 0.40 | Точность = 0.330, Полнота = 0.856, F1 = 0.477, ROC_auc = 0.713\n",
      "Порог = 0.42 | Точность = 0.344, Полнота = 0.836, F1 = 0.487, ROC_auc = 0.720\n",
      "Порог = 0.44 | Точность = 0.362, Полнота = 0.823, F1 = 0.502, ROC_auc = 0.732\n",
      "Порог = 0.46 | Точность = 0.374, Полнота = 0.785, F1 = 0.507, ROC_auc = 0.730\n",
      "Порог = 0.48 | Точность = 0.383, Полнота = 0.752, F1 = 0.507, ROC_auc = 0.726\n",
      "Порог = 0.50 | Точность = 0.395, Полнота = 0.725, F1 = 0.511, ROC_auc = 0.725\n",
      "Порог = 0.52 | Точность = 0.412, Полнота = 0.687, F1 = 0.515, ROC_auc = 0.722\n",
      "Порог = 0.54 | Точность = 0.427, Полнота = 0.656, F1 = 0.517, ROC_auc = 0.719\n",
      "Порог = 0.56 | Точность = 0.436, Полнота = 0.619, F1 = 0.511, ROC_auc = 0.710\n",
      "Порог = 0.58 | Точность = 0.439, Полнота = 0.576, F1 = 0.499, ROC_auc = 0.697\n",
      "Порог = 0.60 | Точность = 0.457, Полнота = 0.550, F1 = 0.499, ROC_auc = 0.694\n",
      "Порог = 0.62 | Точность = 0.476, Полнота = 0.517, F1 = 0.495, ROC_auc = 0.688\n",
      "Порог = 0.64 | Точность = 0.482, Полнота = 0.472, F1 = 0.477, ROC_auc = 0.673\n",
      "Порог = 0.66 | Точность = 0.501, Полнота = 0.448, F1 = 0.473, ROC_auc = 0.669\n",
      "Порог = 0.68 | Точность = 0.501, Полнота = 0.399, F1 = 0.444, ROC_auc = 0.650\n",
      "Порог = 0.70 | Точность = 0.513, Полнота = 0.359, F1 = 0.422, ROC_auc = 0.637\n",
      "Порог = 0.72 | Точность = 0.513, Полнота = 0.313, F1 = 0.388, ROC_auc = 0.620\n",
      "Порог = 0.74 | Точность = 0.527, Полнота = 0.282, F1 = 0.367, ROC_auc = 0.610\n",
      "Порог = 0.76 | Точность = 0.545, Полнота = 0.257, F1 = 0.349, ROC_auc = 0.602\n",
      "Порог = 0.78 | Точность = 0.571, Полнота = 0.233, F1 = 0.331, ROC_auc = 0.595\n"
     ]
    }
   ],
   "source": [
    "# Рассчитаем оптимальный порог классификации для логистической регрессии с параметром class_weight = 'balanced'\n",
    "\n",
    "probabilities_test = model.predict_proba(features_test)\n",
    "probabilities_one_test = probabilities_test[:, 1]\n",
    "\n",
    "for threshold in np.arange(0, 0.8, 0.02):\n",
    "    predicted_test = probabilities_one_test > threshold \n",
    "    precision = precision_score(target_test,predicted_test) \n",
    "    recall = recall_score(target_test,predicted_test) \n",
    "    print(\"Порог = {:.2f} | Точность = {:.3f}, Полнота = {:.3f}, F1 = {:.3f}, ROC_auc = {:.3f}\".format(\n",
    "        threshold, precision, recall, f1_score(target_test, predicted_test), roc_auc_score(target_test, predicted_test)))"
   ]
  },
  {
   "cell_type": "code",
   "execution_count": 41,
   "metadata": {},
   "outputs": [
    {
     "data": {
      "text/plain": [
       "GridSearchCV(cv=5, estimator=RandomForestClassifier(random_state=12345),\n",
       "             param_grid={'class_weight': ['balanced'],\n",
       "                         'criterion': ['gini', 'entropy'],\n",
       "                         'max_depth': [5, 10, 20],\n",
       "                         'n_estimators': [25, 50, 100, 150]},\n",
       "             scoring='f1')"
      ]
     },
     "execution_count": 41,
     "metadata": {},
     "output_type": "execute_result"
    }
   ],
   "source": [
    "# Подберем оптимальные параметры для модели Случайного леса с параметром class_weight = 'balanced'\n",
    "parameters = {\n",
    "    'n_estimators' : [25,50,100,150],\n",
    "    'criterion' : ['gini', 'entropy'],\n",
    "    'max_depth':[5,10,20],    \n",
    "    'class_weight' : ['balanced']\n",
    "}\n",
    "\n",
    "rfc = RandomForestClassifier(random_state=12345)\n",
    "\n",
    "clf_rfc_b = GridSearchCV(\n",
    "    estimator = rfc,\n",
    "    param_grid = parameters,\n",
    "    scoring = 'f1',\n",
    "    cv=5)\n",
    "\n",
    "clf_rfc_b.fit(features_train, target_train)"
   ]
  },
  {
   "cell_type": "code",
   "execution_count": 42,
   "metadata": {},
   "outputs": [
    {
     "name": "stdout",
     "output_type": "stream",
     "text": [
      "F1: 0.6253934942287513\n",
      "ROC_auc: 0.774394503250491\n"
     ]
    }
   ],
   "source": [
    "# Обучим модель Случайного леса с лучшими гиперпараметрами и с параметром class_weight = 'balanced'. \n",
    "# Рассчитаем метрики на тестовой выборке\n",
    "model_rfc_b = clf_rfc_b.best_estimator_.fit(features_train, target_train)\n",
    "predicted_test = model_rfc_b.predict(features_test)\n",
    "print(\"F1:\", f1_score(target_test, predicted_test))\n",
    "print(\"ROC_auc:\", roc_auc_score(target_test, predicted_test))"
   ]
  },
  {
   "cell_type": "code",
   "execution_count": 43,
   "metadata": {},
   "outputs": [
    {
     "name": "stdout",
     "output_type": "stream",
     "text": [
      "Порог = 0.00 | Точность = 0.198, Полнота = 1.000, F1 = 0.331, ROC_auc = 0.500\n",
      "Порог = 0.02 | Точность = 0.199, Полнота = 1.000, F1 = 0.331, ROC_auc = 0.501\n",
      "Порог = 0.04 | Точность = 0.201, Полнота = 1.000, F1 = 0.334, ROC_auc = 0.507\n",
      "Порог = 0.06 | Точность = 0.210, Полнота = 0.996, F1 = 0.347, ROC_auc = 0.535\n",
      "Порог = 0.08 | Точность = 0.224, Полнота = 0.993, F1 = 0.366, ROC_auc = 0.571\n",
      "Порог = 0.10 | Точность = 0.236, Полнота = 0.989, F1 = 0.381, ROC_auc = 0.598\n",
      "Порог = 0.12 | Точность = 0.248, Полнота = 0.984, F1 = 0.396, ROC_auc = 0.622\n",
      "Порог = 0.14 | Точность = 0.258, Полнота = 0.971, F1 = 0.407, ROC_auc = 0.640\n",
      "Порог = 0.16 | Точность = 0.270, Полнота = 0.962, F1 = 0.421, ROC_auc = 0.658\n",
      "Порог = 0.18 | Точность = 0.284, Полнота = 0.947, F1 = 0.438, ROC_auc = 0.679\n",
      "Порог = 0.20 | Точность = 0.299, Полнота = 0.936, F1 = 0.454, ROC_auc = 0.697\n",
      "Порог = 0.22 | Точность = 0.315, Полнота = 0.920, F1 = 0.469, ROC_auc = 0.712\n",
      "Порог = 0.24 | Точность = 0.335, Полнота = 0.916, F1 = 0.491, ROC_auc = 0.733\n",
      "Порог = 0.26 | Точность = 0.349, Полнота = 0.896, F1 = 0.502, ROC_auc = 0.741\n",
      "Порог = 0.28 | Точность = 0.365, Полнота = 0.880, F1 = 0.516, ROC_auc = 0.751\n",
      "Порог = 0.30 | Точность = 0.384, Полнота = 0.865, F1 = 0.532, ROC_auc = 0.761\n",
      "Порог = 0.32 | Точность = 0.408, Полнота = 0.856, F1 = 0.553, ROC_auc = 0.775\n",
      "Порог = 0.34 | Точность = 0.421, Полнота = 0.829, F1 = 0.558, ROC_auc = 0.773\n",
      "Порог = 0.36 | Точность = 0.439, Полнота = 0.812, F1 = 0.570, ROC_auc = 0.778\n",
      "Порог = 0.38 | Точность = 0.450, Полнота = 0.785, F1 = 0.572, ROC_auc = 0.774\n",
      "Порог = 0.40 | Точность = 0.468, Полнота = 0.769, F1 = 0.582, ROC_auc = 0.777\n",
      "Порог = 0.42 | Точность = 0.492, Полнота = 0.747, F1 = 0.593, ROC_auc = 0.778\n",
      "Порог = 0.44 | Точность = 0.516, Полнота = 0.734, F1 = 0.606, ROC_auc = 0.782\n",
      "Порог = 0.46 | Точность = 0.530, Полнота = 0.703, F1 = 0.604, ROC_auc = 0.774\n",
      "Порог = 0.48 | Точность = 0.565, Полнота = 0.678, F1 = 0.616, ROC_auc = 0.774\n",
      "Порог = 0.50 | Точность = 0.594, Полнота = 0.661, F1 = 0.625, ROC_auc = 0.774\n",
      "Порог = 0.52 | Точность = 0.622, Полнота = 0.634, F1 = 0.628, ROC_auc = 0.769\n",
      "Порог = 0.54 | Точность = 0.636, Полнота = 0.608, F1 = 0.621, ROC_auc = 0.761\n",
      "Порог = 0.56 | Точность = 0.658, Полнота = 0.572, F1 = 0.612, ROC_auc = 0.749\n",
      "Порог = 0.58 | Точность = 0.696, Полнота = 0.552, F1 = 0.616, ROC_auc = 0.746\n",
      "Порог = 0.60 | Точность = 0.718, Полнота = 0.530, F1 = 0.610, ROC_auc = 0.739\n",
      "Порог = 0.62 | Точность = 0.732, Полнота = 0.510, F1 = 0.601, ROC_auc = 0.732\n",
      "Порог = 0.64 | Точность = 0.774, Полнота = 0.479, F1 = 0.592, ROC_auc = 0.722\n",
      "Порог = 0.66 | Точность = 0.795, Полнота = 0.455, F1 = 0.578, ROC_auc = 0.713\n",
      "Порог = 0.68 | Точность = 0.809, Полнота = 0.421, F1 = 0.554, ROC_auc = 0.698\n",
      "Порог = 0.70 | Точность = 0.806, Полнота = 0.397, F1 = 0.532, ROC_auc = 0.687\n",
      "Порог = 0.72 | Точность = 0.810, Полнота = 0.377, F1 = 0.514, ROC_auc = 0.677\n",
      "Порог = 0.74 | Точность = 0.825, Полнота = 0.355, F1 = 0.496, ROC_auc = 0.668\n",
      "Порог = 0.76 | Точность = 0.852, Полнота = 0.333, F1 = 0.478, ROC_auc = 0.659\n",
      "Порог = 0.78 | Точность = 0.877, Полнота = 0.299, F1 = 0.446, ROC_auc = 0.644\n"
     ]
    }
   ],
   "source": [
    "# Рассчитаем оптимальный порог классификации для случайного леса с параметром  class_weight = 'balanced'\n",
    "\n",
    "probabilities_test = model_rfc_b.predict_proba(features_test)\n",
    "probabilities_one_test = probabilities_test[:, 1]\n",
    "\n",
    "for threshold in np.arange(0, 0.8, 0.02):\n",
    "    predicted_test = probabilities_one_test > threshold \n",
    "    precision = precision_score(target_test,predicted_test) \n",
    "    recall = recall_score(target_test,predicted_test) \n",
    "    print(\"Порог = {:.2f} | Точность = {:.3f}, Полнота = {:.3f}, F1 = {:.3f}, ROC_auc = {:.3f}\".format(\n",
    "        threshold, precision, recall, f1_score(target_test, predicted_test), roc_auc_score(target_test, predicted_test)))"
   ]
  },
  {
   "cell_type": "markdown",
   "metadata": {},
   "source": [
    "Вывод\n",
    "При применении гиперпараметра class_weight = 'balanced' для борьбы с дисбалансом классов модель логистической регрессии показала результат на тестовой выборке по f1 0,51 и roc_auc 0,71, что значительно лучше, чем без данного гиперпараметра.\n",
    "Модель случайного леса показала результат на тестовой выборке по f1 0,64 и roc_auc 0,79. Результат по метрикам случайного леса так же лучше результата без применения гиперпараметра class_weight = 'balanced'( в модели без данного гиперпараметра f1 и roc_auc соответственно 0,58 и 0,71) При изменении порога модель случайного леса показала лучший результат при пороге равном 0,42 f1 0,633 и roc_auc 0,793"
   ]
  },
  {
   "cell_type": "markdown",
   "metadata": {},
   "source": [
    "### Увеличение выборки для борьбы с дисбалансом"
   ]
  },
  {
   "cell_type": "code",
   "execution_count": 44,
   "metadata": {},
   "outputs": [],
   "source": [
    "# Создадим функцию,которая принимает на вход : датафрейм признаков, целевые значения, количество раз,\n",
    "# в которое необходимо увеличить меньший класс, что бы выборка стала сбалансированной\n",
    "# результат функции : увеличенная исходная выборка со сбалансированными классами: датафрейм признаков и целевые значения\n",
    "def upsample(features, target, repeat):\n",
    "    features_zeros = features[target == 0]\n",
    "    features_ones = features[target == 1]\n",
    "    target_zeros = target[target == 0]\n",
    "    target_ones = target[target == 1]\n",
    "    features_upsampled = pd.concat([features_zeros] + [features_ones] * repeat)\n",
    "    target_upsampled = pd.concat([target_zeros] + [target_ones] * repeat)    \n",
    "    features_upsampled, target_upsampled = shuffle(\n",
    "        features_upsampled, target_upsampled, random_state=12345)    \n",
    "    return features_upsampled, target_upsampled"
   ]
  },
  {
   "cell_type": "code",
   "execution_count": 45,
   "metadata": {},
   "outputs": [],
   "source": [
    "# признаки и целевое значение увеличенной обучающей выборки \n",
    "features_upsampled, target_upsampled = upsample(features_train, target_train, 4)"
   ]
  },
  {
   "cell_type": "markdown",
   "metadata": {},
   "source": [
    "Далее обучим логистическую регрессию, градиентный бустинг и случайный лес на признаках увеличенной обучающей выборки, и рассчитаем метрики f1 и roc_auc"
   ]
  },
  {
   "cell_type": "code",
   "execution_count": 46,
   "metadata": {},
   "outputs": [
    {
     "name": "stdout",
     "output_type": "stream",
     "text": [
      "F1: 0.5080091533180778\n",
      "ROC_auc: 0.7245583056070057\n"
     ]
    }
   ],
   "source": [
    "# Обучим модель логистической регрессии по увеличенной сбалансированной выборке и посчитаем метрики на тестовой выборке\n",
    "model = LogisticRegression(random_state=12345,solver='liblinear')\n",
    "model.fit(features_upsampled,target_upsampled)\n",
    "predicted_test = model.predict(features_test)\n",
    "print(\"F1:\", f1_score(target_test, predicted_test))\n",
    "print(\"ROC_auc:\", roc_auc_score(target_test, predicted_test))"
   ]
  },
  {
   "cell_type": "code",
   "execution_count": 47,
   "metadata": {},
   "outputs": [
    {
     "data": {
      "text/plain": [
       "GridSearchCV(cv=5, estimator=RandomForestClassifier(random_state=12345),\n",
       "             param_grid={'criterion': ['gini', 'entropy'],\n",
       "                         'max_depth': [5, 10, 20],\n",
       "                         'n_estimators': [25, 50, 100, 150]},\n",
       "             scoring='f1')"
      ]
     },
     "execution_count": 47,
     "metadata": {},
     "output_type": "execute_result"
    }
   ],
   "source": [
    "# Подберем оптимальные параметры для модели Случайного леса по увеличенной сбалансированной выборке\n",
    "parameters = {\n",
    "    'n_estimators' : [25,50,100,150],\n",
    "    'criterion' : ['gini', 'entropy'],\n",
    "    'max_depth':[5,10,20]    \n",
    "}\n",
    "\n",
    "rfc = RandomForestClassifier(random_state=12345)\n",
    "\n",
    "clf_rfc_upsampled = GridSearchCV(\n",
    "    estimator = rfc,\n",
    "    param_grid = parameters,\n",
    "    scoring = 'f1',\n",
    "    cv=5)\n",
    "\n",
    "clf_rfc_upsampled.fit(features_upsampled, target_upsampled)"
   ]
  },
  {
   "cell_type": "code",
   "execution_count": 48,
   "metadata": {},
   "outputs": [
    {
     "name": "stdout",
     "output_type": "stream",
     "text": [
      "F1: 0.5954381752701081\n",
      "ROC_auc: 0.7381717904595471\n"
     ]
    }
   ],
   "source": [
    "# Обучим модель Случайного леса с лучшими гиперпараметрами по увеличенной сбалансированной выборке. \n",
    "# Рассчитаем метрики на тестовой выборке\n",
    "model_rfc_upsampled = clf_rfc_upsampled.best_estimator_.fit(features_upsampled, target_upsampled)\n",
    "predicted_test = model_rfc_upsampled.predict(features_test)\n",
    "print(\"F1:\", f1_score(target_test, predicted_test))\n",
    "print(\"ROC_auc:\", roc_auc_score(target_test, predicted_test))"
   ]
  },
  {
   "cell_type": "code",
   "execution_count": 49,
   "metadata": {},
   "outputs": [
    {
     "data": {
      "text/plain": [
       "GridSearchCV(cv=5, estimator=GradientBoostingClassifier(random_state=12345),\n",
       "             param_grid={'learning_rate': [0.1, 0.01],\n",
       "                         'max_depth': [3, 5, 10, 20],\n",
       "                         'n_estimators': [50, 100, 150]},\n",
       "             scoring='f1')"
      ]
     },
     "execution_count": 49,
     "metadata": {},
     "output_type": "execute_result"
    }
   ],
   "source": [
    "# Подберем оптимальные параметры для модели Градиентного бустинга по увеличенной сбалансированной выборке\n",
    "parameters = {\n",
    "    'learning_rate' : [0.1, 0.01],\n",
    "    'n_estimators' : [50, 100, 150],\n",
    "    'max_depth':[3,5,10,20],\n",
    "}\n",
    "\n",
    "gbc = GradientBoostingClassifier(random_state=12345)\n",
    "\n",
    "clf_gbc_upsampled = GridSearchCV(\n",
    "    estimator = gbc,\n",
    "    param_grid = parameters,\n",
    "    scoring = 'f1',\n",
    "    cv=5)\n",
    "    \n",
    "clf_gbc_upsampled.fit(features_upsampled, target_upsampled)"
   ]
  },
  {
   "cell_type": "code",
   "execution_count": 50,
   "metadata": {},
   "outputs": [
    {
     "name": "stdout",
     "output_type": "stream",
     "text": [
      "F1: 0.5899632802937577\n",
      "ROC_auc: 0.7328810717006482\n"
     ]
    }
   ],
   "source": [
    "# Обучим модель Градиентного бустинга с лучшими гиперпараметрами по увеличенной сбалансированной выборке. \n",
    "# Рассчитаем метрики на тестовой выборке\n",
    "model_gbc_upsampled = clf_gbc_upsampled.best_estimator_.fit(features_upsampled, target_upsampled)\n",
    "predicted_test = model_gbc_upsampled.predict(features_test)\n",
    "print(\"F1:\", f1_score(target_test, predicted_test))\n",
    "print(\"ROC_auc:\", roc_auc_score(target_test, predicted_test))"
   ]
  },
  {
   "cell_type": "markdown",
   "metadata": {},
   "source": [
    "Вывод\n",
    "\n",
    "При увеличении выбоки для борьбы с дисбалансом классов метрики логистической регресси f1 и roc_auc составили соответственно 0,51 и 0,71 , данный результат полностью соответствует результату, полученному при применении гиперпараметра class_weight = 'balanced' для логистической регрессии.\n",
    "При увеличении выбоки для борьбы с дисбалансом классов метрики случайного леса на тестовых данных f1 и roc_auc составили соответственно 0,61 и 0,74 , данный результат хуже результата, полученному при применении гиперпараметра class_weight = 'balanced' для случайного леса(0,64 и 0,79 соответственно).\n",
    "Градиентный бустинг, обученный на увеличенной выборке, показал на тестовых данных результат по f1 и roc_auc соответственно 0,59 и 0,72, что соответствует результату по градиентному бустингу, обученному на первоначальном датафрейме ( с дисбалансом классов)."
   ]
  },
  {
   "cell_type": "markdown",
   "metadata": {},
   "source": [
    "### Уменьшение выборки для борьбы с дисбалансом"
   ]
  },
  {
   "cell_type": "code",
   "execution_count": 51,
   "metadata": {},
   "outputs": [],
   "source": [
    "# Создадим функцию,которая принимает на вход : датафрейм признаков, целевые значения, долю\n",
    "# более многочисленного класса, что бы выборка стала сбалансированной\n",
    "# результат функции : уменьшена исходная выборка со сбалансированными классами: датафрейм признаков и целевые значения\n",
    "def downsample(features, target, fraction):\n",
    "    features_zeros = features[target == 0]\n",
    "    features_ones = features[target == 1]\n",
    "    target_zeros = target[target == 0]\n",
    "    target_ones = target[target == 1]\n",
    "    features_downsampled = pd.concat(\n",
    "        [features_zeros.sample(frac=fraction, random_state=12345)] + [features_ones])\n",
    "    target_downsampled = pd.concat(\n",
    "        [target_zeros.sample(frac=fraction, random_state=12345)] + [target_ones])    \n",
    "    features_downsampled, target_downsampled = shuffle(\n",
    "        features_downsampled, target_downsampled, random_state=12345)    \n",
    "    return features_downsampled, target_downsampled"
   ]
  },
  {
   "cell_type": "code",
   "execution_count": 52,
   "metadata": {},
   "outputs": [],
   "source": [
    "# признаки и целевое значение уменьшенной обучающей выборки\n",
    "features_downsampled, target_downsampled = downsample(features_train, target_train, 0.25)"
   ]
  },
  {
   "cell_type": "markdown",
   "metadata": {},
   "source": [
    "Далее обучим логистическую регрессию, градиентный бустинг и случайный лес на признаках уменьшенной обучающей выборки, и рассчитаем метрики f1 и roc_auc"
   ]
  },
  {
   "cell_type": "code",
   "execution_count": 53,
   "metadata": {},
   "outputs": [
    {
     "name": "stdout",
     "output_type": "stream",
     "text": [
      "F1: 0.5110941086457537\n",
      "ROC_auc: 0.7270390716081595\n"
     ]
    }
   ],
   "source": [
    "# Обучим модель логистической регрессии по увеличенной сбалансированной выборке и посчитаем метрики на тестовой выборке\n",
    "model = LogisticRegression(random_state = 12345, solver = 'liblinear')\n",
    "model.fit(features_downsampled,target_downsampled)\n",
    "predicted_test = model.predict(features_test)\n",
    "print(\"F1:\", f1_score(target_test, predicted_test))\n",
    "print(\"ROC_auc:\", roc_auc_score(target_test, predicted_test))"
   ]
  },
  {
   "cell_type": "code",
   "execution_count": 54,
   "metadata": {},
   "outputs": [
    {
     "data": {
      "text/plain": [
       "GridSearchCV(cv=5, estimator=RandomForestClassifier(random_state=12345),\n",
       "             param_grid={'criterion': ['gini', 'entropy'],\n",
       "                         'max_depth': [5, 10, 20],\n",
       "                         'n_estimators': [25, 50, 100, 150]},\n",
       "             scoring='f1')"
      ]
     },
     "execution_count": 54,
     "metadata": {},
     "output_type": "execute_result"
    }
   ],
   "source": [
    "# Подберем оптимальные параметры для модели Случайного леса по уменьшенной сбалансированной выборке\n",
    "parameters = {\n",
    "    'n_estimators' : [25,50,100,150],\n",
    "    'criterion' : ['gini', 'entropy'],\n",
    "    'max_depth':[5,10,20],\n",
    "}\n",
    "\n",
    "rfc = RandomForestClassifier(random_state=12345)\n",
    "\n",
    "clf_rfc_downsampled = GridSearchCV(\n",
    "    estimator = rfc,\n",
    "    param_grid = parameters,\n",
    "    scoring = 'f1',\n",
    "    cv=5)\n",
    "\n",
    "clf_rfc_downsampled.fit(features_downsampled,target_downsampled)"
   ]
  },
  {
   "cell_type": "code",
   "execution_count": 55,
   "metadata": {},
   "outputs": [
    {
     "name": "stdout",
     "output_type": "stream",
     "text": [
      "F1: 0.5854879065888241\n",
      "ROC_auc: 0.7801890420361144\n"
     ]
    }
   ],
   "source": [
    "# Обучим модель Случайного леса с лучшими гиперпараметрами по уменьшенной сбалансированной выборке. \n",
    "# Рассчитаем метрики на тестовой выборке\n",
    "model_rfc_downsampled = clf_rfc_downsampled.best_estimator_.fit(features_downsampled,target_downsampled)\n",
    "predicted_test = model_rfc_downsampled.predict(features_test)\n",
    "print(\"F1:\", f1_score(target_test, predicted_test))\n",
    "print(\"ROC_auc:\", roc_auc_score(target_test, predicted_test))"
   ]
  },
  {
   "cell_type": "code",
   "execution_count": 56,
   "metadata": {},
   "outputs": [
    {
     "data": {
      "text/plain": [
       "GridSearchCV(cv=5, estimator=GradientBoostingClassifier(random_state=12345),\n",
       "             param_grid={'learning_rate': [0.1, 0.01],\n",
       "                         'max_depth': [3, 5, 10, 20],\n",
       "                         'n_estimators': [50, 100, 150]},\n",
       "             scoring='f1')"
      ]
     },
     "execution_count": 56,
     "metadata": {},
     "output_type": "execute_result"
    }
   ],
   "source": [
    "# Подберем оптимальные параметры для модели Градиентного бустинга по уменьшенной сбалансированной выборке\n",
    "parameters = {\n",
    "    'learning_rate' : [0.1, 0.01],\n",
    "    'n_estimators' : [50, 100, 150],\n",
    "    'max_depth':[3,5,10,20],\n",
    "}\n",
    "\n",
    "gbc = GradientBoostingClassifier(random_state=12345)\n",
    "\n",
    "clf_gbc_downsampled = GridSearchCV(\n",
    "    estimator = gbc,\n",
    "    param_grid = parameters,\n",
    "    scoring = 'f1',\n",
    "    cv=5)\n",
    "    \n",
    "clf_gbc_downsampled.fit(features_downsampled,target_downsampled)"
   ]
  },
  {
   "cell_type": "code",
   "execution_count": 57,
   "metadata": {},
   "outputs": [
    {
     "name": "stdout",
     "output_type": "stream",
     "text": [
      "F1: 0.5897219882055602\n",
      "ROC_auc: 0.7820990553982976\n"
     ]
    }
   ],
   "source": [
    "# Обучим модель Градиентного бустинга с лучшими гиперпараметрами по уменьшенной сбалансированной выборке. \n",
    "# Рассчитаем метрики на тестовой выборке\n",
    "model_gbc_downsampled = clf_gbc_downsampled.best_estimator_.fit(features_downsampled,target_downsampled)\n",
    "predicted_test = model_gbc_downsampled.predict(features_test)\n",
    "print(\"F1:\", f1_score(target_test, predicted_test))\n",
    "print(\"ROC_auc:\", roc_auc_score(target_test, predicted_test))"
   ]
  },
  {
   "cell_type": "markdown",
   "metadata": {},
   "source": [
    "Вывод\n",
    "\n",
    "При уменьшении выбоки для борьбы с дисбалансом классов метрики логистической регресси f1 и roc_auc составили соответственно 0,51 и 0,71 , данный результат полностью соответствует результатам, полученным при применении гиперпараметра class_weight = 'balanced' и при применении метода увеличения обучающей выборки для логистической регрессии.\n",
    "При уменьшении выбоки для борьбы с дисбалансом классов метрики случайного леса на тестовых данных f1 и roc_auc составили соответственно 0,62 и 0,79 , данный результат незначительно хуже по параметру f1 и лучше по параметру roc_auc, полученному при применении гиперпараметра class_weight = 'balanced' для случайного леса(0,64 и 0,78 соответственно).\n",
    "Градиентный бустинг, обученный на уменьшенной выборке, показал на тестовых данных результат по f1 и roc_auc соответственно 0,62 и 0,79, что является лучшем результатом по градиентному бустингу."
   ]
  },
  {
   "cell_type": "markdown",
   "metadata": {},
   "source": [
    "## Тестирование модели"
   ]
  },
  {
   "cell_type": "markdown",
   "metadata": {},
   "source": [
    "Создадим константную модель: любому объекту она прогнозирует класс «1»."
   ]
  },
  {
   "cell_type": "code",
   "execution_count": 58,
   "metadata": {},
   "outputs": [],
   "source": [
    "target_pred_constant =[int(i) for i in '1'*df_ohe['Exited'].shape[0]]"
   ]
  },
  {
   "cell_type": "code",
   "execution_count": 59,
   "metadata": {},
   "outputs": [
    {
     "name": "stdout",
     "output_type": "stream",
     "text": [
      "precision: 0.2039379606203938\n",
      "recall: 1.0\n",
      "F1: 0.3387848332571951\n",
      "ROC_auc: 0.5\n",
      "accuracy: 0.2039379606203938\n"
     ]
    }
   ],
   "source": [
    "print(\"precision:\", precision_score(target, target_pred_constant))\n",
    "print(\"recall:\", recall_score(target, target_pred_constant))\n",
    "print(\"F1:\", f1_score(target, target_pred_constant))\n",
    "print(\"ROC_auc:\", roc_auc_score(target, target_pred_constant))\n",
    "print(\"accuracy:\", accuracy_score(target, target_pred_constant))"
   ]
  },
  {
   "cell_type": "markdown",
   "metadata": {},
   "source": [
    "Хорошая модель, полученная для данного датафрейма , это модель Градиентного бустинга, обученного на уменьшенной выборке. Очень хорошие результаты показало изменение порога для модели градиентного бустинга без учета дисбалансов классов: на тестовых данных при пороге 0,2 дает результат 0,625 и 0,785.\n",
    "При изменении порога модель случайного леса с гиперпараметром class_weight = 'balanced'показала лучший результат на тесте при пороге равном 0,42 f1 0,633 и roc_auc 0,793.\n",
    "Рассчитаем данные метрики на всех данных и на тестовых данных для этих моделей."
   ]
  },
  {
   "cell_type": "code",
   "execution_count": 60,
   "metadata": {},
   "outputs": [],
   "source": [
    "features[numeric] = scaler.transform(features[numeric])"
   ]
  },
  {
   "cell_type": "code",
   "execution_count": 61,
   "metadata": {},
   "outputs": [
    {
     "data": {
      "text/html": [
       "<div>\n",
       "<style scoped>\n",
       "    .dataframe tbody tr th:only-of-type {\n",
       "        vertical-align: middle;\n",
       "    }\n",
       "\n",
       "    .dataframe tbody tr th {\n",
       "        vertical-align: top;\n",
       "    }\n",
       "\n",
       "    .dataframe thead th {\n",
       "        text-align: right;\n",
       "    }\n",
       "</style>\n",
       "<table border=\"1\" class=\"dataframe\">\n",
       "  <thead>\n",
       "    <tr style=\"text-align: right;\">\n",
       "      <th></th>\n",
       "      <th>precision</th>\n",
       "      <th>recall</th>\n",
       "      <th>f1</th>\n",
       "      <th>roc_auc</th>\n",
       "      <th>accuracy</th>\n",
       "    </tr>\n",
       "  </thead>\n",
       "  <tbody>\n",
       "    <tr>\n",
       "      <th>GBC downsampled</th>\n",
       "      <td>0.54</td>\n",
       "      <td>0.87</td>\n",
       "      <td>0.66</td>\n",
       "      <td>0.84</td>\n",
       "      <td>0.82</td>\n",
       "    </tr>\n",
       "    <tr>\n",
       "      <th>GBC downsampled_test</th>\n",
       "      <td>0.48</td>\n",
       "      <td>0.78</td>\n",
       "      <td>0.59</td>\n",
       "      <td>0.78</td>\n",
       "      <td>0.79</td>\n",
       "    </tr>\n",
       "    <tr>\n",
       "      <th>GBC threshold 0.2</th>\n",
       "      <td>0.53</td>\n",
       "      <td>0.78</td>\n",
       "      <td>0.63</td>\n",
       "      <td>0.80</td>\n",
       "      <td>0.81</td>\n",
       "    </tr>\n",
       "    <tr>\n",
       "      <th>GBC threshold 0.2_test</th>\n",
       "      <td>0.49</td>\n",
       "      <td>0.76</td>\n",
       "      <td>0.60</td>\n",
       "      <td>0.79</td>\n",
       "      <td>0.80</td>\n",
       "    </tr>\n",
       "    <tr>\n",
       "      <th>RFC threshold 0.42</th>\n",
       "      <td>0.60</td>\n",
       "      <td>0.87</td>\n",
       "      <td>0.71</td>\n",
       "      <td>0.86</td>\n",
       "      <td>0.85</td>\n",
       "    </tr>\n",
       "    <tr>\n",
       "      <th>RFC threshold 0.42_test</th>\n",
       "      <td>0.49</td>\n",
       "      <td>0.75</td>\n",
       "      <td>0.59</td>\n",
       "      <td>0.78</td>\n",
       "      <td>0.80</td>\n",
       "    </tr>\n",
       "  </tbody>\n",
       "</table>\n",
       "</div>"
      ],
      "text/plain": [
       "                         precision  recall   f1  roc_auc  accuracy\n",
       "GBC downsampled               0.54    0.87 0.66     0.84      0.82\n",
       "GBC downsampled_test          0.48    0.78 0.59     0.78      0.79\n",
       "GBC threshold 0.2             0.53    0.78 0.63     0.80      0.81\n",
       "GBC threshold 0.2_test        0.49    0.76 0.60     0.79      0.80\n",
       "RFC threshold 0.42            0.60    0.87 0.71     0.86      0.85\n",
       "RFC threshold 0.42_test       0.49    0.75 0.59     0.78      0.80"
      ]
     },
     "execution_count": 61,
     "metadata": {},
     "output_type": "execute_result"
    }
   ],
   "source": [
    "# Соберем полученные данные по моделям и метрикам в таблицу\n",
    "models = [model_gbc_downsampled, model_base_gbc, model_rfc_b]\n",
    "models_name = ['GBC downsampled', 'GBC downsampled_test', 'GBC threshold 0.2', 'GBC threshold 0.2_test', 'RFC threshold 0.42', 'RFC threshold 0.42_test']\n",
    "columns_name = ['precision', 'recall', 'f1', 'roc_auc', 'accuracy']\n",
    "metrics_name=[precision_score, recall_score, f1_score, roc_auc_score, accuracy_score]\n",
    "result=[]\n",
    "for i in models:\n",
    "  if i == model_base_gbc:\n",
    "    threshold = 0.2\n",
    "  elif i == model_rfc_b:\n",
    "      threshold = 0.42\n",
    "  else:\n",
    "    threshold = 0.5\n",
    "  res=[]\n",
    "  res_test=[]\n",
    "  for j in metrics_name:\n",
    "    res.append(j(target, i.predict_proba(features)[:, 1] > threshold))\n",
    "    res_test.append(j(target_test, i.predict_proba(features_test)[:, 1] > threshold))\n",
    "  result.append(res)\n",
    "  result.append(res_test)\n",
    "df_result=pd.DataFrame(result,index=models_name,columns=columns_name)\n",
    "df_result"
   ]
  },
  {
   "cell_type": "markdown",
   "metadata": {},
   "source": [
    "Бустинг стабильно работает на полном датасете и на тестовых данных метрики не сильно отличаются, для модели случайного леса метрики для тестовой выборки существенно ниже, чем метрики для датасета в целом.\n",
    "\n",
    "Обе модели бустинга примерно одинаковые результаты на тесте показали. Попробуем проанализировать порог для бустинга на уменьшенной выборке."
   ]
  },
  {
   "cell_type": "code",
   "execution_count": 62,
   "metadata": {},
   "outputs": [
    {
     "name": "stdout",
     "output_type": "stream",
     "text": [
      "Порог = 0.00 | Точность = 0.198, Полнота = 1.000, F1 = 0.331, ROC_auc = 0.500\n",
      "Порог = 0.02 | Точность = 0.199, Полнота = 1.000, F1 = 0.332, ROC_auc = 0.502\n",
      "Порог = 0.04 | Точность = 0.207, Полнота = 0.996, F1 = 0.343, ROC_auc = 0.526\n",
      "Порог = 0.06 | Точность = 0.219, Полнота = 0.991, F1 = 0.359, ROC_auc = 0.559\n",
      "Порог = 0.08 | Точность = 0.229, Полнота = 0.980, F1 = 0.371, ROC_auc = 0.582\n",
      "Порог = 0.10 | Точность = 0.241, Полнота = 0.978, F1 = 0.387, ROC_auc = 0.609\n",
      "Порог = 0.12 | Точность = 0.252, Полнота = 0.969, F1 = 0.400, ROC_auc = 0.629\n",
      "Порог = 0.14 | Точность = 0.267, Полнота = 0.962, F1 = 0.419, ROC_auc = 0.655\n",
      "Порог = 0.16 | Точность = 0.280, Полнота = 0.951, F1 = 0.432, ROC_auc = 0.672\n",
      "Порог = 0.18 | Точность = 0.289, Полнота = 0.942, F1 = 0.443, ROC_auc = 0.685\n",
      "Порог = 0.20 | Точность = 0.299, Полнота = 0.929, F1 = 0.452, ROC_auc = 0.694\n",
      "Порог = 0.22 | Точность = 0.310, Полнота = 0.925, F1 = 0.465, ROC_auc = 0.708\n",
      "Порог = 0.24 | Точность = 0.321, Полнота = 0.916, F1 = 0.476, ROC_auc = 0.718\n",
      "Порог = 0.26 | Точность = 0.330, Полнота = 0.907, F1 = 0.484, ROC_auc = 0.725\n",
      "Порог = 0.28 | Точность = 0.342, Полнота = 0.894, F1 = 0.495, ROC_auc = 0.734\n",
      "Порог = 0.30 | Точность = 0.352, Полнота = 0.887, F1 = 0.504, ROC_auc = 0.742\n",
      "Порог = 0.32 | Точность = 0.360, Полнота = 0.874, F1 = 0.510, ROC_auc = 0.745\n",
      "Порог = 0.34 | Точность = 0.373, Полнота = 0.867, F1 = 0.522, ROC_auc = 0.753\n",
      "Порог = 0.36 | Точность = 0.390, Полнота = 0.863, F1 = 0.537, ROC_auc = 0.764\n",
      "Порог = 0.38 | Точность = 0.404, Полнота = 0.856, F1 = 0.549, ROC_auc = 0.772\n",
      "Порог = 0.40 | Точность = 0.417, Полнота = 0.847, F1 = 0.559, ROC_auc = 0.777\n",
      "Порог = 0.42 | Точность = 0.428, Полнота = 0.843, F1 = 0.568, ROC_auc = 0.782\n",
      "Порог = 0.44 | Точность = 0.439, Полнота = 0.834, F1 = 0.575, ROC_auc = 0.785\n",
      "Порог = 0.46 | Точность = 0.450, Полнота = 0.809, F1 = 0.578, ROC_auc = 0.782\n",
      "Порог = 0.48 | Точность = 0.464, Полнота = 0.798, F1 = 0.587, ROC_auc = 0.785\n",
      "Порог = 0.50 | Точность = 0.476, Полнота = 0.776, F1 = 0.590, ROC_auc = 0.782\n",
      "Порог = 0.52 | Точность = 0.487, Полнота = 0.763, F1 = 0.594, ROC_auc = 0.782\n",
      "Порог = 0.54 | Точность = 0.501, Полнота = 0.763, F1 = 0.605, ROC_auc = 0.787\n",
      "Порог = 0.56 | Точность = 0.509, Полнота = 0.749, F1 = 0.606, ROC_auc = 0.785\n",
      "Порог = 0.58 | Точность = 0.526, Полнота = 0.736, F1 = 0.614, ROC_auc = 0.786\n",
      "Порог = 0.60 | Точность = 0.537, Полнота = 0.725, F1 = 0.617, ROC_auc = 0.785\n",
      "Порог = 0.62 | Точность = 0.555, Полнота = 0.716, F1 = 0.625, ROC_auc = 0.787\n",
      "Порог = 0.64 | Точность = 0.572, Полнота = 0.707, F1 = 0.632, ROC_auc = 0.788\n",
      "Порог = 0.66 | Точность = 0.586, Полнота = 0.696, F1 = 0.636, ROC_auc = 0.787\n",
      "Порог = 0.68 | Точность = 0.596, Полнота = 0.670, F1 = 0.630, ROC_auc = 0.779\n",
      "Порог = 0.70 | Точность = 0.617, Полнота = 0.650, F1 = 0.633, ROC_auc = 0.775\n",
      "Порог = 0.72 | Точность = 0.626, Полнота = 0.623, F1 = 0.624, ROC_auc = 0.765\n",
      "Порог = 0.74 | Точность = 0.644, Полнота = 0.605, F1 = 0.624, ROC_auc = 0.761\n",
      "Порог = 0.76 | Точность = 0.655, Полнота = 0.590, F1 = 0.621, ROC_auc = 0.756\n",
      "Порог = 0.78 | Точность = 0.680, Полнота = 0.561, F1 = 0.615, ROC_auc = 0.748\n"
     ]
    }
   ],
   "source": [
    "# Рассчитаем оптимальный порог классификации для градиентного бустинга на уменьшенной выборке\n",
    "\n",
    "probabilities_test = model_gbc_downsampled.predict_proba(features_test)\n",
    "probabilities_one_test = probabilities_test[:, 1]\n",
    "\n",
    "for threshold in np.arange(0, 0.8, 0.02):\n",
    "    predicted_test = probabilities_one_test > threshold \n",
    "    precision = precision_score(target_test,predicted_test) \n",
    "    recall = recall_score(target_test,predicted_test) \n",
    "    print(\"Порог = {:.2f} | Точность = {:.3f}, Полнота = {:.3f}, F1 = {:.3f}, ROC_auc = {:.3f}\".format(\n",
    "        threshold, precision, recall, f1_score(target_test, predicted_test), roc_auc_score(target_test, predicted_test)))"
   ]
  },
  {
   "cell_type": "code",
   "execution_count": 63,
   "metadata": {},
   "outputs": [
    {
     "data": {
      "text/html": [
       "<div>\n",
       "<style scoped>\n",
       "    .dataframe tbody tr th:only-of-type {\n",
       "        vertical-align: middle;\n",
       "    }\n",
       "\n",
       "    .dataframe tbody tr th {\n",
       "        vertical-align: top;\n",
       "    }\n",
       "\n",
       "    .dataframe thead th {\n",
       "        text-align: right;\n",
       "    }\n",
       "</style>\n",
       "<table border=\"1\" class=\"dataframe\">\n",
       "  <thead>\n",
       "    <tr style=\"text-align: right;\">\n",
       "      <th></th>\n",
       "      <th>precision</th>\n",
       "      <th>recall</th>\n",
       "      <th>f1</th>\n",
       "      <th>roc_auc</th>\n",
       "      <th>accuracy</th>\n",
       "    </tr>\n",
       "  </thead>\n",
       "  <tbody>\n",
       "    <tr>\n",
       "      <th>GBC downsampled</th>\n",
       "      <td>0.54</td>\n",
       "      <td>0.87</td>\n",
       "      <td>0.66</td>\n",
       "      <td>0.84</td>\n",
       "      <td>0.82</td>\n",
       "    </tr>\n",
       "    <tr>\n",
       "      <th>GBC downsampled_test</th>\n",
       "      <td>0.48</td>\n",
       "      <td>0.78</td>\n",
       "      <td>0.59</td>\n",
       "      <td>0.78</td>\n",
       "      <td>0.79</td>\n",
       "    </tr>\n",
       "    <tr>\n",
       "      <th>GBC downsampled_0.62</th>\n",
       "      <td>0.62</td>\n",
       "      <td>0.79</td>\n",
       "      <td>0.69</td>\n",
       "      <td>0.83</td>\n",
       "      <td>0.86</td>\n",
       "    </tr>\n",
       "    <tr>\n",
       "      <th>GBC downsampled_test 0.62</th>\n",
       "      <td>0.55</td>\n",
       "      <td>0.72</td>\n",
       "      <td>0.63</td>\n",
       "      <td>0.79</td>\n",
       "      <td>0.83</td>\n",
       "    </tr>\n",
       "    <tr>\n",
       "      <th>GBC threshold 0.2</th>\n",
       "      <td>0.53</td>\n",
       "      <td>0.78</td>\n",
       "      <td>0.63</td>\n",
       "      <td>0.80</td>\n",
       "      <td>0.81</td>\n",
       "    </tr>\n",
       "    <tr>\n",
       "      <th>GBC threshold 0.2_test</th>\n",
       "      <td>0.49</td>\n",
       "      <td>0.76</td>\n",
       "      <td>0.60</td>\n",
       "      <td>0.79</td>\n",
       "      <td>0.80</td>\n",
       "    </tr>\n",
       "  </tbody>\n",
       "</table>\n",
       "</div>"
      ],
      "text/plain": [
       "                           precision  recall   f1  roc_auc  accuracy\n",
       "GBC downsampled                 0.54    0.87 0.66     0.84      0.82\n",
       "GBC downsampled_test            0.48    0.78 0.59     0.78      0.79\n",
       "GBC downsampled_0.62            0.62    0.79 0.69     0.83      0.86\n",
       "GBC downsampled_test 0.62       0.55    0.72 0.63     0.79      0.83\n",
       "GBC threshold 0.2               0.53    0.78 0.63     0.80      0.81\n",
       "GBC threshold 0.2_test          0.49    0.76 0.60     0.79      0.80"
      ]
     },
     "execution_count": 63,
     "metadata": {},
     "output_type": "execute_result"
    }
   ],
   "source": [
    "models = [model_gbc_downsampled, model_gbc_downsampled, model_base_gbc]\n",
    "models_name = ['GBC downsampled', 'GBC downsampled_test','GBC downsampled_0.62', 'GBC downsampled_test 0.62', 'GBC threshold 0.2', 'GBC threshold 0.2_test']\n",
    "columns_name = ['precision', 'recall', 'f1', 'roc_auc', 'accuracy']\n",
    "metrics_name=[precision_score, recall_score, f1_score, roc_auc_score, accuracy_score]\n",
    "result=[]\n",
    "for i in range(len(models)):\n",
    "  if i == 0:\n",
    "    threshold = 0.5\n",
    "  elif i == 1:\n",
    "      threshold = 0.62\n",
    "  else:\n",
    "    threshold = 0.2  \n",
    "  res=[]\n",
    "  res_test=[]\n",
    "  for j in metrics_name:    \n",
    "        res.append(j(target, models[i].predict_proba(features)[:, 1] > threshold))\n",
    "        res_test.append(j(target_test, models[i].predict_proba(features_test)[:, 1] > threshold))\n",
    "  result.append(res)\n",
    "  result.append(res_test)\n",
    "df_result=pd.DataFrame(result,index=models_name,columns=columns_name)\n",
    "df_result"
   ]
  },
  {
   "cell_type": "markdown",
   "metadata": {},
   "source": [
    "Все три вариации градиентного бустинга дают примерно одинаковый результат по метрикам."
   ]
  },
  {
   "cell_type": "code",
   "execution_count": 64,
   "metadata": {},
   "outputs": [
    {
     "data": {
      "image/png": "[encoded data removed]",
      "text/plain": [
       "<Figure size 864x432 with 2 Axes>"
      ]
     },
     "metadata": {
      "needs_background": "light"
     },
     "output_type": "display_data"
    }
   ],
   "source": [
    "# Построим график для понимания важности факторов и permutation_importance\n",
    "feature_importance = model_gbc_downsampled.feature_importances_\n",
    "sorted_idx = np.argsort(feature_importance)\n",
    "pos = np.arange(sorted_idx.shape[0]) + 0.5\n",
    "fig = plt.figure(figsize=(12, 6))\n",
    "plt.subplot(1, 2, 1)\n",
    "plt.barh(pos, feature_importance[sorted_idx], align=\"center\")\n",
    "plt.yticks(pos, np.array(features.columns)[sorted_idx])\n",
    "plt.title(\"Feature Importance \")\n",
    "\n",
    "result = permutation_importance(\n",
    "    model_gbc_downsampled, features, target, n_repeats=10, random_state=12345, n_jobs=2\n",
    ")\n",
    "sorted_idx = result.importances_mean.argsort()\n",
    "plt.subplot(1, 2, 2)\n",
    "plt.boxplot(\n",
    "    result.importances[sorted_idx].T,\n",
    "    vert=False,\n",
    "    labels=np.array(features.columns)[sorted_idx],\n",
    ")\n",
    "plt.title(\"Permutation Importance \")\n",
    "fig.tight_layout()\n",
    "plt.show()"
   ]
  },
  {
   "cell_type": "markdown",
   "metadata": {},
   "source": [
    "Вывод\n",
    "\n",
    "Лучшая модель - это модель Градиентного бустинга. Градиентный бустинг, обученный на несбалансированных данных с порогом 0.2, градиентный бустинг обученный на уменьшенной выборке с порогом 0.62 дают примерно одинаковые результаты по метрикам 0,64 и 0,79 по f1 и roc_auc соответственно. В модели сильно выделяются 2 основных фактора : возраст и количество продуктов. Так же достаточно существенно влияет баланс на счете и активность клиента. При количестве случайного перемешивания объектов равном 10 важность признаков для данного набора данных существенно не изменяется. Так же остается самый существенный фактор это возраст, далее количество продуктов, активность и баланс на счете."
   ]
  },
  {
   "cell_type": "markdown",
   "metadata": {},
   "source": [
    "## Чек-лист готовности проекта"
   ]
  },
  {
   "cell_type": "markdown",
   "metadata": {},
   "source": [
    "Поставьте 'x' в выполненных пунктах. Далее нажмите Shift+Enter."
   ]
  },
  {
   "cell_type": "markdown",
   "metadata": {},
   "source": [
    "- [x]  Jupyter Notebook открыт\n",
    "- [ ]  Весь код выполняется без ошибок\n",
    "- [ ]  Ячейки с кодом расположены в порядке исполнения\n",
    "- [ ]  Выполнен шаг 1: данные подготовлены\n",
    "- [ ]  Выполнен шаг 2: задача исследована\n",
    "    - [ ]  Исследован баланс классов\n",
    "    - [ ]  Изучены модели без учёта дисбаланса\n",
    "    - [ ]  Написаны выводы по результатам исследования\n",
    "- [ ]  Выполнен шаг 3: учтён дисбаланс\n",
    "    - [ ]  Применено несколько способов борьбы с дисбалансом\n",
    "    - [ ]  Написаны выводы по результатам исследования\n",
    "- [ ]  Выполнен шаг 4: проведено тестирование\n",
    "- [ ]  Удалось достичь *F1*-меры не менее 0.59\n",
    "- [ ]  Исследована метрика *AUC-ROC*"
   ]
  }
 ],
 "metadata": {
  "ExecuteTimeLog": [
   {
    "duration": 1658,
    "start_time": "2023-04-24T18:43:55.455Z"
   },
   {
    "duration": 5,
    "start_time": "2023-04-24T18:44:29.536Z"
   },
   {
    "duration": 3,
    "start_time": "2023-04-24T18:44:40.574Z"
   },
   {
    "duration": 3,
    "start_time": "2023-04-24T18:45:06.234Z"
   },
   {
    "duration": 3,
    "start_time": "2023-04-24T18:46:01.059Z"
   },
   {
    "duration": 159,
    "start_time": "2023-04-24T18:47:54.858Z"
   },
   {
    "duration": 209,
    "start_time": "2023-04-24T18:49:08.497Z"
   },
   {
    "duration": 15,
    "start_time": "2023-04-24T18:49:56.189Z"
   },
   {
    "duration": 13,
    "start_time": "2023-04-24T18:50:55.483Z"
   },
   {
    "duration": 6,
    "start_time": "2023-04-24T18:55:13.439Z"
   },
   {
    "duration": 9,
    "start_time": "2023-04-24T18:55:40.734Z"
   },
   {
    "duration": 4,
    "start_time": "2023-04-24T18:57:09.445Z"
   },
   {
    "duration": 26,
    "start_time": "2023-04-24T18:57:33.987Z"
   },
   {
    "duration": 10,
    "start_time": "2023-04-24T19:00:13.359Z"
   },
   {
    "duration": 6,
    "start_time": "2023-04-24T19:03:08.820Z"
   },
   {
    "duration": 128,
    "start_time": "2023-04-24T19:03:38.452Z"
   },
   {
    "duration": 5,
    "start_time": "2023-04-24T19:05:15.540Z"
   },
   {
    "duration": 123,
    "start_time": "2023-04-24T19:05:45.511Z"
   },
   {
    "duration": 7,
    "start_time": "2023-04-24T19:06:07.542Z"
   },
   {
    "duration": 3,
    "start_time": "2023-04-24T19:06:45.797Z"
   },
   {
    "duration": 52,
    "start_time": "2023-04-24T19:07:14.375Z"
   },
   {
    "duration": 73,
    "start_time": "2023-04-24T19:07:47.329Z"
   },
   {
    "duration": 93,
    "start_time": "2023-04-24T19:08:00.015Z"
   },
   {
    "duration": 15,
    "start_time": "2023-04-24T19:08:15.450Z"
   },
   {
    "duration": 293,
    "start_time": "2023-04-24T19:08:59.088Z"
   },
   {
    "duration": 2960,
    "start_time": "2023-04-24T19:10:00.785Z"
   },
   {
    "duration": 25,
    "start_time": "2023-04-24T19:12:35.596Z"
   },
   {
    "duration": 3,
    "start_time": "2023-04-24T19:13:06.904Z"
   },
   {
    "duration": 5,
    "start_time": "2023-04-24T19:13:34.324Z"
   },
   {
    "duration": 10,
    "start_time": "2023-04-24T19:14:19.597Z"
   },
   {
    "duration": 25,
    "start_time": "2023-04-24T19:15:13.740Z"
   },
   {
    "duration": 8,
    "start_time": "2023-04-24T19:15:39.079Z"
   },
   {
    "duration": 35,
    "start_time": "2023-04-24T19:16:53.976Z"
   },
   {
    "duration": 1586,
    "start_time": "2023-04-25T16:46:28.569Z"
   },
   {
    "duration": 3,
    "start_time": "2023-04-25T16:46:30.157Z"
   },
   {
    "duration": 42,
    "start_time": "2023-04-25T16:46:30.162Z"
   },
   {
    "duration": 46,
    "start_time": "2023-04-25T16:46:30.206Z"
   },
   {
    "duration": 102,
    "start_time": "2023-04-25T16:46:30.255Z"
   },
   {
    "duration": 15,
    "start_time": "2023-04-25T16:46:30.359Z"
   },
   {
    "duration": 24,
    "start_time": "2023-04-25T16:46:30.375Z"
   },
   {
    "duration": 36,
    "start_time": "2023-04-25T16:46:30.401Z"
   },
   {
    "duration": 51,
    "start_time": "2023-04-25T16:46:30.440Z"
   },
   {
    "duration": 50,
    "start_time": "2023-04-25T16:46:30.493Z"
   },
   {
    "duration": 40,
    "start_time": "2023-04-25T16:46:30.546Z"
   },
   {
    "duration": 43,
    "start_time": "2023-04-25T16:46:30.589Z"
   },
   {
    "duration": 74,
    "start_time": "2023-04-25T16:46:30.634Z"
   },
   {
    "duration": 151,
    "start_time": "2023-04-25T16:46:30.712Z"
   },
   {
    "duration": 5,
    "start_time": "2023-04-25T16:46:30.865Z"
   },
   {
    "duration": 181,
    "start_time": "2023-04-25T16:46:30.873Z"
   },
   {
    "duration": 8,
    "start_time": "2023-04-25T16:46:31.056Z"
   },
   {
    "duration": 32,
    "start_time": "2023-04-25T16:46:31.067Z"
   },
   {
    "duration": 88,
    "start_time": "2023-04-25T16:46:31.102Z"
   },
   {
    "duration": 319,
    "start_time": "2023-04-25T16:46:31.192Z"
   },
   {
    "duration": 2829,
    "start_time": "2023-04-25T16:46:31.512Z"
   },
   {
    "duration": 27,
    "start_time": "2023-04-25T16:46:34.343Z"
   },
   {
    "duration": 3,
    "start_time": "2023-04-25T16:46:34.372Z"
   },
   {
    "duration": 7,
    "start_time": "2023-04-25T16:46:34.377Z"
   },
   {
    "duration": 8,
    "start_time": "2023-04-25T16:46:34.386Z"
   },
   {
    "duration": 57,
    "start_time": "2023-04-25T16:46:34.396Z"
   },
   {
    "duration": 7,
    "start_time": "2023-04-25T16:46:34.454Z"
   },
   {
    "duration": 82,
    "start_time": "2023-04-25T16:46:34.462Z"
   },
   {
    "duration": 57101,
    "start_time": "2023-04-25T16:46:34.546Z"
   },
   {
    "duration": 266,
    "start_time": "2023-04-25T16:47:31.649Z"
   },
   {
    "duration": 326047,
    "start_time": "2023-04-25T16:53:37.034Z"
   },
   {
    "duration": 1480,
    "start_time": "2023-04-25T17:11:50.541Z"
   },
   {
    "duration": 343,
    "start_time": "2023-04-25T17:16:02.681Z"
   },
   {
    "duration": 235,
    "start_time": "2023-04-25T17:17:28.732Z"
   },
   {
    "duration": 7,
    "start_time": "2023-04-25T18:19:52.346Z"
   },
   {
    "duration": 6,
    "start_time": "2023-04-25T18:20:25.357Z"
   },
   {
    "duration": 125,
    "start_time": "2023-04-25T18:23:19.513Z"
   },
   {
    "duration": 396,
    "start_time": "2023-04-25T18:27:34.390Z"
   },
   {
    "duration": 1670,
    "start_time": "2023-04-25T18:31:24.181Z"
   },
   {
    "duration": 3,
    "start_time": "2023-04-25T18:31:25.853Z"
   },
   {
    "duration": 14,
    "start_time": "2023-04-25T18:31:25.857Z"
   },
   {
    "duration": 13,
    "start_time": "2023-04-25T18:31:25.873Z"
   },
   {
    "duration": 50,
    "start_time": "2023-04-25T18:31:25.889Z"
   },
   {
    "duration": 16,
    "start_time": "2023-04-25T18:31:25.941Z"
   },
   {
    "duration": 15,
    "start_time": "2023-04-25T18:31:25.958Z"
   },
   {
    "duration": 7,
    "start_time": "2023-04-25T18:31:25.975Z"
   },
   {
    "duration": 13,
    "start_time": "2023-04-25T18:31:25.985Z"
   },
   {
    "duration": 10,
    "start_time": "2023-04-25T18:31:26.002Z"
   },
   {
    "duration": 48,
    "start_time": "2023-04-25T18:31:26.014Z"
   },
   {
    "duration": 16,
    "start_time": "2023-04-25T18:31:26.065Z"
   },
   {
    "duration": 11,
    "start_time": "2023-04-25T18:31:26.084Z"
   },
   {
    "duration": 180,
    "start_time": "2023-04-25T18:31:26.097Z"
   },
   {
    "duration": 6,
    "start_time": "2023-04-25T18:31:26.280Z"
   },
   {
    "duration": 135,
    "start_time": "2023-04-25T18:31:26.288Z"
   },
   {
    "duration": 14,
    "start_time": "2023-04-25T18:31:26.425Z"
   },
   {
    "duration": 8,
    "start_time": "2023-04-25T18:31:26.441Z"
   },
   {
    "duration": 62,
    "start_time": "2023-04-25T18:31:26.451Z"
   },
   {
    "duration": 416,
    "start_time": "2023-04-25T18:31:26.515Z"
   },
   {
    "duration": 3484,
    "start_time": "2023-04-25T18:31:26.933Z"
   },
   {
    "duration": 46,
    "start_time": "2023-04-25T18:31:30.419Z"
   },
   {
    "duration": 20,
    "start_time": "2023-04-25T18:31:30.467Z"
   },
   {
    "duration": 36,
    "start_time": "2023-04-25T18:31:30.489Z"
   },
   {
    "duration": 50,
    "start_time": "2023-04-25T18:31:30.527Z"
   },
   {
    "duration": 87,
    "start_time": "2023-04-25T18:31:30.579Z"
   },
   {
    "duration": 25,
    "start_time": "2023-04-25T18:31:30.668Z"
   },
   {
    "duration": 240,
    "start_time": "2023-04-25T18:31:30.699Z"
   },
   {
    "duration": 62297,
    "start_time": "2023-04-25T18:31:30.942Z"
   },
   {
    "duration": 565,
    "start_time": "2023-04-25T18:32:33.241Z"
   },
   {
    "duration": 1693,
    "start_time": "2023-04-27T05:04:04.477Z"
   },
   {
    "duration": 2,
    "start_time": "2023-04-27T05:04:06.172Z"
   },
   {
    "duration": 19,
    "start_time": "2023-04-27T05:04:06.176Z"
   },
   {
    "duration": 36,
    "start_time": "2023-04-27T05:04:06.197Z"
   },
   {
    "duration": 122,
    "start_time": "2023-04-27T05:04:06.235Z"
   },
   {
    "duration": 15,
    "start_time": "2023-04-27T05:04:06.359Z"
   },
   {
    "duration": 15,
    "start_time": "2023-04-27T05:04:06.376Z"
   },
   {
    "duration": 8,
    "start_time": "2023-04-27T05:04:06.393Z"
   },
   {
    "duration": 13,
    "start_time": "2023-04-27T05:04:06.402Z"
   },
   {
    "duration": 16,
    "start_time": "2023-04-27T05:04:06.418Z"
   },
   {
    "duration": 22,
    "start_time": "2023-04-27T05:04:06.436Z"
   },
   {
    "duration": 8,
    "start_time": "2023-04-27T05:04:06.460Z"
   },
   {
    "duration": 21,
    "start_time": "2023-04-27T05:04:06.470Z"
   },
   {
    "duration": 180,
    "start_time": "2023-04-27T05:04:06.493Z"
   },
   {
    "duration": 7,
    "start_time": "2023-04-27T05:04:06.675Z"
   },
   {
    "duration": 163,
    "start_time": "2023-04-27T05:04:06.683Z"
   },
   {
    "duration": 11,
    "start_time": "2023-04-27T05:04:06.849Z"
   },
   {
    "duration": 16,
    "start_time": "2023-04-27T05:04:06.862Z"
   },
   {
    "duration": 98,
    "start_time": "2023-04-27T05:04:06.881Z"
   },
   {
    "duration": 321,
    "start_time": "2023-04-27T05:04:06.981Z"
   },
   {
    "duration": 3150,
    "start_time": "2023-04-27T05:04:07.304Z"
   },
   {
    "duration": 30,
    "start_time": "2023-04-27T05:04:10.456Z"
   },
   {
    "duration": 3,
    "start_time": "2023-04-27T05:04:10.488Z"
   },
   {
    "duration": 9,
    "start_time": "2023-04-27T05:04:10.492Z"
   },
   {
    "duration": 8,
    "start_time": "2023-04-27T05:04:10.503Z"
   },
   {
    "duration": 37,
    "start_time": "2023-04-27T05:04:10.513Z"
   },
   {
    "duration": 8,
    "start_time": "2023-04-27T05:04:10.552Z"
   },
   {
    "duration": 171,
    "start_time": "2023-04-27T05:04:10.563Z"
   },
   {
    "duration": 62935,
    "start_time": "2023-04-27T05:04:10.736Z"
   },
   {
    "duration": 1657,
    "start_time": "2023-04-27T05:05:13.673Z"
   },
   {
    "duration": 347845,
    "start_time": "2023-04-27T05:05:15.332Z"
   },
   {
    "duration": 1654,
    "start_time": "2023-04-27T05:11:03.179Z"
   },
   {
    "duration": 358,
    "start_time": "2023-04-27T05:11:04.835Z"
   },
   {
    "duration": 197,
    "start_time": "2023-04-27T05:11:05.196Z"
   },
   {
    "duration": 6,
    "start_time": "2023-04-27T05:11:05.395Z"
   },
   {
    "duration": 12,
    "start_time": "2023-04-27T05:11:05.402Z"
   },
   {
    "duration": 119,
    "start_time": "2023-04-27T05:11:05.416Z"
   },
   {
    "duration": 551,
    "start_time": "2023-04-27T05:11:05.538Z"
   },
   {
    "duration": 63676,
    "start_time": "2023-04-27T05:11:06.091Z"
   },
   {
    "duration": 914,
    "start_time": "2023-04-27T05:12:09.770Z"
   },
   {
    "duration": 315,
    "start_time": "2023-04-27T05:24:08.653Z"
   },
   {
    "duration": 4,
    "start_time": "2023-04-27T05:25:45.023Z"
   },
   {
    "duration": 14,
    "start_time": "2023-04-27T05:26:07.512Z"
   },
   {
    "duration": 201,
    "start_time": "2023-04-27T05:26:56.836Z"
   },
   {
    "duration": 1532,
    "start_time": "2023-04-27T05:30:04.332Z"
   },
   {
    "duration": 3,
    "start_time": "2023-04-27T05:30:05.867Z"
   },
   {
    "duration": 34,
    "start_time": "2023-04-27T05:30:05.872Z"
   },
   {
    "duration": 9,
    "start_time": "2023-04-27T05:30:05.909Z"
   },
   {
    "duration": 74,
    "start_time": "2023-04-27T05:30:05.920Z"
   },
   {
    "duration": 18,
    "start_time": "2023-04-27T05:30:05.995Z"
   },
   {
    "duration": 16,
    "start_time": "2023-04-27T05:30:06.015Z"
   },
   {
    "duration": 9,
    "start_time": "2023-04-27T05:30:06.033Z"
   },
   {
    "duration": 38,
    "start_time": "2023-04-27T05:30:06.045Z"
   },
   {
    "duration": 22,
    "start_time": "2023-04-27T05:30:06.087Z"
   },
   {
    "duration": 36,
    "start_time": "2023-04-27T05:30:06.111Z"
   },
   {
    "duration": 11,
    "start_time": "2023-04-27T05:30:06.149Z"
   },
   {
    "duration": 10,
    "start_time": "2023-04-27T05:30:06.162Z"
   },
   {
    "duration": 152,
    "start_time": "2023-04-27T05:30:06.174Z"
   },
   {
    "duration": 11,
    "start_time": "2023-04-27T05:30:06.327Z"
   },
   {
    "duration": 145,
    "start_time": "2023-04-27T05:30:06.340Z"
   },
   {
    "duration": 8,
    "start_time": "2023-04-27T05:30:06.487Z"
   },
   {
    "duration": 14,
    "start_time": "2023-04-27T05:30:06.497Z"
   },
   {
    "duration": 101,
    "start_time": "2023-04-27T05:30:06.514Z"
   },
   {
    "duration": 441,
    "start_time": "2023-04-27T05:30:06.618Z"
   },
   {
    "duration": 3147,
    "start_time": "2023-04-27T05:30:07.062Z"
   },
   {
    "duration": 32,
    "start_time": "2023-04-27T05:30:10.211Z"
   },
   {
    "duration": 6,
    "start_time": "2023-04-27T05:30:10.245Z"
   },
   {
    "duration": 34,
    "start_time": "2023-04-27T05:30:10.252Z"
   },
   {
    "duration": 25,
    "start_time": "2023-04-27T05:30:10.288Z"
   },
   {
    "duration": 42,
    "start_time": "2023-04-27T05:30:10.315Z"
   },
   {
    "duration": 22,
    "start_time": "2023-04-27T05:30:10.359Z"
   },
   {
    "duration": 54,
    "start_time": "2023-04-27T05:30:10.387Z"
   },
   {
    "duration": 64198,
    "start_time": "2023-04-27T05:30:10.443Z"
   },
   {
    "duration": 280,
    "start_time": "2023-04-27T05:31:14.643Z"
   },
   {
    "duration": 352816,
    "start_time": "2023-04-27T05:31:14.925Z"
   },
   {
    "duration": 1522,
    "start_time": "2023-04-27T05:37:07.743Z"
   },
   {
    "duration": 335,
    "start_time": "2023-04-27T05:37:09.267Z"
   },
   {
    "duration": 192,
    "start_time": "2023-04-27T05:37:09.604Z"
   },
   {
    "duration": 6,
    "start_time": "2023-04-27T05:37:09.798Z"
   },
   {
    "duration": 22,
    "start_time": "2023-04-27T05:37:09.805Z"
   },
   {
    "duration": 109,
    "start_time": "2023-04-27T05:37:09.828Z"
   },
   {
    "duration": 544,
    "start_time": "2023-04-27T05:37:09.938Z"
   },
   {
    "duration": 64420,
    "start_time": "2023-04-27T05:37:10.484Z"
   },
   {
    "duration": 777,
    "start_time": "2023-04-27T05:38:14.906Z"
   },
   {
    "duration": 330,
    "start_time": "2023-04-27T05:38:15.684Z"
   },
   {
    "duration": 4,
    "start_time": "2023-04-27T05:38:16.016Z"
   },
   {
    "duration": 63,
    "start_time": "2023-04-27T05:38:16.022Z"
   },
   {
    "duration": 54,
    "start_time": "2023-04-27T05:38:16.087Z"
   },
   {
    "duration": 91719,
    "start_time": "2023-04-27T05:38:16.143Z"
   },
   {
    "duration": 1911,
    "start_time": "2023-04-27T05:39:47.864Z"
   },
   {
    "duration": 1639,
    "start_time": "2023-04-27T05:41:16.342Z"
   },
   {
    "duration": 3,
    "start_time": "2023-04-27T05:41:17.983Z"
   },
   {
    "duration": 30,
    "start_time": "2023-04-27T05:41:17.988Z"
   },
   {
    "duration": 6,
    "start_time": "2023-04-27T05:41:18.021Z"
   },
   {
    "duration": 63,
    "start_time": "2023-04-27T05:41:18.030Z"
   },
   {
    "duration": 18,
    "start_time": "2023-04-27T05:41:18.096Z"
   },
   {
    "duration": 17,
    "start_time": "2023-04-27T05:41:18.115Z"
   },
   {
    "duration": 6,
    "start_time": "2023-04-27T05:41:18.133Z"
   },
   {
    "duration": 8,
    "start_time": "2023-04-27T05:41:18.141Z"
   },
   {
    "duration": 16,
    "start_time": "2023-04-27T05:41:18.151Z"
   },
   {
    "duration": 23,
    "start_time": "2023-04-27T05:41:18.168Z"
   },
   {
    "duration": 8,
    "start_time": "2023-04-27T05:41:18.193Z"
   },
   {
    "duration": 10,
    "start_time": "2023-04-27T05:41:18.202Z"
   },
   {
    "duration": 155,
    "start_time": "2023-04-27T05:41:18.213Z"
   },
   {
    "duration": 5,
    "start_time": "2023-04-27T05:41:18.369Z"
   },
   {
    "duration": 145,
    "start_time": "2023-04-27T05:41:18.376Z"
   },
   {
    "duration": 12,
    "start_time": "2023-04-27T05:41:18.523Z"
   },
   {
    "duration": 3,
    "start_time": "2023-04-27T05:41:18.537Z"
   },
   {
    "duration": 62,
    "start_time": "2023-04-27T05:41:18.542Z"
   },
   {
    "duration": 331,
    "start_time": "2023-04-27T05:41:18.605Z"
   },
   {
    "duration": 3156,
    "start_time": "2023-04-27T05:41:18.938Z"
   },
   {
    "duration": 33,
    "start_time": "2023-04-27T05:41:22.096Z"
   },
   {
    "duration": 3,
    "start_time": "2023-04-27T05:41:22.131Z"
   },
   {
    "duration": 17,
    "start_time": "2023-04-27T05:41:22.136Z"
   },
   {
    "duration": 32,
    "start_time": "2023-04-27T05:41:22.155Z"
   },
   {
    "duration": 30,
    "start_time": "2023-04-27T05:41:22.189Z"
   },
   {
    "duration": 8,
    "start_time": "2023-04-27T05:41:22.221Z"
   },
   {
    "duration": 101,
    "start_time": "2023-04-27T05:41:22.234Z"
   },
   {
    "duration": 64839,
    "start_time": "2023-04-27T05:41:22.337Z"
   },
   {
    "duration": 984,
    "start_time": "2023-04-27T05:42:27.178Z"
   },
   {
    "duration": 342918,
    "start_time": "2023-04-27T05:42:28.164Z"
   },
   {
    "duration": 2346,
    "start_time": "2023-04-27T05:48:11.083Z"
   },
   {
    "duration": 350,
    "start_time": "2023-04-27T05:48:13.435Z"
   },
   {
    "duration": 186,
    "start_time": "2023-04-27T05:48:13.787Z"
   },
   {
    "duration": 6,
    "start_time": "2023-04-27T05:48:13.975Z"
   },
   {
    "duration": 11,
    "start_time": "2023-04-27T05:48:13.983Z"
   },
   {
    "duration": 65,
    "start_time": "2023-04-27T05:48:13.996Z"
   },
   {
    "duration": 622,
    "start_time": "2023-04-27T05:48:14.062Z"
   },
   {
    "duration": 63801,
    "start_time": "2023-04-27T05:48:14.686Z"
   },
   {
    "duration": 1226,
    "start_time": "2023-04-27T05:49:18.489Z"
   },
   {
    "duration": 376,
    "start_time": "2023-04-27T05:49:19.716Z"
   },
   {
    "duration": 5,
    "start_time": "2023-04-27T05:49:20.093Z"
   },
   {
    "duration": 22,
    "start_time": "2023-04-27T05:49:20.100Z"
   },
   {
    "duration": 117,
    "start_time": "2023-04-27T05:49:20.123Z"
   },
   {
    "duration": 91364,
    "start_time": "2023-04-27T05:49:20.250Z"
   },
   {
    "duration": 2012,
    "start_time": "2023-04-27T05:50:51.616Z"
   },
   {
    "duration": 507026,
    "start_time": "2023-04-27T05:50:53.632Z"
   },
   {
    "duration": 8556,
    "start_time": "2023-04-27T05:59:20.660Z"
   },
   {
    "duration": 7,
    "start_time": "2023-04-27T05:59:29.218Z"
   },
   {
    "duration": 14,
    "start_time": "2023-04-27T05:59:29.240Z"
   },
   {
    "duration": 87,
    "start_time": "2023-04-27T05:59:29.256Z"
   },
   {
    "duration": 36043,
    "start_time": "2023-04-27T05:59:29.347Z"
   },
   {
    "duration": 517,
    "start_time": "2023-04-27T06:00:05.391Z"
   },
   {
    "duration": 170967,
    "start_time": "2023-04-27T06:00:05.910Z"
   },
   {
    "duration": 417,
    "start_time": "2023-04-27T06:02:56.879Z"
   },
   {
    "duration": 4,
    "start_time": "2023-04-27T06:02:57.298Z"
   },
   {
    "duration": 50,
    "start_time": "2023-04-27T06:02:57.303Z"
   },
   {
    "duration": 15,
    "start_time": "2023-04-27T06:02:57.355Z"
   },
   {
    "duration": 1780,
    "start_time": "2023-04-27T06:02:57.372Z"
   },
   {
    "duration": 307,
    "start_time": "2023-04-27T06:02:59.155Z"
   },
   {
    "duration": 274,
    "start_time": "2023-04-27T06:02:59.464Z"
   },
   {
    "duration": 0,
    "start_time": "2023-04-27T06:02:59.740Z"
   },
   {
    "duration": 1580,
    "start_time": "2023-04-28T04:33:23.351Z"
   },
   {
    "duration": 3,
    "start_time": "2023-04-28T04:33:24.932Z"
   },
   {
    "duration": 23,
    "start_time": "2023-04-28T04:33:24.936Z"
   },
   {
    "duration": 23,
    "start_time": "2023-04-28T04:33:24.961Z"
   },
   {
    "duration": 77,
    "start_time": "2023-04-28T04:33:24.987Z"
   },
   {
    "duration": 14,
    "start_time": "2023-04-28T04:33:25.065Z"
   },
   {
    "duration": 11,
    "start_time": "2023-04-28T04:33:25.081Z"
   },
   {
    "duration": 5,
    "start_time": "2023-04-28T04:33:25.094Z"
   },
   {
    "duration": 5,
    "start_time": "2023-04-28T04:33:25.100Z"
   },
   {
    "duration": 4,
    "start_time": "2023-04-28T04:33:25.107Z"
   },
   {
    "duration": 17,
    "start_time": "2023-04-28T04:33:25.113Z"
   },
   {
    "duration": 6,
    "start_time": "2023-04-28T04:33:25.131Z"
   },
   {
    "duration": 5,
    "start_time": "2023-04-28T04:33:25.171Z"
   },
   {
    "duration": 115,
    "start_time": "2023-04-28T04:33:25.177Z"
   },
   {
    "duration": 4,
    "start_time": "2023-04-28T04:33:25.293Z"
   },
   {
    "duration": 110,
    "start_time": "2023-04-28T04:33:25.298Z"
   },
   {
    "duration": 6,
    "start_time": "2023-04-28T04:33:25.409Z"
   },
   {
    "duration": 3,
    "start_time": "2023-04-28T04:33:25.416Z"
   },
   {
    "duration": 59,
    "start_time": "2023-04-28T04:33:25.420Z"
   },
   {
    "duration": 267,
    "start_time": "2023-04-28T04:33:25.480Z"
   },
   {
    "duration": 2486,
    "start_time": "2023-04-28T04:33:25.748Z"
   },
   {
    "duration": 22,
    "start_time": "2023-04-28T04:33:28.236Z"
   },
   {
    "duration": 3,
    "start_time": "2023-04-28T04:33:28.259Z"
   },
   {
    "duration": 3,
    "start_time": "2023-04-28T04:33:28.272Z"
   },
   {
    "duration": 6,
    "start_time": "2023-04-28T04:33:28.277Z"
   },
   {
    "duration": 20,
    "start_time": "2023-04-28T04:33:28.285Z"
   },
   {
    "duration": 7,
    "start_time": "2023-04-28T04:33:28.307Z"
   },
   {
    "duration": 63,
    "start_time": "2023-04-28T04:33:28.318Z"
   },
   {
    "duration": 54690,
    "start_time": "2023-04-28T04:33:28.473Z"
   },
   {
    "duration": 226,
    "start_time": "2023-04-28T04:34:23.165Z"
   },
   {
    "duration": 289872,
    "start_time": "2023-04-28T04:34:23.392Z"
   },
   {
    "duration": 1410,
    "start_time": "2023-04-28T04:39:13.266Z"
   },
   {
    "duration": 301,
    "start_time": "2023-04-28T04:39:14.677Z"
   },
   {
    "duration": 135,
    "start_time": "2023-04-28T04:39:14.979Z"
   },
   {
    "duration": 6,
    "start_time": "2023-04-28T04:39:15.116Z"
   },
   {
    "duration": 10,
    "start_time": "2023-04-28T04:39:15.123Z"
   },
   {
    "duration": 38,
    "start_time": "2023-04-28T04:39:15.135Z"
   },
   {
    "duration": 467,
    "start_time": "2023-04-28T04:39:15.177Z"
   },
   {
    "duration": 53887,
    "start_time": "2023-04-28T04:39:15.646Z"
   },
   {
    "duration": 979,
    "start_time": "2023-04-28T04:40:09.535Z"
   },
   {
    "duration": 247,
    "start_time": "2023-04-28T04:40:10.515Z"
   },
   {
    "duration": 10,
    "start_time": "2023-04-28T04:40:10.763Z"
   },
   {
    "duration": 14,
    "start_time": "2023-04-28T04:40:10.774Z"
   },
   {
    "duration": 83,
    "start_time": "2023-04-28T04:40:10.789Z"
   },
   {
    "duration": 78605,
    "start_time": "2023-04-28T04:40:10.873Z"
   },
   {
    "duration": 1739,
    "start_time": "2023-04-28T04:41:29.479Z"
   },
   {
    "duration": 411698,
    "start_time": "2023-04-28T04:41:31.219Z"
   },
   {
    "duration": 7043,
    "start_time": "2023-04-28T04:48:22.918Z"
   },
   {
    "duration": 4,
    "start_time": "2023-04-28T04:48:29.962Z"
   },
   {
    "duration": 10,
    "start_time": "2023-04-28T04:48:29.971Z"
   },
   {
    "duration": 92,
    "start_time": "2023-04-28T04:48:29.982Z"
   },
   {
    "duration": 28873,
    "start_time": "2023-04-28T04:48:30.076Z"
   },
   {
    "duration": 574,
    "start_time": "2023-04-28T04:48:58.950Z"
   },
   {
    "duration": 134229,
    "start_time": "2023-04-28T04:48:59.526Z"
   },
   {
    "duration": 408,
    "start_time": "2023-04-28T04:51:13.757Z"
   },
   {
    "duration": 6,
    "start_time": "2023-04-28T04:51:14.166Z"
   },
   {
    "duration": 28,
    "start_time": "2023-04-28T04:51:14.173Z"
   },
   {
    "duration": 13,
    "start_time": "2023-04-28T04:51:14.202Z"
   },
   {
    "duration": 1487,
    "start_time": "2023-04-28T04:51:14.216Z"
   },
   {
    "duration": 221,
    "start_time": "2023-04-28T04:51:15.704Z"
   },
   {
    "duration": 68,
    "start_time": "2023-04-28T04:51:15.926Z"
   },
   {
    "duration": 0,
    "start_time": "2023-04-28T04:51:15.996Z"
   },
   {
    "duration": 1817,
    "start_time": "2023-04-29T08:34:53.872Z"
   },
   {
    "duration": 2,
    "start_time": "2023-04-29T08:34:55.692Z"
   },
   {
    "duration": 20,
    "start_time": "2023-04-29T08:34:55.696Z"
   },
   {
    "duration": 4,
    "start_time": "2023-04-29T08:34:55.719Z"
   },
   {
    "duration": 169,
    "start_time": "2023-04-29T08:34:55.725Z"
   },
   {
    "duration": 19,
    "start_time": "2023-04-29T08:34:55.897Z"
   },
   {
    "duration": 35,
    "start_time": "2023-04-29T08:34:55.918Z"
   },
   {
    "duration": 7,
    "start_time": "2023-04-29T08:34:55.955Z"
   },
   {
    "duration": 8,
    "start_time": "2023-04-29T08:34:55.964Z"
   },
   {
    "duration": 11,
    "start_time": "2023-04-29T08:34:55.975Z"
   },
   {
    "duration": 30,
    "start_time": "2023-04-29T08:34:55.988Z"
   },
   {
    "duration": 10,
    "start_time": "2023-04-29T08:34:56.020Z"
   },
   {
    "duration": 7,
    "start_time": "2023-04-29T08:34:56.032Z"
   },
   {
    "duration": 150,
    "start_time": "2023-04-29T08:34:56.041Z"
   },
   {
    "duration": 5,
    "start_time": "2023-04-29T08:34:56.193Z"
   },
   {
    "duration": 148,
    "start_time": "2023-04-29T08:34:56.200Z"
   },
   {
    "duration": 10,
    "start_time": "2023-04-29T08:34:56.350Z"
   },
   {
    "duration": 44,
    "start_time": "2023-04-29T08:34:56.362Z"
   },
   {
    "duration": 80,
    "start_time": "2023-04-29T08:34:56.408Z"
   },
   {
    "duration": 326,
    "start_time": "2023-04-29T08:34:56.490Z"
   },
   {
    "duration": 3355,
    "start_time": "2023-04-29T08:34:56.818Z"
   },
   {
    "duration": 36,
    "start_time": "2023-04-29T08:35:00.176Z"
   },
   {
    "duration": 3,
    "start_time": "2023-04-29T08:35:00.214Z"
   },
   {
    "duration": 32,
    "start_time": "2023-04-29T08:35:00.219Z"
   },
   {
    "duration": 43,
    "start_time": "2023-04-29T08:35:00.253Z"
   },
   {
    "duration": 71,
    "start_time": "2023-04-29T08:35:00.298Z"
   },
   {
    "duration": 7,
    "start_time": "2023-04-29T08:35:00.372Z"
   },
   {
    "duration": 54,
    "start_time": "2023-04-29T08:35:00.383Z"
   },
   {
    "duration": 61523,
    "start_time": "2023-04-29T08:35:00.488Z"
   },
   {
    "duration": 483,
    "start_time": "2023-04-29T08:36:02.013Z"
   },
   {
    "duration": 344108,
    "start_time": "2023-04-29T08:36:02.498Z"
   },
   {
    "duration": 2244,
    "start_time": "2023-04-29T08:41:46.608Z"
   },
   {
    "duration": 367,
    "start_time": "2023-04-29T08:41:48.854Z"
   },
   {
    "duration": 195,
    "start_time": "2023-04-29T08:41:49.222Z"
   },
   {
    "duration": 7,
    "start_time": "2023-04-29T08:41:49.419Z"
   },
   {
    "duration": 6,
    "start_time": "2023-04-29T08:41:49.428Z"
   },
   {
    "duration": 51,
    "start_time": "2023-04-29T08:41:49.436Z"
   },
   {
    "duration": 426,
    "start_time": "2023-04-29T08:41:49.489Z"
   },
   {
    "duration": 59071,
    "start_time": "2023-04-29T08:41:49.917Z"
   },
   {
    "duration": 803,
    "start_time": "2023-04-29T08:42:48.989Z"
   },
   {
    "duration": 340,
    "start_time": "2023-04-29T08:42:49.794Z"
   },
   {
    "duration": 5,
    "start_time": "2023-04-29T08:42:50.137Z"
   },
   {
    "duration": 18,
    "start_time": "2023-04-29T08:42:50.144Z"
   },
   {
    "duration": 43,
    "start_time": "2023-04-29T08:42:50.164Z"
   },
   {
    "duration": 82522,
    "start_time": "2023-04-29T08:42:50.212Z"
   },
   {
    "duration": 1208,
    "start_time": "2023-04-29T08:44:12.735Z"
   },
   {
    "duration": 480071,
    "start_time": "2023-04-29T08:44:13.945Z"
   },
   {
    "duration": 7943,
    "start_time": "2023-04-29T08:52:14.019Z"
   },
   {
    "duration": 4,
    "start_time": "2023-04-29T08:52:21.964Z"
   },
   {
    "duration": 44,
    "start_time": "2023-04-29T08:52:21.969Z"
   },
   {
    "duration": 22,
    "start_time": "2023-04-29T08:52:22.015Z"
   },
   {
    "duration": 32814,
    "start_time": "2023-04-29T08:52:22.085Z"
   },
   {
    "duration": 240,
    "start_time": "2023-04-29T08:52:54.905Z"
   },
   {
    "duration": 158604,
    "start_time": "2023-04-29T08:52:55.147Z"
   },
   {
    "duration": 499,
    "start_time": "2023-04-29T08:55:33.753Z"
   },
   {
    "duration": 6,
    "start_time": "2023-04-29T08:55:34.254Z"
   },
   {
    "duration": 59,
    "start_time": "2023-04-29T08:55:34.262Z"
   },
   {
    "duration": 20,
    "start_time": "2023-04-29T08:55:34.323Z"
   },
   {
    "duration": 1356,
    "start_time": "2023-04-29T08:55:34.344Z"
   },
   {
    "duration": 272,
    "start_time": "2023-04-29T08:55:35.702Z"
   },
   {
    "duration": 115,
    "start_time": "2023-04-29T08:55:35.989Z"
   },
   {
    "duration": 0,
    "start_time": "2023-04-29T08:55:36.106Z"
   },
   {
    "duration": 1333,
    "start_time": "2023-04-29T10:25:51.482Z"
   },
   {
    "duration": 74,
    "start_time": "2023-04-29T10:33:01.925Z"
   },
   {
    "duration": 642,
    "start_time": "2023-04-29T10:35:57.587Z"
   },
   {
    "duration": 7007,
    "start_time": "2023-04-29T10:40:55.910Z"
   },
   {
    "duration": 1645,
    "start_time": "2023-04-29T10:44:42.231Z"
   },
   {
    "duration": 3,
    "start_time": "2023-04-29T10:44:43.878Z"
   },
   {
    "duration": 5,
    "start_time": "2023-04-29T10:44:43.883Z"
   },
   {
    "duration": 8,
    "start_time": "2023-04-29T10:44:43.891Z"
   },
   {
    "duration": 155,
    "start_time": "2023-04-29T10:44:43.906Z"
   },
   {
    "duration": 20,
    "start_time": "2023-04-29T10:44:44.064Z"
   },
   {
    "duration": 18,
    "start_time": "2023-04-29T10:44:44.092Z"
   },
   {
    "duration": 13,
    "start_time": "2023-04-29T10:44:44.112Z"
   },
   {
    "duration": 9,
    "start_time": "2023-04-29T10:44:44.128Z"
   },
   {
    "duration": 4,
    "start_time": "2023-04-29T10:44:44.142Z"
   },
   {
    "duration": 50,
    "start_time": "2023-04-29T10:44:44.149Z"
   },
   {
    "duration": 13,
    "start_time": "2023-04-29T10:44:44.205Z"
   },
   {
    "duration": 9,
    "start_time": "2023-04-29T10:44:44.222Z"
   },
   {
    "duration": 187,
    "start_time": "2023-04-29T10:44:44.234Z"
   },
   {
    "duration": 6,
    "start_time": "2023-04-29T10:44:44.423Z"
   },
   {
    "duration": 146,
    "start_time": "2023-04-29T10:44:44.431Z"
   },
   {
    "duration": 12,
    "start_time": "2023-04-29T10:44:44.579Z"
   },
   {
    "duration": 3,
    "start_time": "2023-04-29T10:44:44.592Z"
   },
   {
    "duration": 65,
    "start_time": "2023-04-29T10:44:44.599Z"
   },
   {
    "duration": 341,
    "start_time": "2023-04-29T10:44:44.666Z"
   },
   {
    "duration": 3056,
    "start_time": "2023-04-29T10:44:45.009Z"
   },
   {
    "duration": 33,
    "start_time": "2023-04-29T10:44:48.068Z"
   },
   {
    "duration": 4,
    "start_time": "2023-04-29T10:44:48.103Z"
   },
   {
    "duration": 11,
    "start_time": "2023-04-29T10:44:48.109Z"
   },
   {
    "duration": 13,
    "start_time": "2023-04-29T10:44:48.121Z"
   },
   {
    "duration": 25,
    "start_time": "2023-04-29T10:44:48.136Z"
   },
   {
    "duration": 30,
    "start_time": "2023-04-29T10:44:48.163Z"
   },
   {
    "duration": 103,
    "start_time": "2023-04-29T10:44:48.201Z"
   },
   {
    "duration": 63472,
    "start_time": "2023-04-29T10:44:48.307Z"
   },
   {
    "duration": 986,
    "start_time": "2023-04-29T10:45:51.789Z"
   },
   {
    "duration": 1633,
    "start_time": "2023-04-29T10:51:06.613Z"
   },
   {
    "duration": 3,
    "start_time": "2023-04-29T10:51:08.249Z"
   },
   {
    "duration": 4,
    "start_time": "2023-04-29T10:51:08.255Z"
   },
   {
    "duration": 5,
    "start_time": "2023-04-29T10:51:08.262Z"
   },
   {
    "duration": 66,
    "start_time": "2023-04-29T10:51:08.285Z"
   },
   {
    "duration": 26,
    "start_time": "2023-04-29T10:51:08.353Z"
   },
   {
    "duration": 22,
    "start_time": "2023-04-29T10:51:08.382Z"
   },
   {
    "duration": 9,
    "start_time": "2023-04-29T10:51:08.407Z"
   },
   {
    "duration": 25,
    "start_time": "2023-04-29T10:51:08.420Z"
   },
   {
    "duration": 5,
    "start_time": "2023-04-29T10:51:08.450Z"
   },
   {
    "duration": 53,
    "start_time": "2023-04-29T10:51:08.457Z"
   },
   {
    "duration": 12,
    "start_time": "2023-04-29T10:51:08.513Z"
   },
   {
    "duration": 8,
    "start_time": "2023-04-29T10:51:08.527Z"
   },
   {
    "duration": 165,
    "start_time": "2023-04-29T10:51:08.538Z"
   },
   {
    "duration": 7,
    "start_time": "2023-04-29T10:51:08.706Z"
   },
   {
    "duration": 131,
    "start_time": "2023-04-29T10:51:08.715Z"
   },
   {
    "duration": 15,
    "start_time": "2023-04-29T10:51:08.848Z"
   },
   {
    "duration": 4,
    "start_time": "2023-04-29T10:51:08.866Z"
   },
   {
    "duration": 76,
    "start_time": "2023-04-29T10:51:08.893Z"
   },
   {
    "duration": 352,
    "start_time": "2023-04-29T10:51:08.971Z"
   },
   {
    "duration": 3248,
    "start_time": "2023-04-29T10:51:09.325Z"
   },
   {
    "duration": 54,
    "start_time": "2023-04-29T10:51:12.576Z"
   },
   {
    "duration": 3,
    "start_time": "2023-04-29T10:51:12.632Z"
   },
   {
    "duration": 35,
    "start_time": "2023-04-29T10:51:12.637Z"
   },
   {
    "duration": 15,
    "start_time": "2023-04-29T10:51:12.674Z"
   },
   {
    "duration": 41,
    "start_time": "2023-04-29T10:51:12.691Z"
   },
   {
    "duration": 12,
    "start_time": "2023-04-29T10:51:12.735Z"
   },
   {
    "duration": 158,
    "start_time": "2023-04-29T10:51:12.755Z"
   },
   {
    "duration": 69532,
    "start_time": "2023-04-29T10:51:12.915Z"
   },
   {
    "duration": 1177,
    "start_time": "2023-04-29T10:52:22.450Z"
   },
   {
    "duration": 377522,
    "start_time": "2023-04-29T10:52:23.629Z"
   },
   {
    "duration": 1614,
    "start_time": "2023-04-29T10:58:41.153Z"
   },
   {
    "duration": 389,
    "start_time": "2023-04-29T10:58:42.769Z"
   },
   {
    "duration": 230,
    "start_time": "2023-04-29T10:58:43.160Z"
   },
   {
    "duration": 8,
    "start_time": "2023-04-29T10:58:43.392Z"
   },
   {
    "duration": 7,
    "start_time": "2023-04-29T10:58:43.403Z"
   },
   {
    "duration": 74,
    "start_time": "2023-04-29T10:58:43.413Z"
   },
   {
    "duration": 509,
    "start_time": "2023-04-29T10:58:43.490Z"
   },
   {
    "duration": 71933,
    "start_time": "2023-04-29T10:58:44.001Z"
   },
   {
    "duration": 1497,
    "start_time": "2023-04-29T10:59:55.936Z"
   },
   {
    "duration": 417,
    "start_time": "2023-04-29T10:59:57.435Z"
   },
   {
    "duration": 4,
    "start_time": "2023-04-29T10:59:57.854Z"
   },
   {
    "duration": 30,
    "start_time": "2023-04-29T10:59:57.860Z"
   },
   {
    "duration": 105,
    "start_time": "2023-04-29T10:59:57.893Z"
   },
   {
    "duration": 103655,
    "start_time": "2023-04-29T10:59:58.001Z"
   },
   {
    "duration": 2296,
    "start_time": "2023-04-29T11:01:41.659Z"
   },
   {
    "duration": 534703,
    "start_time": "2023-04-29T11:01:43.957Z"
   },
   {
    "duration": 8469,
    "start_time": "2023-04-29T11:10:38.661Z"
   },
   {
    "duration": 4,
    "start_time": "2023-04-29T11:10:47.132Z"
   },
   {
    "duration": 12,
    "start_time": "2023-04-29T11:10:47.138Z"
   },
   {
    "duration": 52,
    "start_time": "2023-04-29T11:10:47.151Z"
   },
   {
    "duration": 34548,
    "start_time": "2023-04-29T11:10:47.205Z"
   },
   {
    "duration": 475,
    "start_time": "2023-04-29T11:11:21.756Z"
   },
   {
    "duration": 160787,
    "start_time": "2023-04-29T11:11:22.233Z"
   },
   {
    "duration": 708,
    "start_time": "2023-04-29T11:14:03.022Z"
   },
   {
    "duration": 5,
    "start_time": "2023-04-29T11:14:03.732Z"
   },
   {
    "duration": 52,
    "start_time": "2023-04-29T11:14:03.739Z"
   },
   {
    "duration": 23,
    "start_time": "2023-04-29T11:14:03.796Z"
   },
   {
    "duration": 1812,
    "start_time": "2023-04-29T11:14:03.821Z"
   },
   {
    "duration": 286,
    "start_time": "2023-04-29T11:14:05.635Z"
   },
   {
    "duration": 577,
    "start_time": "2023-04-29T11:14:05.922Z"
   },
   {
    "duration": 7310,
    "start_time": "2023-04-29T11:14:06.506Z"
   },
   {
    "duration": 3143,
    "start_time": "2023-04-29T15:07:22.527Z"
   },
   {
    "duration": 3,
    "start_time": "2023-04-29T15:07:25.673Z"
   },
   {
    "duration": 27,
    "start_time": "2023-04-29T15:07:25.679Z"
   },
   {
    "duration": 11,
    "start_time": "2023-04-29T15:07:25.708Z"
   },
   {
    "duration": 183,
    "start_time": "2023-04-29T15:07:25.723Z"
   },
   {
    "duration": 23,
    "start_time": "2023-04-29T15:07:25.910Z"
   },
   {
    "duration": 15,
    "start_time": "2023-04-29T15:07:25.936Z"
   },
   {
    "duration": 6,
    "start_time": "2023-04-29T15:07:25.953Z"
   },
   {
    "duration": 10,
    "start_time": "2023-04-29T15:07:25.960Z"
   },
   {
    "duration": 29,
    "start_time": "2023-04-29T15:07:25.972Z"
   },
   {
    "duration": 31,
    "start_time": "2023-04-29T15:07:26.004Z"
   },
   {
    "duration": 9,
    "start_time": "2023-04-29T15:07:26.036Z"
   },
   {
    "duration": 15,
    "start_time": "2023-04-29T15:07:26.047Z"
   },
   {
    "duration": 159,
    "start_time": "2023-04-29T15:07:26.065Z"
   },
   {
    "duration": 6,
    "start_time": "2023-04-29T15:07:26.226Z"
   },
   {
    "duration": 150,
    "start_time": "2023-04-29T15:07:26.234Z"
   },
   {
    "duration": 17,
    "start_time": "2023-04-29T15:07:26.389Z"
   },
   {
    "duration": 3,
    "start_time": "2023-04-29T15:07:26.409Z"
   },
   {
    "duration": 62,
    "start_time": "2023-04-29T15:07:26.414Z"
   },
   {
    "duration": 336,
    "start_time": "2023-04-29T15:07:26.478Z"
   },
   {
    "duration": 3489,
    "start_time": "2023-04-29T15:07:26.815Z"
   },
   {
    "duration": 31,
    "start_time": "2023-04-29T15:07:30.306Z"
   },
   {
    "duration": 3,
    "start_time": "2023-04-29T15:07:30.339Z"
   },
   {
    "duration": 50,
    "start_time": "2023-04-29T15:07:30.343Z"
   },
   {
    "duration": 29,
    "start_time": "2023-04-29T15:07:30.395Z"
   },
   {
    "duration": 82,
    "start_time": "2023-04-29T15:07:30.425Z"
   },
   {
    "duration": 30,
    "start_time": "2023-04-29T15:07:30.511Z"
   },
   {
    "duration": 152,
    "start_time": "2023-04-29T15:07:30.544Z"
   },
   {
    "duration": 71250,
    "start_time": "2023-04-29T15:07:30.710Z"
   },
   {
    "duration": 1710,
    "start_time": "2023-04-29T15:08:41.963Z"
   },
   {
    "duration": 365334,
    "start_time": "2023-04-29T15:08:43.675Z"
   },
   {
    "duration": 1495,
    "start_time": "2023-04-29T15:14:49.011Z"
   },
   {
    "duration": 329,
    "start_time": "2023-04-29T15:14:50.510Z"
   },
   {
    "duration": 190,
    "start_time": "2023-04-29T15:14:50.842Z"
   },
   {
    "duration": 6,
    "start_time": "2023-04-29T15:14:51.034Z"
   },
   {
    "duration": 6,
    "start_time": "2023-04-29T15:14:51.042Z"
   },
   {
    "duration": 148,
    "start_time": "2023-04-29T15:14:51.049Z"
   },
   {
    "duration": 473,
    "start_time": "2023-04-29T15:14:51.199Z"
   },
   {
    "duration": 68707,
    "start_time": "2023-04-29T15:14:51.675Z"
   },
   {
    "duration": 1635,
    "start_time": "2023-04-29T15:16:00.384Z"
   },
   {
    "duration": 383,
    "start_time": "2023-04-29T15:16:02.024Z"
   },
   {
    "duration": 6,
    "start_time": "2023-04-29T15:16:02.409Z"
   },
   {
    "duration": 13,
    "start_time": "2023-04-29T15:16:02.416Z"
   },
   {
    "duration": 85,
    "start_time": "2023-04-29T15:16:02.431Z"
   },
   {
    "duration": 102667,
    "start_time": "2023-04-29T15:16:02.594Z"
   },
   {
    "duration": 2194,
    "start_time": "2023-04-29T15:17:45.263Z"
   },
   {
    "duration": 543286,
    "start_time": "2023-04-29T15:17:47.458Z"
   },
   {
    "duration": 8708,
    "start_time": "2023-04-29T15:26:50.746Z"
   },
   {
    "duration": 5,
    "start_time": "2023-04-29T15:26:59.455Z"
   },
   {
    "duration": 12,
    "start_time": "2023-04-29T15:26:59.462Z"
   },
   {
    "duration": 112,
    "start_time": "2023-04-29T15:26:59.476Z"
   },
   {
    "duration": 40865,
    "start_time": "2023-04-29T15:26:59.613Z"
   },
   {
    "duration": 1234,
    "start_time": "2023-04-29T15:27:40.480Z"
   },
   {
    "duration": 384917,
    "start_time": "2023-04-29T15:27:41.718Z"
   },
   {
    "duration": 504,
    "start_time": "2023-04-29T15:34:06.638Z"
   },
   {
    "duration": 7,
    "start_time": "2023-04-29T15:34:07.149Z"
   },
   {
    "duration": 54,
    "start_time": "2023-04-29T15:34:07.158Z"
   },
   {
    "duration": 25,
    "start_time": "2023-04-29T15:34:07.223Z"
   },
   {
    "duration": 1887,
    "start_time": "2023-04-29T15:34:07.250Z"
   },
   {
    "duration": 310,
    "start_time": "2023-04-29T15:34:09.141Z"
   },
   {
    "duration": 557,
    "start_time": "2023-04-29T15:34:09.452Z"
   },
   {
    "duration": 9459,
    "start_time": "2023-04-29T15:34:10.017Z"
   },
   {
    "duration": 81,
    "start_time": "2023-04-30T09:51:27.813Z"
   },
   {
    "duration": 73,
    "start_time": "2023-04-30T09:51:33.349Z"
   },
   {
    "duration": 47,
    "start_time": "2023-04-30T11:35:46.442Z"
   },
   {
    "duration": 7,
    "start_time": "2023-04-30T11:36:16.119Z"
   },
   {
    "duration": 1791,
    "start_time": "2023-04-30T11:36:26.145Z"
   },
   {
    "duration": 3,
    "start_time": "2023-04-30T11:36:27.939Z"
   },
   {
    "duration": 20,
    "start_time": "2023-04-30T11:36:27.944Z"
   },
   {
    "duration": 8,
    "start_time": "2023-04-30T11:36:27.966Z"
   },
   {
    "duration": 166,
    "start_time": "2023-04-30T11:36:27.976Z"
   },
   {
    "duration": 23,
    "start_time": "2023-04-30T11:36:28.144Z"
   },
   {
    "duration": 17,
    "start_time": "2023-04-30T11:36:28.169Z"
   },
   {
    "duration": 7,
    "start_time": "2023-04-30T11:36:28.188Z"
   },
   {
    "duration": 7,
    "start_time": "2023-04-30T11:36:28.198Z"
   },
   {
    "duration": 6,
    "start_time": "2023-04-30T11:36:28.207Z"
   },
   {
    "duration": 26,
    "start_time": "2023-04-30T11:36:28.214Z"
   },
   {
    "duration": 12,
    "start_time": "2023-04-30T11:36:28.242Z"
   },
   {
    "duration": 7,
    "start_time": "2023-04-30T11:36:28.290Z"
   },
   {
    "duration": 187,
    "start_time": "2023-04-30T11:36:28.300Z"
   },
   {
    "duration": 5,
    "start_time": "2023-04-30T11:36:28.489Z"
   },
   {
    "duration": 148,
    "start_time": "2023-04-30T11:36:28.496Z"
   },
   {
    "duration": 7,
    "start_time": "2023-04-30T11:36:28.646Z"
   },
   {
    "duration": 5,
    "start_time": "2023-04-30T11:36:28.655Z"
   },
   {
    "duration": 74,
    "start_time": "2023-04-30T11:36:28.662Z"
   },
   {
    "duration": 332,
    "start_time": "2023-04-30T11:36:28.739Z"
   },
   {
    "duration": 3313,
    "start_time": "2023-04-30T11:36:29.073Z"
   },
   {
    "duration": 32,
    "start_time": "2023-04-30T11:36:32.388Z"
   },
   {
    "duration": 4,
    "start_time": "2023-04-30T11:36:32.422Z"
   },
   {
    "duration": 6,
    "start_time": "2023-04-30T11:36:32.428Z"
   },
   {
    "duration": 19,
    "start_time": "2023-04-30T11:36:32.436Z"
   },
   {
    "duration": 52,
    "start_time": "2023-04-30T11:36:32.457Z"
   },
   {
    "duration": 8,
    "start_time": "2023-04-30T11:36:32.511Z"
   },
   {
    "duration": 75,
    "start_time": "2023-04-30T11:36:32.524Z"
   },
   {
    "duration": 66778,
    "start_time": "2023-04-30T11:36:32.600Z"
   },
   {
    "duration": 255,
    "start_time": "2023-04-30T11:37:39.380Z"
   },
   {
    "duration": 1582,
    "start_time": "2023-04-30T11:43:15.929Z"
   },
   {
    "duration": 3,
    "start_time": "2023-04-30T11:43:17.514Z"
   },
   {
    "duration": 7,
    "start_time": "2023-04-30T11:43:17.518Z"
   },
   {
    "duration": 3,
    "start_time": "2023-04-30T11:43:17.527Z"
   },
   {
    "duration": 46,
    "start_time": "2023-04-30T11:43:17.532Z"
   },
   {
    "duration": 16,
    "start_time": "2023-04-30T11:43:17.579Z"
   },
   {
    "duration": 14,
    "start_time": "2023-04-30T11:43:17.597Z"
   },
   {
    "duration": 6,
    "start_time": "2023-04-30T11:43:17.613Z"
   },
   {
    "duration": 7,
    "start_time": "2023-04-30T11:43:17.621Z"
   },
   {
    "duration": 5,
    "start_time": "2023-04-30T11:43:17.630Z"
   },
   {
    "duration": 54,
    "start_time": "2023-04-30T11:43:17.637Z"
   },
   {
    "duration": 10,
    "start_time": "2023-04-30T11:43:17.692Z"
   },
   {
    "duration": 7,
    "start_time": "2023-04-30T11:43:17.703Z"
   },
   {
    "duration": 168,
    "start_time": "2023-04-30T11:43:17.712Z"
   },
   {
    "duration": 8,
    "start_time": "2023-04-30T11:43:17.881Z"
   },
   {
    "duration": 158,
    "start_time": "2023-04-30T11:43:17.891Z"
   },
   {
    "duration": 7,
    "start_time": "2023-04-30T11:43:18.051Z"
   },
   {
    "duration": 9,
    "start_time": "2023-04-30T11:43:18.061Z"
   },
   {
    "duration": 72,
    "start_time": "2023-04-30T11:43:18.071Z"
   },
   {
    "duration": 330,
    "start_time": "2023-04-30T11:43:18.144Z"
   },
   {
    "duration": 3178,
    "start_time": "2023-04-30T11:43:18.476Z"
   },
   {
    "duration": 35,
    "start_time": "2023-04-30T11:43:21.656Z"
   },
   {
    "duration": 4,
    "start_time": "2023-04-30T11:43:21.693Z"
   },
   {
    "duration": 15,
    "start_time": "2023-04-30T11:43:21.698Z"
   },
   {
    "duration": 8,
    "start_time": "2023-04-30T11:43:21.715Z"
   },
   {
    "duration": 34,
    "start_time": "2023-04-30T11:43:21.725Z"
   },
   {
    "duration": 8,
    "start_time": "2023-04-30T11:43:21.761Z"
   },
   {
    "duration": 44,
    "start_time": "2023-04-30T11:43:21.773Z"
   },
   {
    "duration": 63047,
    "start_time": "2023-04-30T11:43:21.903Z"
   },
   {
    "duration": 257,
    "start_time": "2023-04-30T11:44:24.951Z"
   },
   {
    "duration": 346148,
    "start_time": "2023-04-30T11:44:25.209Z"
   },
   {
    "duration": 1575,
    "start_time": "2023-04-30T11:50:11.359Z"
   },
   {
    "duration": 319,
    "start_time": "2023-04-30T11:50:12.936Z"
   },
   {
    "duration": 197,
    "start_time": "2023-04-30T11:50:13.257Z"
   },
   {
    "duration": 7,
    "start_time": "2023-04-30T11:50:13.455Z"
   },
   {
    "duration": 6,
    "start_time": "2023-04-30T11:50:13.463Z"
   },
   {
    "duration": 108,
    "start_time": "2023-04-30T11:50:13.490Z"
   },
   {
    "duration": 589,
    "start_time": "2023-04-30T11:50:13.600Z"
   },
   {
    "duration": 65337,
    "start_time": "2023-04-30T11:50:14.191Z"
   },
   {
    "duration": 1230,
    "start_time": "2023-04-30T11:51:19.530Z"
   },
   {
    "duration": 348,
    "start_time": "2023-04-30T11:51:20.762Z"
   },
   {
    "duration": 5,
    "start_time": "2023-04-30T11:51:21.112Z"
   },
   {
    "duration": 30,
    "start_time": "2023-04-30T11:51:21.119Z"
   },
   {
    "duration": 50,
    "start_time": "2023-04-30T11:51:21.151Z"
   },
   {
    "duration": 92936,
    "start_time": "2023-04-30T11:51:21.202Z"
   },
   {
    "duration": 656,
    "start_time": "2023-04-30T11:52:54.140Z"
   },
   {
    "duration": 520463,
    "start_time": "2023-04-30T11:52:54.798Z"
   },
   {
    "duration": 8444,
    "start_time": "2023-04-30T12:01:35.264Z"
   },
   {
    "duration": 6,
    "start_time": "2023-04-30T12:01:43.710Z"
   },
   {
    "duration": 45,
    "start_time": "2023-04-30T12:01:43.717Z"
   },
   {
    "duration": 30,
    "start_time": "2023-04-30T12:01:43.764Z"
   },
   {
    "duration": 36733,
    "start_time": "2023-04-30T12:01:43.796Z"
   },
   {
    "duration": 792,
    "start_time": "2023-04-30T12:02:20.531Z"
   },
   {
    "duration": 178030,
    "start_time": "2023-04-30T12:02:21.325Z"
   },
   {
    "duration": 482,
    "start_time": "2023-04-30T12:05:19.357Z"
   },
   {
    "duration": 5,
    "start_time": "2023-04-30T12:05:19.840Z"
   },
   {
    "duration": 43,
    "start_time": "2023-04-30T12:05:19.847Z"
   },
   {
    "duration": 25,
    "start_time": "2023-04-30T12:05:19.893Z"
   },
   {
    "duration": 1951,
    "start_time": "2023-04-30T12:05:19.920Z"
   },
   {
    "duration": 351,
    "start_time": "2023-04-30T12:05:21.873Z"
   },
   {
    "duration": 604,
    "start_time": "2023-04-30T12:05:22.226Z"
   },
   {
    "duration": 6651,
    "start_time": "2023-04-30T12:05:22.832Z"
   },
   {
    "duration": 4,
    "start_time": "2023-04-30T12:54:34.977Z"
   },
   {
    "duration": 10,
    "start_time": "2023-04-30T12:55:17.825Z"
   },
   {
    "duration": 4,
    "start_time": "2023-04-30T12:56:24.262Z"
   },
   {
    "duration": 9,
    "start_time": "2023-04-30T12:56:27.204Z"
   },
   {
    "duration": 4,
    "start_time": "2023-04-30T12:57:30.231Z"
   },
   {
    "duration": 5,
    "start_time": "2023-04-30T12:57:44.272Z"
   },
   {
    "duration": 7,
    "start_time": "2023-04-30T13:01:26.848Z"
   },
   {
    "duration": 10,
    "start_time": "2023-04-30T13:01:29.752Z"
   },
   {
    "duration": 13,
    "start_time": "2023-04-30T13:02:33.685Z"
   },
   {
    "duration": 7,
    "start_time": "2023-04-30T13:04:29.162Z"
   },
   {
    "duration": 8,
    "start_time": "2023-04-30T13:04:33.221Z"
   },
   {
    "duration": 15,
    "start_time": "2023-04-30T13:04:51.562Z"
   },
   {
    "duration": 128,
    "start_time": "2023-04-30T13:06:52.053Z"
   },
   {
    "duration": 19,
    "start_time": "2023-04-30T13:07:04.326Z"
   },
   {
    "duration": 6,
    "start_time": "2023-04-30T13:07:13.533Z"
   },
   {
    "duration": 7,
    "start_time": "2023-04-30T13:09:33.733Z"
   },
   {
    "duration": 10,
    "start_time": "2023-04-30T13:09:35.374Z"
   },
   {
    "duration": 11,
    "start_time": "2023-04-30T13:10:08.264Z"
   },
   {
    "duration": 3,
    "start_time": "2023-04-30T13:10:55.700Z"
   },
   {
    "duration": 11,
    "start_time": "2023-04-30T13:11:01.459Z"
   },
   {
    "duration": 6,
    "start_time": "2023-04-30T13:12:27.145Z"
   },
   {
    "duration": 10,
    "start_time": "2023-04-30T13:12:37.054Z"
   },
   {
    "duration": 24,
    "start_time": "2023-04-30T13:14:38.584Z"
   },
   {
    "duration": 9,
    "start_time": "2023-04-30T13:14:53.386Z"
   },
   {
    "duration": 4,
    "start_time": "2023-04-30T13:15:09.484Z"
   },
   {
    "duration": 4,
    "start_time": "2023-04-30T13:15:19.530Z"
   },
   {
    "duration": 10,
    "start_time": "2023-04-30T13:15:21.936Z"
   },
   {
    "duration": 10,
    "start_time": "2023-04-30T13:24:22.689Z"
   },
   {
    "duration": 13,
    "start_time": "2023-04-30T13:24:27.270Z"
   },
   {
    "duration": 10,
    "start_time": "2023-04-30T13:26:37.090Z"
   },
   {
    "duration": 11,
    "start_time": "2023-04-30T13:26:56.112Z"
   },
   {
    "duration": 10,
    "start_time": "2023-04-30T13:29:23.434Z"
   },
   {
    "duration": 11,
    "start_time": "2023-04-30T13:36:04.364Z"
   },
   {
    "duration": 10,
    "start_time": "2023-04-30T13:36:55.301Z"
   },
   {
    "duration": 83,
    "start_time": "2023-04-30T13:38:30.128Z"
   },
   {
    "duration": 11,
    "start_time": "2023-04-30T13:38:38.719Z"
   },
   {
    "duration": 1607,
    "start_time": "2023-04-30T13:39:16.628Z"
   },
   {
    "duration": 3,
    "start_time": "2023-04-30T13:39:18.237Z"
   },
   {
    "duration": 20,
    "start_time": "2023-04-30T13:39:18.243Z"
   },
   {
    "duration": 7,
    "start_time": "2023-04-30T13:39:18.266Z"
   },
   {
    "duration": 48,
    "start_time": "2023-04-30T13:39:18.275Z"
   },
   {
    "duration": 17,
    "start_time": "2023-04-30T13:39:18.325Z"
   },
   {
    "duration": 52,
    "start_time": "2023-04-30T13:39:18.344Z"
   },
   {
    "duration": 7,
    "start_time": "2023-04-30T13:39:18.398Z"
   },
   {
    "duration": 18,
    "start_time": "2023-04-30T13:39:18.408Z"
   },
   {
    "duration": 8,
    "start_time": "2023-04-30T13:39:18.430Z"
   },
   {
    "duration": 39,
    "start_time": "2023-04-30T13:39:18.440Z"
   },
   {
    "duration": 17,
    "start_time": "2023-04-30T13:39:18.482Z"
   },
   {
    "duration": 9,
    "start_time": "2023-04-30T13:39:18.502Z"
   },
   {
    "duration": 168,
    "start_time": "2023-04-30T13:39:18.514Z"
   },
   {
    "duration": 12,
    "start_time": "2023-04-30T13:39:18.688Z"
   },
   {
    "duration": 10,
    "start_time": "2023-04-30T13:39:18.702Z"
   },
   {
    "duration": 26,
    "start_time": "2023-04-30T13:39:18.714Z"
   },
   {
    "duration": 149,
    "start_time": "2023-04-30T13:39:18.742Z"
   },
   {
    "duration": 7,
    "start_time": "2023-04-30T13:39:18.893Z"
   },
   {
    "duration": 6,
    "start_time": "2023-04-30T13:39:18.902Z"
   },
   {
    "duration": 63,
    "start_time": "2023-04-30T13:39:18.910Z"
   },
   {
    "duration": 349,
    "start_time": "2023-04-30T13:39:18.990Z"
   },
   {
    "duration": 3257,
    "start_time": "2023-04-30T13:39:19.341Z"
   },
   {
    "duration": 32,
    "start_time": "2023-04-30T13:39:22.600Z"
   },
   {
    "duration": 4,
    "start_time": "2023-04-30T13:39:22.634Z"
   },
   {
    "duration": 9,
    "start_time": "2023-04-30T13:39:22.640Z"
   },
   {
    "duration": 7,
    "start_time": "2023-04-30T13:39:22.651Z"
   },
   {
    "duration": 29,
    "start_time": "2023-04-30T13:39:22.688Z"
   },
   {
    "duration": 8,
    "start_time": "2023-04-30T13:39:22.719Z"
   },
   {
    "duration": 165,
    "start_time": "2023-04-30T13:39:22.728Z"
   },
   {
    "duration": 59421,
    "start_time": "2023-04-30T13:39:22.895Z"
   },
   {
    "duration": 233,
    "start_time": "2023-04-30T13:40:22.318Z"
   },
   {
    "duration": 313858,
    "start_time": "2023-04-30T13:40:22.553Z"
   },
   {
    "duration": 880,
    "start_time": "2023-04-30T13:45:36.413Z"
   },
   {
    "duration": 338,
    "start_time": "2023-04-30T13:45:37.296Z"
   },
   {
    "duration": 182,
    "start_time": "2023-04-30T13:45:37.635Z"
   },
   {
    "duration": 6,
    "start_time": "2023-04-30T13:45:37.819Z"
   },
   {
    "duration": 6,
    "start_time": "2023-04-30T13:45:37.826Z"
   },
   {
    "duration": 156,
    "start_time": "2023-04-30T13:45:37.833Z"
   },
   {
    "duration": 453,
    "start_time": "2023-04-30T13:45:37.991Z"
   },
   {
    "duration": 60366,
    "start_time": "2023-04-30T13:45:38.446Z"
   },
   {
    "duration": 1213,
    "start_time": "2023-04-30T13:46:38.814Z"
   },
   {
    "duration": 376,
    "start_time": "2023-04-30T13:46:40.029Z"
   },
   {
    "duration": 6,
    "start_time": "2023-04-30T13:46:40.407Z"
   },
   {
    "duration": 21,
    "start_time": "2023-04-30T13:46:40.415Z"
   },
   {
    "duration": 59,
    "start_time": "2023-04-30T13:46:40.438Z"
   },
   {
    "duration": 82661,
    "start_time": "2023-04-30T13:46:40.499Z"
   },
   {
    "duration": 599,
    "start_time": "2023-04-30T13:48:03.162Z"
   },
   {
    "duration": 1512,
    "start_time": "2023-04-30T13:50:05.722Z"
   },
   {
    "duration": 3,
    "start_time": "2023-04-30T13:50:07.236Z"
   },
   {
    "duration": 11,
    "start_time": "2023-04-30T13:50:07.241Z"
   },
   {
    "duration": 14,
    "start_time": "2023-04-30T13:50:07.254Z"
   },
   {
    "duration": 47,
    "start_time": "2023-04-30T13:50:07.270Z"
   },
   {
    "duration": 17,
    "start_time": "2023-04-30T13:50:07.319Z"
   },
   {
    "duration": 15,
    "start_time": "2023-04-30T13:50:07.339Z"
   },
   {
    "duration": 7,
    "start_time": "2023-04-30T13:50:07.356Z"
   },
   {
    "duration": 26,
    "start_time": "2023-04-30T13:50:07.366Z"
   },
   {
    "duration": 14,
    "start_time": "2023-04-30T13:50:07.396Z"
   },
   {
    "duration": 28,
    "start_time": "2023-04-30T13:50:07.412Z"
   },
   {
    "duration": 11,
    "start_time": "2023-04-30T13:50:07.442Z"
   },
   {
    "duration": 14,
    "start_time": "2023-04-30T13:50:07.455Z"
   },
   {
    "duration": 167,
    "start_time": "2023-04-30T13:50:07.471Z"
   },
   {
    "duration": 92,
    "start_time": "2023-04-30T13:50:07.640Z"
   },
   {
    "duration": 0,
    "start_time": "2023-04-30T13:50:07.736Z"
   },
   {
    "duration": 0,
    "start_time": "2023-04-30T13:50:07.737Z"
   },
   {
    "duration": 0,
    "start_time": "2023-04-30T13:50:07.739Z"
   },
   {
    "duration": 0,
    "start_time": "2023-04-30T13:50:07.741Z"
   },
   {
    "duration": 0,
    "start_time": "2023-04-30T13:50:07.742Z"
   },
   {
    "duration": 0,
    "start_time": "2023-04-30T13:50:07.743Z"
   },
   {
    "duration": 0,
    "start_time": "2023-04-30T13:50:07.745Z"
   },
   {
    "duration": 0,
    "start_time": "2023-04-30T13:50:07.747Z"
   },
   {
    "duration": 0,
    "start_time": "2023-04-30T13:50:07.748Z"
   },
   {
    "duration": 0,
    "start_time": "2023-04-30T13:50:07.750Z"
   },
   {
    "duration": 0,
    "start_time": "2023-04-30T13:50:07.751Z"
   },
   {
    "duration": 0,
    "start_time": "2023-04-30T13:50:07.753Z"
   },
   {
    "duration": 0,
    "start_time": "2023-04-30T13:50:07.754Z"
   },
   {
    "duration": 0,
    "start_time": "2023-04-30T13:50:07.756Z"
   },
   {
    "duration": 0,
    "start_time": "2023-04-30T13:50:07.757Z"
   },
   {
    "duration": 0,
    "start_time": "2023-04-30T13:50:07.759Z"
   },
   {
    "duration": 0,
    "start_time": "2023-04-30T13:50:07.760Z"
   },
   {
    "duration": 0,
    "start_time": "2023-04-30T13:50:07.761Z"
   },
   {
    "duration": 0,
    "start_time": "2023-04-30T13:50:07.763Z"
   },
   {
    "duration": 0,
    "start_time": "2023-04-30T13:50:07.764Z"
   },
   {
    "duration": 0,
    "start_time": "2023-04-30T13:50:07.765Z"
   },
   {
    "duration": 0,
    "start_time": "2023-04-30T13:50:07.766Z"
   },
   {
    "duration": 0,
    "start_time": "2023-04-30T13:50:07.767Z"
   },
   {
    "duration": 0,
    "start_time": "2023-04-30T13:50:07.768Z"
   },
   {
    "duration": 0,
    "start_time": "2023-04-30T13:50:07.769Z"
   },
   {
    "duration": 0,
    "start_time": "2023-04-30T13:50:07.770Z"
   },
   {
    "duration": 0,
    "start_time": "2023-04-30T13:50:07.772Z"
   },
   {
    "duration": 0,
    "start_time": "2023-04-30T13:50:07.773Z"
   },
   {
    "duration": 0,
    "start_time": "2023-04-30T13:50:07.774Z"
   },
   {
    "duration": 0,
    "start_time": "2023-04-30T13:50:07.775Z"
   },
   {
    "duration": 0,
    "start_time": "2023-04-30T13:50:07.790Z"
   },
   {
    "duration": 0,
    "start_time": "2023-04-30T13:50:07.791Z"
   },
   {
    "duration": 0,
    "start_time": "2023-04-30T13:50:07.792Z"
   },
   {
    "duration": 0,
    "start_time": "2023-04-30T13:50:07.794Z"
   },
   {
    "duration": 0,
    "start_time": "2023-04-30T13:50:07.795Z"
   },
   {
    "duration": 0,
    "start_time": "2023-04-30T13:50:07.796Z"
   },
   {
    "duration": 0,
    "start_time": "2023-04-30T13:50:07.797Z"
   },
   {
    "duration": 0,
    "start_time": "2023-04-30T13:50:07.798Z"
   },
   {
    "duration": 0,
    "start_time": "2023-04-30T13:50:07.799Z"
   },
   {
    "duration": 0,
    "start_time": "2023-04-30T13:50:07.801Z"
   },
   {
    "duration": 0,
    "start_time": "2023-04-30T13:50:07.802Z"
   },
   {
    "duration": 0,
    "start_time": "2023-04-30T13:50:07.803Z"
   },
   {
    "duration": 0,
    "start_time": "2023-04-30T13:50:07.804Z"
   },
   {
    "duration": 0,
    "start_time": "2023-04-30T13:50:07.805Z"
   },
   {
    "duration": 0,
    "start_time": "2023-04-30T13:50:07.806Z"
   },
   {
    "duration": 0,
    "start_time": "2023-04-30T13:50:07.807Z"
   },
   {
    "duration": 0,
    "start_time": "2023-04-30T13:50:07.808Z"
   },
   {
    "duration": 0,
    "start_time": "2023-04-30T13:50:07.809Z"
   },
   {
    "duration": 0,
    "start_time": "2023-04-30T13:50:07.810Z"
   },
   {
    "duration": 0,
    "start_time": "2023-04-30T13:50:07.811Z"
   },
   {
    "duration": 75,
    "start_time": "2023-04-30T13:50:41.426Z"
   },
   {
    "duration": 1528,
    "start_time": "2023-04-30T13:51:00.807Z"
   },
   {
    "duration": 3,
    "start_time": "2023-04-30T13:51:02.337Z"
   },
   {
    "duration": 104,
    "start_time": "2023-04-30T13:51:02.341Z"
   },
   {
    "duration": 6,
    "start_time": "2023-04-30T13:51:02.447Z"
   },
   {
    "duration": 50,
    "start_time": "2023-04-30T13:51:02.455Z"
   },
   {
    "duration": 16,
    "start_time": "2023-04-30T13:51:02.506Z"
   },
   {
    "duration": 27,
    "start_time": "2023-04-30T13:51:02.524Z"
   },
   {
    "duration": 7,
    "start_time": "2023-04-30T13:51:02.553Z"
   },
   {
    "duration": 15,
    "start_time": "2023-04-30T13:51:02.561Z"
   },
   {
    "duration": 22,
    "start_time": "2023-04-30T13:51:02.579Z"
   },
   {
    "duration": 23,
    "start_time": "2023-04-30T13:51:02.603Z"
   },
   {
    "duration": 9,
    "start_time": "2023-04-30T13:51:02.628Z"
   },
   {
    "duration": 24,
    "start_time": "2023-04-30T13:51:02.639Z"
   },
   {
    "duration": 148,
    "start_time": "2023-04-30T13:51:02.665Z"
   },
   {
    "duration": 96,
    "start_time": "2023-04-30T13:51:02.815Z"
   },
   {
    "duration": 0,
    "start_time": "2023-04-30T13:51:02.914Z"
   },
   {
    "duration": 0,
    "start_time": "2023-04-30T13:51:02.916Z"
   },
   {
    "duration": 0,
    "start_time": "2023-04-30T13:51:02.917Z"
   },
   {
    "duration": 0,
    "start_time": "2023-04-30T13:51:02.918Z"
   },
   {
    "duration": 0,
    "start_time": "2023-04-30T13:51:02.919Z"
   },
   {
    "duration": 0,
    "start_time": "2023-04-30T13:51:02.920Z"
   },
   {
    "duration": 0,
    "start_time": "2023-04-30T13:51:02.921Z"
   },
   {
    "duration": 0,
    "start_time": "2023-04-30T13:51:02.922Z"
   },
   {
    "duration": 0,
    "start_time": "2023-04-30T13:51:02.923Z"
   },
   {
    "duration": 0,
    "start_time": "2023-04-30T13:51:02.924Z"
   },
   {
    "duration": 0,
    "start_time": "2023-04-30T13:51:02.925Z"
   },
   {
    "duration": 0,
    "start_time": "2023-04-30T13:51:02.926Z"
   },
   {
    "duration": 0,
    "start_time": "2023-04-30T13:51:02.927Z"
   },
   {
    "duration": 0,
    "start_time": "2023-04-30T13:51:02.928Z"
   },
   {
    "duration": 0,
    "start_time": "2023-04-30T13:51:02.929Z"
   },
   {
    "duration": 0,
    "start_time": "2023-04-30T13:51:02.930Z"
   },
   {
    "duration": 0,
    "start_time": "2023-04-30T13:51:02.932Z"
   },
   {
    "duration": 0,
    "start_time": "2023-04-30T13:51:02.933Z"
   },
   {
    "duration": 0,
    "start_time": "2023-04-30T13:51:02.934Z"
   },
   {
    "duration": 0,
    "start_time": "2023-04-30T13:51:02.935Z"
   },
   {
    "duration": 0,
    "start_time": "2023-04-30T13:51:02.936Z"
   },
   {
    "duration": 0,
    "start_time": "2023-04-30T13:51:02.937Z"
   },
   {
    "duration": 0,
    "start_time": "2023-04-30T13:51:02.938Z"
   },
   {
    "duration": 0,
    "start_time": "2023-04-30T13:51:02.939Z"
   },
   {
    "duration": 0,
    "start_time": "2023-04-30T13:51:02.941Z"
   },
   {
    "duration": 0,
    "start_time": "2023-04-30T13:51:02.942Z"
   },
   {
    "duration": 0,
    "start_time": "2023-04-30T13:51:02.943Z"
   },
   {
    "duration": 0,
    "start_time": "2023-04-30T13:51:02.945Z"
   },
   {
    "duration": 0,
    "start_time": "2023-04-30T13:51:02.946Z"
   },
   {
    "duration": 0,
    "start_time": "2023-04-30T13:51:02.947Z"
   },
   {
    "duration": 0,
    "start_time": "2023-04-30T13:51:02.948Z"
   },
   {
    "duration": 0,
    "start_time": "2023-04-30T13:51:02.950Z"
   },
   {
    "duration": 0,
    "start_time": "2023-04-30T13:51:02.951Z"
   },
   {
    "duration": 0,
    "start_time": "2023-04-30T13:51:02.952Z"
   },
   {
    "duration": 0,
    "start_time": "2023-04-30T13:51:02.989Z"
   },
   {
    "duration": 0,
    "start_time": "2023-04-30T13:51:02.991Z"
   },
   {
    "duration": 0,
    "start_time": "2023-04-30T13:51:02.992Z"
   },
   {
    "duration": 0,
    "start_time": "2023-04-30T13:51:02.993Z"
   },
   {
    "duration": 0,
    "start_time": "2023-04-30T13:51:02.995Z"
   },
   {
    "duration": 0,
    "start_time": "2023-04-30T13:51:02.996Z"
   },
   {
    "duration": 0,
    "start_time": "2023-04-30T13:51:02.997Z"
   },
   {
    "duration": 0,
    "start_time": "2023-04-30T13:51:02.998Z"
   },
   {
    "duration": 1,
    "start_time": "2023-04-30T13:51:02.999Z"
   },
   {
    "duration": 0,
    "start_time": "2023-04-30T13:51:03.000Z"
   },
   {
    "duration": 0,
    "start_time": "2023-04-30T13:51:03.002Z"
   },
   {
    "duration": 0,
    "start_time": "2023-04-30T13:51:03.003Z"
   },
   {
    "duration": 0,
    "start_time": "2023-04-30T13:51:03.005Z"
   },
   {
    "duration": 0,
    "start_time": "2023-04-30T13:51:03.006Z"
   },
   {
    "duration": 0,
    "start_time": "2023-04-30T13:51:03.007Z"
   },
   {
    "duration": 0,
    "start_time": "2023-04-30T13:51:03.008Z"
   },
   {
    "duration": 1604,
    "start_time": "2023-04-30T13:52:00.654Z"
   },
   {
    "duration": 3,
    "start_time": "2023-04-30T13:52:02.260Z"
   },
   {
    "duration": 12,
    "start_time": "2023-04-30T13:52:02.265Z"
   },
   {
    "duration": 13,
    "start_time": "2023-04-30T13:52:02.279Z"
   },
   {
    "duration": 51,
    "start_time": "2023-04-30T13:52:02.296Z"
   },
   {
    "duration": 16,
    "start_time": "2023-04-30T13:52:02.349Z"
   },
   {
    "duration": 14,
    "start_time": "2023-04-30T13:52:02.367Z"
   },
   {
    "duration": 8,
    "start_time": "2023-04-30T13:52:02.383Z"
   },
   {
    "duration": 23,
    "start_time": "2023-04-30T13:52:02.393Z"
   },
   {
    "duration": 18,
    "start_time": "2023-04-30T13:52:02.418Z"
   },
   {
    "duration": 24,
    "start_time": "2023-04-30T13:52:02.437Z"
   },
   {
    "duration": 10,
    "start_time": "2023-04-30T13:52:02.462Z"
   },
   {
    "duration": 32,
    "start_time": "2023-04-30T13:52:02.474Z"
   },
   {
    "duration": 154,
    "start_time": "2023-04-30T13:52:02.510Z"
   },
   {
    "duration": 9,
    "start_time": "2023-04-30T13:52:02.665Z"
   },
   {
    "duration": 18,
    "start_time": "2023-04-30T13:52:02.675Z"
   },
   {
    "duration": 11,
    "start_time": "2023-04-30T13:52:02.695Z"
   },
   {
    "duration": 151,
    "start_time": "2023-04-30T13:52:02.708Z"
   },
   {
    "duration": 7,
    "start_time": "2023-04-30T13:52:02.861Z"
   },
   {
    "duration": 14,
    "start_time": "2023-04-30T13:52:02.870Z"
   },
   {
    "duration": 57,
    "start_time": "2023-04-30T13:52:02.890Z"
   },
   {
    "duration": 343,
    "start_time": "2023-04-30T13:52:02.948Z"
   },
   {
    "duration": 2988,
    "start_time": "2023-04-30T13:52:03.293Z"
   },
   {
    "duration": 36,
    "start_time": "2023-04-30T13:52:06.283Z"
   },
   {
    "duration": 4,
    "start_time": "2023-04-30T13:52:06.321Z"
   },
   {
    "duration": 21,
    "start_time": "2023-04-30T13:52:06.326Z"
   },
   {
    "duration": 16,
    "start_time": "2023-04-30T13:52:06.349Z"
   },
   {
    "duration": 43,
    "start_time": "2023-04-30T13:52:06.366Z"
   },
   {
    "duration": 6,
    "start_time": "2023-04-30T13:52:06.411Z"
   },
   {
    "duration": 73,
    "start_time": "2023-04-30T13:52:06.419Z"
   },
   {
    "duration": 58413,
    "start_time": "2023-04-30T13:52:06.496Z"
   },
   {
    "duration": 230,
    "start_time": "2023-04-30T13:53:04.911Z"
   },
   {
    "duration": 309324,
    "start_time": "2023-04-30T13:53:05.143Z"
   },
   {
    "duration": 876,
    "start_time": "2023-04-30T13:58:14.468Z"
   },
   {
    "duration": 330,
    "start_time": "2023-04-30T13:58:15.346Z"
   },
   {
    "duration": 180,
    "start_time": "2023-04-30T13:58:15.678Z"
   },
   {
    "duration": 6,
    "start_time": "2023-04-30T13:58:15.860Z"
   },
   {
    "duration": 23,
    "start_time": "2023-04-30T13:58:15.868Z"
   },
   {
    "duration": 98,
    "start_time": "2023-04-30T13:58:15.893Z"
   },
   {
    "duration": 538,
    "start_time": "2023-04-30T13:58:15.995Z"
   },
   {
    "duration": 59723,
    "start_time": "2023-04-30T13:58:16.537Z"
   },
   {
    "duration": 1214,
    "start_time": "2023-04-30T13:59:16.262Z"
   },
   {
    "duration": 342,
    "start_time": "2023-04-30T13:59:17.478Z"
   },
   {
    "duration": 4,
    "start_time": "2023-04-30T13:59:17.822Z"
   },
   {
    "duration": 17,
    "start_time": "2023-04-30T13:59:17.828Z"
   },
   {
    "duration": 142,
    "start_time": "2023-04-30T13:59:17.847Z"
   },
   {
    "duration": 82928,
    "start_time": "2023-04-30T13:59:17.992Z"
   },
   {
    "duration": 595,
    "start_time": "2023-04-30T14:00:40.922Z"
   },
   {
    "duration": 439850,
    "start_time": "2023-04-30T14:00:41.519Z"
   },
   {
    "duration": 7077,
    "start_time": "2023-04-30T14:08:01.371Z"
   },
   {
    "duration": 5,
    "start_time": "2023-04-30T14:08:08.450Z"
   },
   {
    "duration": 30,
    "start_time": "2023-04-30T14:08:08.457Z"
   },
   {
    "duration": 45,
    "start_time": "2023-04-30T14:08:08.489Z"
   },
   {
    "duration": 32498,
    "start_time": "2023-04-30T14:08:08.593Z"
   },
   {
    "duration": 664,
    "start_time": "2023-04-30T14:08:41.093Z"
   },
   {
    "duration": 147985,
    "start_time": "2023-04-30T14:08:41.758Z"
   },
   {
    "duration": 694,
    "start_time": "2023-04-30T14:11:09.746Z"
   },
   {
    "duration": 7,
    "start_time": "2023-04-30T14:11:10.442Z"
   },
   {
    "duration": 55,
    "start_time": "2023-04-30T14:11:10.452Z"
   },
   {
    "duration": 18,
    "start_time": "2023-04-30T14:11:10.510Z"
   },
   {
    "duration": 1705,
    "start_time": "2023-04-30T14:11:10.531Z"
   },
   {
    "duration": 289,
    "start_time": "2023-04-30T14:11:12.238Z"
   },
   {
    "duration": 539,
    "start_time": "2023-04-30T14:11:12.529Z"
   },
   {
    "duration": 6548,
    "start_time": "2023-04-30T14:11:13.070Z"
   }
  ],
  "kernelspec": {
   "display_name": "Python 3 (ipykernel)",
   "language": "python",
   "name": "python3"
  },
  "language_info": {
   "codemirror_mode": {
    "name": "ipython",
    "version": 3
   },
   "file_extension": ".py",
   "mimetype": "text/x-python",
   "name": "python",
   "nbconvert_exporter": "python",
   "pygments_lexer": "ipython3",
   "version": "3.9.5"
  },
  "toc": {
   "base_numbering": 1,
   "nav_menu": {},
   "number_sections": true,
   "sideBar": true,
   "skip_h1_title": true,
   "title_cell": "Содержание",
   "title_sidebar": "Contents",
   "toc_cell": true,
   "toc_position": {},
   "toc_section_display": true,
   "toc_window_display": true
  }
 },
 "nbformat": 4,
 "nbformat_minor": 2
}
